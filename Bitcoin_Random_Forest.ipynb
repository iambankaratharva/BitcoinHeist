{
  "nbformat": 4,
  "nbformat_minor": 0,
  "metadata": {
    "colab": {
      "name": "Bitcoin - Random Forest.ipynb",
      "provenance": [],
      "collapsed_sections": []
    },
    "kernelspec": {
      "display_name": "Python 3",
      "name": "python3"
    }
  },
  "cells": [
    {
      "cell_type": "code",
      "metadata": {
        "colab": {
          "base_uri": "https://localhost:8080/"
        },
        "id": "ih46oKzvvu1h",
        "outputId": "b9085942-11aa-4066-9bc0-a5b9d31cac1d"
      },
      "source": [
        "# Mount the drive \n",
        "from google.colab import drive\n",
        "drive.mount('/content/drive')"
      ],
      "execution_count": 1,
      "outputs": [
        {
          "output_type": "stream",
          "text": [
            "Mounted at /content/drive\n"
          ],
          "name": "stdout"
        }
      ]
    },
    {
      "cell_type": "code",
      "metadata": {
        "colab": {
          "base_uri": "https://localhost:8080/"
        },
        "id": "zKUyzoPiwXH3",
        "outputId": "3e2e0714-497f-4b27-b336-26e399701d07"
      },
      "source": [
        "import pandas as pd \n",
        "from sklearn.model_selection import train_test_split\n",
        "data = pd.read_csv('/content/drive/MyDrive/Bitcoin Heist/final_data.csv')   #Change Path to your Drive Directory accordingly.\n",
        "data = data.drop(['address','Unnamed: 0'],axis = 1)\n",
        "data[\"label\"]= data[\"label\"].replace(28, \"white\") \n",
        "data[\"label\"]= data[\"label\"].replace('28', \"white\") \n",
        "classes = data.label.unique()"
      ],
      "execution_count": 2,
      "outputs": [
        {
          "output_type": "stream",
          "text": [
            "/usr/local/lib/python3.6/dist-packages/IPython/core/interactiveshell.py:2718: DtypeWarning: Columns (10) have mixed types.Specify dtype option on import or set low_memory=False.\n",
            "  interactivity=interactivity, compiler=compiler, result=result)\n"
          ],
          "name": "stderr"
        }
      ]
    },
    {
      "cell_type": "code",
      "metadata": {
        "colab": {
          "base_uri": "https://localhost:8080/"
        },
        "id": "qAOTJl0Z4mnv",
        "outputId": "6f480907-d903-4a01-83b5-f42189d7be91"
      },
      "source": [
        "print(data)"
      ],
      "execution_count": 3,
      "outputs": [
        {
          "output_type": "stream",
          "text": [
            "        year  day  length  ...  neighbors        income            label\n",
            "0       2017   11      18  ...          2  1.000500e+08  princetonCerber\n",
            "1       2016  132      44  ...          1  1.000000e+08   princetonLocky\n",
            "2       2016  246       0  ...          2  2.000000e+08  princetonCerber\n",
            "3       2016  322      72  ...          2  7.120000e+07  princetonCerber\n",
            "4       2016  238     144  ...          1  2.000000e+08   princetonLocky\n",
            "...      ...  ...     ...  ...        ...           ...              ...\n",
            "315195  2018  330       0  ...          2  2.503180e+09            white\n",
            "315196  2018  330       0  ...          2  1.000000e+09            white\n",
            "315197  2018  330       6  ...          1  3.000000e+08            white\n",
            "315198  2018  330       0  ...          2  1.372746e+09            white\n",
            "315199  2018  330       6  ...          2  2.397816e+09            white\n",
            "\n",
            "[315200 rows x 9 columns]\n"
          ],
          "name": "stdout"
        }
      ]
    },
    {
      "cell_type": "code",
      "metadata": {
        "id": "p1JphsSu4y14",
        "colab": {
          "base_uri": "https://localhost:8080/"
        },
        "outputId": "d8663a16-3ac9-473a-8540-20d5157b630b"
      },
      "source": [
        "print('Value Counts:\\n',data['label'].value_counts())\n",
        "print('Total labels: ',len(data['label'].unique()))"
      ],
      "execution_count": 4,
      "outputs": [
        {
          "output_type": "stream",
          "text": [
            "Value Counts:\n",
            " white                          232374\n",
            "paduaCryptoWall                 24780\n",
            "montrealCryptoLocker            18630\n",
            "princetonCerber                 18446\n",
            "princetonLocky                  13250\n",
            "montrealCryptXXX                 4838\n",
            "montrealNoobCrypt                 966\n",
            "montrealDMALockerv3               708\n",
            "montrealDMALocker                 502\n",
            "montrealSamSam                    124\n",
            "montrealGlobeImposter             110\n",
            "montrealCryptoTorLocker2015       110\n",
            "montrealGlobev3                    68\n",
            "montrealGlobe                      64\n",
            "montrealWannaCry                   56\n",
            "montrealRazy                       26\n",
            "montrealAPT                        22\n",
            "paduaKeRanger                      20\n",
            "montrealFlyper                     18\n",
            "montrealXTPLocker                  16\n",
            "montrealVenusLocker                14\n",
            "montrealCryptConsole               14\n",
            "montrealXLockerv5.0                14\n",
            "montrealEDA2                       12\n",
            "montrealJigSaw                      8\n",
            "paduaJigsaw                         4\n",
            "montrealComradeCircle               2\n",
            "montrealSam                         2\n",
            "montrealXLocker                     2\n",
            "Name: label, dtype: int64\n",
            "Total labels:  29\n"
          ],
          "name": "stdout"
        }
      ]
    },
    {
      "cell_type": "markdown",
      "metadata": {
        "id": "toS66ikgEe6B"
      },
      "source": [
        "Log Transformation - Run only Once"
      ]
    },
    {
      "cell_type": "code",
      "metadata": {
        "colab": {
          "base_uri": "https://localhost:8080/"
        },
        "id": "uUlrwK2X0lDc",
        "outputId": "64d99d36-61ac-4903-c410-bbf7ff0ad58c"
      },
      "source": [
        "import numpy as np\n",
        "eps = 0.001\n",
        "data['income'] = np.log(data.pop('income')+eps)\n",
        "data['weight'] = np.log(data.pop('weight')+eps)\n",
        "data['count'] = np.log(data.pop('count')+eps)\n",
        "data['looped'] = np.log(data.pop('looped')+eps)\n",
        "data['neighbors'] = np.log(data.pop('neighbors')+eps)\n",
        "data['length'] = np.log(data.pop('length')+eps)\n",
        "data['day'] = np.log(data.pop('day')+eps)\n",
        "\n",
        "print(data['length'].min())\n",
        "print(data['length'].max())\n",
        "print(data['count'].min())\n",
        "print(data['count'].max())\n",
        "print(data.looped.min())\n",
        "print(data.looped.max())\n",
        "print(data.neighbors.min())\n",
        "print(data.neighbors.max())\n",
        "print(data.income.min())\n",
        "print(data.income.max())\n",
        "print(data.weight.min())\n",
        "print(data.weight.max())"
      ],
      "execution_count": 5,
      "outputs": [
        {
          "output_type": "stream",
          "text": [
            "-6.907755278982137\n",
            "4.969820243996333\n",
            "0.0009995003330834232\n",
            "9.581628097267306\n",
            "-6.907755278982137\n",
            "9.581628097267306\n",
            "0.0009995003330834232\n",
            "7.340836202631495\n",
            "17.216707939659763\n",
            "31.536556508367305\n",
            "-6.907755278982137\n",
            "6.211181285295772\n"
          ],
          "name": "stdout"
        }
      ]
    },
    {
      "cell_type": "code",
      "metadata": {
        "colab": {
          "base_uri": "https://localhost:8080/"
        },
        "id": "GW0J0M2F0wG_",
        "outputId": "f798dc50-3cf3-4263-c0b5-6fa4a9c242d1"
      },
      "source": [
        "print(data)"
      ],
      "execution_count": 6,
      "outputs": [
        {
          "output_type": "stream",
          "text": [
            "        year            label     income  ...  neighbors    length       day\n",
            "0       2017  princetonCerber  18.421181  ...   0.693647  2.890427  2.397986\n",
            "1       2016   princetonLocky  18.420681  ...   0.001000  3.784212  4.882809\n",
            "2       2016  princetonCerber  19.113828  ...   0.693647 -6.907755  5.505336\n",
            "3       2016  princetonCerber  18.081003  ...   0.693647  4.276680  5.774555\n",
            "4       2016   princetonLocky  19.113828  ...   0.001000  4.969820  5.472275\n",
            "...      ...              ...        ...  ...        ...       ...       ...\n",
            "315195  2018            white  21.640828  ...   0.693647 -6.907755  5.799096\n",
            "315196  2018            white  20.723266  ...   0.693647 -6.907755  5.799096\n",
            "315197  2018            white  19.519293  ...   0.001000  1.791926  5.799096\n",
            "315198  2018            white  21.040079  ...   0.693647 -6.907755  5.799096\n",
            "315199  2018            white  21.597824  ...   0.693647  1.791926  5.799096\n",
            "\n",
            "[315200 rows x 9 columns]\n"
          ],
          "name": "stdout"
        }
      ]
    },
    {
      "cell_type": "code",
      "metadata": {
        "colab": {
          "base_uri": "https://localhost:8080/"
        },
        "id": "0-cryWPC5Hrh",
        "outputId": "1bcca58e-9673-4f42-8cf5-2bd40b1084ae"
      },
      "source": [
        "from sklearn.preprocessing import LabelEncoder\n",
        "le = LabelEncoder()\n",
        "data['label'] = le.fit_transform(data['label'])\n",
        "data['label'].unique()"
      ],
      "execution_count": 7,
      "outputs": [
        {
          "output_type": "execute_result",
          "data": {
            "text/plain": [
              "array([26, 27,  4,  3, 23, 19,  7,  5, 17,  9, 14,  6, 10,  8, 25, 18, 22,\n",
              "       24, 12, 13, 21, 20, 15,  2, 11, 16,  1,  0, 28])"
            ]
          },
          "metadata": {
            "tags": []
          },
          "execution_count": 7
        }
      ]
    },
    {
      "cell_type": "code",
      "metadata": {
        "colab": {
          "base_uri": "https://localhost:8080/"
        },
        "id": "875Ay7Y-6vOx",
        "outputId": "d02d390b-4b97-4e16-87bc-581a84c356d9"
      },
      "source": [
        "le.classes_"
      ],
      "execution_count": 8,
      "outputs": [
        {
          "output_type": "execute_result",
          "data": {
            "text/plain": [
              "array(['montrealAPT', 'montrealComradeCircle', 'montrealCryptConsole',\n",
              "       'montrealCryptXXX', 'montrealCryptoLocker',\n",
              "       'montrealCryptoTorLocker2015', 'montrealDMALocker',\n",
              "       'montrealDMALockerv3', 'montrealEDA2', 'montrealFlyper',\n",
              "       'montrealGlobe', 'montrealGlobeImposter', 'montrealGlobev3',\n",
              "       'montrealJigSaw', 'montrealNoobCrypt', 'montrealRazy',\n",
              "       'montrealSam', 'montrealSamSam', 'montrealVenusLocker',\n",
              "       'montrealWannaCry', 'montrealXLocker', 'montrealXLockerv5.0',\n",
              "       'montrealXTPLocker', 'paduaCryptoWall', 'paduaJigsaw',\n",
              "       'paduaKeRanger', 'princetonCerber', 'princetonLocky', 'white'],\n",
              "      dtype=object)"
            ]
          },
          "metadata": {
            "tags": []
          },
          "execution_count": 8
        }
      ]
    },
    {
      "cell_type": "code",
      "metadata": {
        "id": "K7_N9Nxh-Iga"
      },
      "source": [
        "X = data.loc[:, data.columns != 'label']\n",
        "y = data['label']"
      ],
      "execution_count": 9,
      "outputs": []
    },
    {
      "cell_type": "code",
      "metadata": {
        "colab": {
          "base_uri": "https://localhost:8080/"
        },
        "id": "HCkpJAHH-0Ob",
        "outputId": "74c899e2-6d4d-4d99-a687-1a6f4ce14cdb"
      },
      "source": [
        "print(X)\n",
        "print(y)"
      ],
      "execution_count": 11,
      "outputs": [
        {
          "output_type": "stream",
          "text": [
            "        year     income    weight  ...  neighbors    length       day\n",
            "0       2017  18.421181 -4.674163  ...   0.693647  2.890427  2.397986\n",
            "1       2016  18.420681 -6.689310  ...   0.001000  3.784212  4.882809\n",
            "2       2016  19.113828  0.001000  ...   0.693647 -6.907755  5.505336\n",
            "3       2016  18.081003 -5.317245  ...   0.693647  4.276680  5.774555\n",
            "4       2016  19.113828 -2.605741  ...   0.001000  4.969820  5.472275\n",
            "...      ...        ...       ...  ...        ...       ...       ...\n",
            "315195  2018  21.640828 -2.188265  ...   0.693647 -6.907755  5.799096\n",
            "315196  2018  20.723266 -0.691149  ...   0.693647 -6.907755  5.799096\n",
            "315197  2018  19.519293 -3.858840  ...   0.001000  1.791926  5.799096\n",
            "315198  2018  21.040079 -1.095617  ...   0.693647 -6.907755  5.799096\n",
            "315199  2018  21.597824  0.001000  ...   0.693647  1.791926  5.799096\n",
            "\n",
            "[315200 rows x 8 columns]\n",
            "0         26\n",
            "1         27\n",
            "2         26\n",
            "3         26\n",
            "4         27\n",
            "          ..\n",
            "315195    28\n",
            "315196    28\n",
            "315197    28\n",
            "315198    28\n",
            "315199    28\n",
            "Name: label, Length: 315200, dtype: int64\n"
          ],
          "name": "stdout"
        }
      ]
    },
    {
      "cell_type": "code",
      "metadata": {
        "id": "j3TKd_v59b8L"
      },
      "source": [
        "from sklearn.preprocessing import StandardScaler\n",
        "sc = StandardScaler()\n",
        "X = sc.fit_transform(X)"
      ],
      "execution_count": 12,
      "outputs": []
    },
    {
      "cell_type": "code",
      "metadata": {
        "id": "pzXebw--_imK"
      },
      "source": [
        "from sklearn.model_selection import train_test_split\n",
        "X_train, X_test, y_train, y_test = train_test_split(X, y , test_size = 0.2, random_state = 2020,stratify = y)"
      ],
      "execution_count": 13,
      "outputs": []
    },
    {
      "cell_type": "code",
      "metadata": {
        "colab": {
          "base_uri": "https://localhost:8080/"
        },
        "id": "qJwWPkUX_wXB",
        "outputId": "17705abe-55df-4b9e-80d6-18df9b041f87"
      },
      "source": [
        "print(len(X_train))\n",
        "print(len(X_test))\n",
        "print(len(y_train))\n",
        "print(len(y_test))"
      ],
      "execution_count": 14,
      "outputs": [
        {
          "output_type": "stream",
          "text": [
            "252160\n",
            "63040\n",
            "252160\n",
            "63040\n"
          ],
          "name": "stdout"
        }
      ]
    },
    {
      "cell_type": "code",
      "metadata": {
        "colab": {
          "base_uri": "https://localhost:8080/"
        },
        "id": "sdY1VF1lvynL",
        "outputId": "c3afe2fb-96e8-4d4a-e6fd-b43c3c437bda"
      },
      "source": [
        "from sklearn.ensemble import RandomForestClassifier\n",
        "\n",
        "model = RandomForestClassifier(n_estimators = 250, n_jobs=-1)\n",
        "# Add silent=True to avoid printing out updates with each cycle\n",
        "model.fit(X_train, y_train)"
      ],
      "execution_count": 23,
      "outputs": [
        {
          "output_type": "execute_result",
          "data": {
            "text/plain": [
              "RandomForestClassifier(bootstrap=True, ccp_alpha=0.0, class_weight=None,\n",
              "                       criterion='gini', max_depth=None, max_features='auto',\n",
              "                       max_leaf_nodes=None, max_samples=None,\n",
              "                       min_impurity_decrease=0.0, min_impurity_split=None,\n",
              "                       min_samples_leaf=1, min_samples_split=2,\n",
              "                       min_weight_fraction_leaf=0.0, n_estimators=250,\n",
              "                       n_jobs=-1, oob_score=False, random_state=None, verbose=0,\n",
              "                       warm_start=False)"
            ]
          },
          "metadata": {
            "tags": []
          },
          "execution_count": 23
        }
      ]
    },
    {
      "cell_type": "markdown",
      "metadata": {
        "id": "rtouWTyFi_2o"
      },
      "source": [
        "---\n",
        "\n",
        "\n",
        "Uncoment & run only once!!!\n",
        "\n",
        "\n",
        "---\n",
        "\n",
        "\n",
        "\n"
      ]
    },
    {
      "cell_type": "code",
      "metadata": {
        "id": "ZBVrRlLtdcIr",
        "colab": {
          "base_uri": "https://localhost:8080/"
        },
        "outputId": "a923a12d-05e5-432b-859a-eb900fcbfe59"
      },
      "source": [
        "#Not present in test set & RUN ONLY ONCE\n",
        "'''test_labels = np.delete(classes, [21,25,26])    \n",
        "print(test_labels)'''"
      ],
      "execution_count": 16,
      "outputs": [
        {
          "output_type": "stream",
          "text": [
            "['princetonCerber' 'princetonLocky' 'montrealCryptoLocker'\n",
            " 'montrealCryptXXX' 'paduaCryptoWall' 'montrealWannaCry'\n",
            " 'montrealDMALockerv3' 'montrealCryptoTorLocker2015' 'montrealSamSam'\n",
            " 'montrealFlyper' 'montrealNoobCrypt' 'montrealDMALocker' 'montrealGlobe'\n",
            " 'montrealEDA2' 'paduaKeRanger' 'montrealVenusLocker' 'montrealXTPLocker'\n",
            " 'paduaJigsaw' 'montrealGlobev3' 'montrealJigSaw' 'montrealXLockerv5.0'\n",
            " 'montrealRazy' 'montrealCryptConsole' 'montrealGlobeImposter'\n",
            " 'montrealAPT' 'white']\n"
          ],
          "name": "stdout"
        }
      ]
    },
    {
      "cell_type": "code",
      "metadata": {
        "colab": {
          "base_uri": "https://localhost:8080/"
        },
        "id": "4cCcA_C5FJlE",
        "outputId": "9f934faa-35d8-4776-cd83-24ecf53a74be"
      },
      "source": [
        "# make predictions\n",
        "predictions = model.predict(X_test)\n",
        "from sklearn.metrics import mean_absolute_error, accuracy_score, f1_score, recall_score, precision_score\n",
        "mae = mean_absolute_error(y_test, predictions)\n",
        "acc = accuracy_score(y_test, predictions)\n",
        "f1_score = f1_score(y_test, predictions,average='weighted')\n",
        "recall = recall_score(y_test, predictions,average='weighted')\n",
        "precision = precision_score(y_test, predictions,average='weighted')\n",
        "print(\"Mean Absolute Error : \",mae)\n",
        "print(\"Accuracy: \",acc)\n",
        "print(\"Recall: \",recall)\n",
        "print(\"Precision: \",precision)\n",
        "print(\"F1-score: \",f1_score)"
      ],
      "execution_count": 24,
      "outputs": [
        {
          "output_type": "stream",
          "text": [
            "Mean Absolute Error :  0.5493178934010152\n",
            "Accuracy:  0.9521890862944162\n",
            "Recall:  0.9521890862944162\n",
            "Precision:  0.9541207228564808\n",
            "F1-score:  0.9526678907493591\n"
          ],
          "name": "stdout"
        }
      ]
    },
    {
      "cell_type": "code",
      "metadata": {
        "colab": {
          "base_uri": "https://localhost:8080/"
        },
        "id": "uel6_mh7FOND",
        "outputId": "9e826fb4-7e98-44fa-de43-8ca703b5e238"
      },
      "source": [
        "from sklearn.metrics import classification_report\n",
        "classification_metrics = classification_report(y_test, predictions, target_names=test_labels, digits = 4)\n",
        "print(classification_metrics)"
      ],
      "execution_count": 18,
      "outputs": [
        {
          "output_type": "stream",
          "text": [
            "                             precision    recall  f1-score   support\n",
            "\n",
            "            princetonCerber     1.0000    1.0000    1.0000         4\n",
            "             princetonLocky     1.0000    1.0000    1.0000         3\n",
            "       montrealCryptoLocker     0.9615    0.9814    0.9714       968\n",
            "           montrealCryptXXX     0.8397    0.8956    0.8668      3726\n",
            "            paduaCryptoWall     1.0000    0.7273    0.8421        22\n",
            "           montrealWannaCry     0.8989    0.8000    0.8466       100\n",
            "        montrealDMALockerv3     0.8871    0.7746    0.8271       142\n",
            "montrealCryptoTorLocker2015     1.0000    1.0000    1.0000         2\n",
            "             montrealSamSam     1.0000    1.0000    1.0000         4\n",
            "             montrealFlyper     1.0000    0.6923    0.8182        13\n",
            "          montrealNoobCrypt     0.7619    0.7273    0.7442        22\n",
            "          montrealDMALocker     1.0000    0.7857    0.8800        14\n",
            "              montrealGlobe     1.0000    1.0000    1.0000         2\n",
            "               montrealEDA2     0.8613    0.7720    0.8142       193\n",
            "              paduaKeRanger     1.0000    1.0000    1.0000         5\n",
            "        montrealVenusLocker     0.9130    0.8400    0.8750        25\n",
            "          montrealXTPLocker     1.0000    1.0000    1.0000         3\n",
            "                paduaJigsaw     1.0000    1.0000    1.0000        11\n",
            "            montrealGlobev3     1.0000    1.0000    1.0000         3\n",
            "             montrealJigSaw     1.0000    0.3333    0.5000         3\n",
            "        montrealXLockerv5.0     0.8558    0.9530    0.9018      4956\n",
            "               montrealRazy     1.0000    1.0000    1.0000         1\n",
            "       montrealCryptConsole     1.0000    1.0000    1.0000         4\n",
            "      montrealGlobeImposter     0.8949    0.9534    0.9232      3689\n",
            "                montrealAPT     0.9210    0.9770    0.9482      2650\n",
            "                      white     0.9796    0.9550    0.9671     46475\n",
            "\n",
            "                   accuracy                         0.9511     63040\n",
            "                  macro avg     0.9529    0.8911    0.9125     63040\n",
            "               weighted avg     0.9531    0.9511    0.9516     63040\n",
            "\n"
          ],
          "name": "stdout"
        }
      ]
    },
    {
      "cell_type": "code",
      "metadata": {
        "colab": {
          "base_uri": "https://localhost:8080/",
          "height": 477
        },
        "id": "2rt9c7usErZn",
        "outputId": "e2e2a215-a4b7-4f83-d1ae-b6b852b1fc96"
      },
      "source": [
        "from sklearn.ensemble import RandomForestClassifier\n",
        "from sklearn.model_selection import GridSearchCV,StratifiedKFold\n",
        "\n",
        "model = RandomForestClassifier()\n",
        "\n",
        "parameters = {'n_estimators': [250],\n",
        "              'max_features' : ['auto', 'sqrt', 0.2]\n",
        "              }\n",
        "\n",
        "\n",
        "clf = GridSearchCV(model, parameters, n_jobs = 4,\n",
        "                   cv=StratifiedKFold(n_splits=2), \n",
        "                   scoring='accuracy',\n",
        "                   verbose=2, refit=True)\n",
        "\n",
        "clf.fit(X,y)\n",
        "print(clf.best_score_)\n",
        "print(clf.best_params_)"
      ],
      "execution_count": 27,
      "outputs": [
        {
          "output_type": "stream",
          "text": [
            "Fitting 2 folds for each of 3 candidates, totalling 6 fits\n"
          ],
          "name": "stdout"
        },
        {
          "output_type": "stream",
          "text": [
            "[Parallel(n_jobs=4)]: Using backend LokyBackend with 4 concurrent workers.\n",
            "[Parallel(n_jobs=4)]: Done   3 out of   6 | elapsed:  1.8min remaining:  1.8min\n"
          ],
          "name": "stderr"
        },
        {
          "output_type": "error",
          "ename": "TerminatedWorkerError",
          "evalue": "ignored",
          "traceback": [
            "\u001b[0;31m---------------------------------------------------------------------------\u001b[0m",
            "\u001b[0;31mTerminatedWorkerError\u001b[0m                     Traceback (most recent call last)",
            "\u001b[0;32m<ipython-input-27-39b21bad61d1>\u001b[0m in \u001b[0;36m<module>\u001b[0;34m()\u001b[0m\n\u001b[1;32m     14\u001b[0m                    verbose=2, refit=True)\n\u001b[1;32m     15\u001b[0m \u001b[0;34m\u001b[0m\u001b[0m\n\u001b[0;32m---> 16\u001b[0;31m \u001b[0mclf\u001b[0m\u001b[0;34m.\u001b[0m\u001b[0mfit\u001b[0m\u001b[0;34m(\u001b[0m\u001b[0mX\u001b[0m\u001b[0;34m,\u001b[0m\u001b[0my\u001b[0m\u001b[0;34m)\u001b[0m\u001b[0;34m\u001b[0m\u001b[0;34m\u001b[0m\u001b[0m\n\u001b[0m\u001b[1;32m     17\u001b[0m \u001b[0mprint\u001b[0m\u001b[0;34m(\u001b[0m\u001b[0mclf\u001b[0m\u001b[0;34m.\u001b[0m\u001b[0mbest_score_\u001b[0m\u001b[0;34m)\u001b[0m\u001b[0;34m\u001b[0m\u001b[0;34m\u001b[0m\u001b[0m\n\u001b[1;32m     18\u001b[0m \u001b[0mprint\u001b[0m\u001b[0;34m(\u001b[0m\u001b[0mclf\u001b[0m\u001b[0;34m.\u001b[0m\u001b[0mbest_params_\u001b[0m\u001b[0;34m)\u001b[0m\u001b[0;34m\u001b[0m\u001b[0;34m\u001b[0m\u001b[0m\n",
            "\u001b[0;32m/usr/local/lib/python3.6/dist-packages/sklearn/model_selection/_search.py\u001b[0m in \u001b[0;36mfit\u001b[0;34m(self, X, y, groups, **fit_params)\u001b[0m\n\u001b[1;32m    708\u001b[0m                 \u001b[0;32mreturn\u001b[0m \u001b[0mresults\u001b[0m\u001b[0;34m\u001b[0m\u001b[0;34m\u001b[0m\u001b[0m\n\u001b[1;32m    709\u001b[0m \u001b[0;34m\u001b[0m\u001b[0m\n\u001b[0;32m--> 710\u001b[0;31m             \u001b[0mself\u001b[0m\u001b[0;34m.\u001b[0m\u001b[0m_run_search\u001b[0m\u001b[0;34m(\u001b[0m\u001b[0mevaluate_candidates\u001b[0m\u001b[0;34m)\u001b[0m\u001b[0;34m\u001b[0m\u001b[0;34m\u001b[0m\u001b[0m\n\u001b[0m\u001b[1;32m    711\u001b[0m \u001b[0;34m\u001b[0m\u001b[0m\n\u001b[1;32m    712\u001b[0m         \u001b[0;31m# For multi-metric evaluation, store the best_index_, best_params_ and\u001b[0m\u001b[0;34m\u001b[0m\u001b[0;34m\u001b[0m\u001b[0;34m\u001b[0m\u001b[0m\n",
            "\u001b[0;32m/usr/local/lib/python3.6/dist-packages/sklearn/model_selection/_search.py\u001b[0m in \u001b[0;36m_run_search\u001b[0;34m(self, evaluate_candidates)\u001b[0m\n\u001b[1;32m   1149\u001b[0m     \u001b[0;32mdef\u001b[0m \u001b[0m_run_search\u001b[0m\u001b[0;34m(\u001b[0m\u001b[0mself\u001b[0m\u001b[0;34m,\u001b[0m \u001b[0mevaluate_candidates\u001b[0m\u001b[0;34m)\u001b[0m\u001b[0;34m:\u001b[0m\u001b[0;34m\u001b[0m\u001b[0;34m\u001b[0m\u001b[0m\n\u001b[1;32m   1150\u001b[0m         \u001b[0;34m\"\"\"Search all candidates in param_grid\"\"\"\u001b[0m\u001b[0;34m\u001b[0m\u001b[0;34m\u001b[0m\u001b[0m\n\u001b[0;32m-> 1151\u001b[0;31m         \u001b[0mevaluate_candidates\u001b[0m\u001b[0;34m(\u001b[0m\u001b[0mParameterGrid\u001b[0m\u001b[0;34m(\u001b[0m\u001b[0mself\u001b[0m\u001b[0;34m.\u001b[0m\u001b[0mparam_grid\u001b[0m\u001b[0;34m)\u001b[0m\u001b[0;34m)\u001b[0m\u001b[0;34m\u001b[0m\u001b[0;34m\u001b[0m\u001b[0m\n\u001b[0m\u001b[1;32m   1152\u001b[0m \u001b[0;34m\u001b[0m\u001b[0m\n\u001b[1;32m   1153\u001b[0m \u001b[0;34m\u001b[0m\u001b[0m\n",
            "\u001b[0;32m/usr/local/lib/python3.6/dist-packages/sklearn/model_selection/_search.py\u001b[0m in \u001b[0;36mevaluate_candidates\u001b[0;34m(candidate_params)\u001b[0m\n\u001b[1;32m    687\u001b[0m                                \u001b[0;32mfor\u001b[0m \u001b[0mparameters\u001b[0m\u001b[0;34m,\u001b[0m \u001b[0;34m(\u001b[0m\u001b[0mtrain\u001b[0m\u001b[0;34m,\u001b[0m \u001b[0mtest\u001b[0m\u001b[0;34m)\u001b[0m\u001b[0;34m\u001b[0m\u001b[0;34m\u001b[0m\u001b[0m\n\u001b[1;32m    688\u001b[0m                                in product(candidate_params,\n\u001b[0;32m--> 689\u001b[0;31m                                           cv.split(X, y, groups)))\n\u001b[0m\u001b[1;32m    690\u001b[0m \u001b[0;34m\u001b[0m\u001b[0m\n\u001b[1;32m    691\u001b[0m                 \u001b[0;32mif\u001b[0m \u001b[0mlen\u001b[0m\u001b[0;34m(\u001b[0m\u001b[0mout\u001b[0m\u001b[0;34m)\u001b[0m \u001b[0;34m<\u001b[0m \u001b[0;36m1\u001b[0m\u001b[0;34m:\u001b[0m\u001b[0;34m\u001b[0m\u001b[0;34m\u001b[0m\u001b[0m\n",
            "\u001b[0;32m/usr/local/lib/python3.6/dist-packages/joblib/parallel.py\u001b[0m in \u001b[0;36m__call__\u001b[0;34m(self, iterable)\u001b[0m\n\u001b[1;32m   1059\u001b[0m \u001b[0;34m\u001b[0m\u001b[0m\n\u001b[1;32m   1060\u001b[0m             \u001b[0;32mwith\u001b[0m \u001b[0mself\u001b[0m\u001b[0;34m.\u001b[0m\u001b[0m_backend\u001b[0m\u001b[0;34m.\u001b[0m\u001b[0mretrieval_context\u001b[0m\u001b[0;34m(\u001b[0m\u001b[0;34m)\u001b[0m\u001b[0;34m:\u001b[0m\u001b[0;34m\u001b[0m\u001b[0;34m\u001b[0m\u001b[0m\n\u001b[0;32m-> 1061\u001b[0;31m                 \u001b[0mself\u001b[0m\u001b[0;34m.\u001b[0m\u001b[0mretrieve\u001b[0m\u001b[0;34m(\u001b[0m\u001b[0;34m)\u001b[0m\u001b[0;34m\u001b[0m\u001b[0;34m\u001b[0m\u001b[0m\n\u001b[0m\u001b[1;32m   1062\u001b[0m             \u001b[0;31m# Make sure that we get a last message telling us we are done\u001b[0m\u001b[0;34m\u001b[0m\u001b[0;34m\u001b[0m\u001b[0;34m\u001b[0m\u001b[0m\n\u001b[1;32m   1063\u001b[0m             \u001b[0melapsed_time\u001b[0m \u001b[0;34m=\u001b[0m \u001b[0mtime\u001b[0m\u001b[0;34m.\u001b[0m\u001b[0mtime\u001b[0m\u001b[0;34m(\u001b[0m\u001b[0;34m)\u001b[0m \u001b[0;34m-\u001b[0m \u001b[0mself\u001b[0m\u001b[0;34m.\u001b[0m\u001b[0m_start_time\u001b[0m\u001b[0;34m\u001b[0m\u001b[0;34m\u001b[0m\u001b[0m\n",
            "\u001b[0;32m/usr/local/lib/python3.6/dist-packages/joblib/parallel.py\u001b[0m in \u001b[0;36mretrieve\u001b[0;34m(self)\u001b[0m\n\u001b[1;32m    938\u001b[0m             \u001b[0;32mtry\u001b[0m\u001b[0;34m:\u001b[0m\u001b[0;34m\u001b[0m\u001b[0;34m\u001b[0m\u001b[0m\n\u001b[1;32m    939\u001b[0m                 \u001b[0;32mif\u001b[0m \u001b[0mgetattr\u001b[0m\u001b[0;34m(\u001b[0m\u001b[0mself\u001b[0m\u001b[0;34m.\u001b[0m\u001b[0m_backend\u001b[0m\u001b[0;34m,\u001b[0m \u001b[0;34m'supports_timeout'\u001b[0m\u001b[0;34m,\u001b[0m \u001b[0;32mFalse\u001b[0m\u001b[0;34m)\u001b[0m\u001b[0;34m:\u001b[0m\u001b[0;34m\u001b[0m\u001b[0;34m\u001b[0m\u001b[0m\n\u001b[0;32m--> 940\u001b[0;31m                     \u001b[0mself\u001b[0m\u001b[0;34m.\u001b[0m\u001b[0m_output\u001b[0m\u001b[0;34m.\u001b[0m\u001b[0mextend\u001b[0m\u001b[0;34m(\u001b[0m\u001b[0mjob\u001b[0m\u001b[0;34m.\u001b[0m\u001b[0mget\u001b[0m\u001b[0;34m(\u001b[0m\u001b[0mtimeout\u001b[0m\u001b[0;34m=\u001b[0m\u001b[0mself\u001b[0m\u001b[0;34m.\u001b[0m\u001b[0mtimeout\u001b[0m\u001b[0;34m)\u001b[0m\u001b[0;34m)\u001b[0m\u001b[0;34m\u001b[0m\u001b[0;34m\u001b[0m\u001b[0m\n\u001b[0m\u001b[1;32m    941\u001b[0m                 \u001b[0;32melse\u001b[0m\u001b[0;34m:\u001b[0m\u001b[0;34m\u001b[0m\u001b[0;34m\u001b[0m\u001b[0m\n\u001b[1;32m    942\u001b[0m                     \u001b[0mself\u001b[0m\u001b[0;34m.\u001b[0m\u001b[0m_output\u001b[0m\u001b[0;34m.\u001b[0m\u001b[0mextend\u001b[0m\u001b[0;34m(\u001b[0m\u001b[0mjob\u001b[0m\u001b[0;34m.\u001b[0m\u001b[0mget\u001b[0m\u001b[0;34m(\u001b[0m\u001b[0;34m)\u001b[0m\u001b[0;34m)\u001b[0m\u001b[0;34m\u001b[0m\u001b[0;34m\u001b[0m\u001b[0m\n",
            "\u001b[0;32m/usr/local/lib/python3.6/dist-packages/joblib/_parallel_backends.py\u001b[0m in \u001b[0;36mwrap_future_result\u001b[0;34m(future, timeout)\u001b[0m\n\u001b[1;32m    540\u001b[0m         AsyncResults.get from multiprocessing.\"\"\"\n\u001b[1;32m    541\u001b[0m         \u001b[0;32mtry\u001b[0m\u001b[0;34m:\u001b[0m\u001b[0;34m\u001b[0m\u001b[0;34m\u001b[0m\u001b[0m\n\u001b[0;32m--> 542\u001b[0;31m             \u001b[0;32mreturn\u001b[0m \u001b[0mfuture\u001b[0m\u001b[0;34m.\u001b[0m\u001b[0mresult\u001b[0m\u001b[0;34m(\u001b[0m\u001b[0mtimeout\u001b[0m\u001b[0;34m=\u001b[0m\u001b[0mtimeout\u001b[0m\u001b[0;34m)\u001b[0m\u001b[0;34m\u001b[0m\u001b[0;34m\u001b[0m\u001b[0m\n\u001b[0m\u001b[1;32m    543\u001b[0m         \u001b[0;32mexcept\u001b[0m \u001b[0mCfTimeoutError\u001b[0m \u001b[0;32mas\u001b[0m \u001b[0me\u001b[0m\u001b[0;34m:\u001b[0m\u001b[0;34m\u001b[0m\u001b[0;34m\u001b[0m\u001b[0m\n\u001b[1;32m    544\u001b[0m             \u001b[0;32mraise\u001b[0m \u001b[0mTimeoutError\u001b[0m \u001b[0;32mfrom\u001b[0m \u001b[0me\u001b[0m\u001b[0;34m\u001b[0m\u001b[0;34m\u001b[0m\u001b[0m\n",
            "\u001b[0;32m/usr/lib/python3.6/concurrent/futures/_base.py\u001b[0m in \u001b[0;36mresult\u001b[0;34m(self, timeout)\u001b[0m\n\u001b[1;32m    430\u001b[0m                 \u001b[0;32mraise\u001b[0m \u001b[0mCancelledError\u001b[0m\u001b[0;34m(\u001b[0m\u001b[0;34m)\u001b[0m\u001b[0;34m\u001b[0m\u001b[0;34m\u001b[0m\u001b[0m\n\u001b[1;32m    431\u001b[0m             \u001b[0;32melif\u001b[0m \u001b[0mself\u001b[0m\u001b[0;34m.\u001b[0m\u001b[0m_state\u001b[0m \u001b[0;34m==\u001b[0m \u001b[0mFINISHED\u001b[0m\u001b[0;34m:\u001b[0m\u001b[0;34m\u001b[0m\u001b[0;34m\u001b[0m\u001b[0m\n\u001b[0;32m--> 432\u001b[0;31m                 \u001b[0;32mreturn\u001b[0m \u001b[0mself\u001b[0m\u001b[0;34m.\u001b[0m\u001b[0m__get_result\u001b[0m\u001b[0;34m(\u001b[0m\u001b[0;34m)\u001b[0m\u001b[0;34m\u001b[0m\u001b[0;34m\u001b[0m\u001b[0m\n\u001b[0m\u001b[1;32m    433\u001b[0m             \u001b[0;32melse\u001b[0m\u001b[0;34m:\u001b[0m\u001b[0;34m\u001b[0m\u001b[0;34m\u001b[0m\u001b[0m\n\u001b[1;32m    434\u001b[0m                 \u001b[0;32mraise\u001b[0m \u001b[0mTimeoutError\u001b[0m\u001b[0;34m(\u001b[0m\u001b[0;34m)\u001b[0m\u001b[0;34m\u001b[0m\u001b[0;34m\u001b[0m\u001b[0m\n",
            "\u001b[0;32m/usr/lib/python3.6/concurrent/futures/_base.py\u001b[0m in \u001b[0;36m__get_result\u001b[0;34m(self)\u001b[0m\n\u001b[1;32m    382\u001b[0m     \u001b[0;32mdef\u001b[0m \u001b[0m__get_result\u001b[0m\u001b[0;34m(\u001b[0m\u001b[0mself\u001b[0m\u001b[0;34m)\u001b[0m\u001b[0;34m:\u001b[0m\u001b[0;34m\u001b[0m\u001b[0;34m\u001b[0m\u001b[0m\n\u001b[1;32m    383\u001b[0m         \u001b[0;32mif\u001b[0m \u001b[0mself\u001b[0m\u001b[0;34m.\u001b[0m\u001b[0m_exception\u001b[0m\u001b[0;34m:\u001b[0m\u001b[0;34m\u001b[0m\u001b[0;34m\u001b[0m\u001b[0m\n\u001b[0;32m--> 384\u001b[0;31m             \u001b[0;32mraise\u001b[0m \u001b[0mself\u001b[0m\u001b[0;34m.\u001b[0m\u001b[0m_exception\u001b[0m\u001b[0;34m\u001b[0m\u001b[0;34m\u001b[0m\u001b[0m\n\u001b[0m\u001b[1;32m    385\u001b[0m         \u001b[0;32melse\u001b[0m\u001b[0;34m:\u001b[0m\u001b[0;34m\u001b[0m\u001b[0;34m\u001b[0m\u001b[0m\n\u001b[1;32m    386\u001b[0m             \u001b[0;32mreturn\u001b[0m \u001b[0mself\u001b[0m\u001b[0;34m.\u001b[0m\u001b[0m_result\u001b[0m\u001b[0;34m\u001b[0m\u001b[0;34m\u001b[0m\u001b[0m\n",
            "\u001b[0;31mTerminatedWorkerError\u001b[0m: A worker process managed by the executor was unexpectedly terminated. This could be caused by a segmentation fault while calling the function or by an excessive memory usage causing the Operating System to kill the worker.\n\nThe exit codes of the workers are {SIGKILL(-9)}"
          ]
        }
      ]
    },
    {
      "cell_type": "code",
      "metadata": {
        "id": "PnshUIXTJZN3"
      },
      "source": [
        ""
      ],
      "execution_count": null,
      "outputs": []
    }
  ]
}