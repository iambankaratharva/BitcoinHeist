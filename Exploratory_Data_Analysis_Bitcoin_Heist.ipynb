{
  "nbformat": 4,
  "nbformat_minor": 0,
  "metadata": {
    "colab": {
      "name": "Exploratory Data Analysis - Bitcoin Heist",
      "provenance": [],
      "collapsed_sections": []
    },
    "kernelspec": {
      "name": "python3",
      "display_name": "Python 3"
    }
  },
  "cells": [
    {
      "cell_type": "code",
      "metadata": {
        "colab": {
          "base_uri": "https://localhost:8080/"
        },
        "id": "ih46oKzvvu1h",
        "outputId": "22c02eec-7184-43cf-969b-3f0bf8c39be5"
      },
      "source": [
        "# Mount the drive \n",
        "from google.colab import drive\n",
        "drive.mount('/content/drive')"
      ],
      "execution_count": null,
      "outputs": [
        {
          "output_type": "stream",
          "text": [
            "Drive already mounted at /content/drive; to attempt to forcibly remount, call drive.mount(\"/content/drive\", force_remount=True).\n"
          ],
          "name": "stdout"
        }
      ]
    },
    {
      "cell_type": "code",
      "metadata": {
        "colab": {
          "base_uri": "https://localhost:8080/"
        },
        "id": "zKUyzoPiwXH3",
        "outputId": "39d8e872-a138-46df-f15b-7f1985bf76f6"
      },
      "source": [
        "import pandas as pd \n",
        "from sklearn.model_selection import train_test_split\n",
        "data = pd.read_csv('/content/drive/MyDrive/Bitcoin Heist/final_data.csv')   #Change Path to your Drive Directory accordingly.\n",
        "data = data.drop(['address','Unnamed: 0'],axis = 1)\n",
        "data[\"label\"]= data[\"label\"].replace(28, \"white\") \n",
        "data[\"label\"]= data[\"label\"].replace('28', \"white\") \n",
        "classes = data.label.unique()"
      ],
      "execution_count": null,
      "outputs": [
        {
          "output_type": "stream",
          "text": [
            "/usr/local/lib/python3.6/dist-packages/IPython/core/interactiveshell.py:2718: DtypeWarning: Columns (10) have mixed types.Specify dtype option on import or set low_memory=False.\n",
            "  interactivity=interactivity, compiler=compiler, result=result)\n"
          ],
          "name": "stderr"
        }
      ]
    },
    {
      "cell_type": "code",
      "metadata": {
        "id": "qAOTJl0Z4mnv",
        "colab": {
          "base_uri": "https://localhost:8080/"
        },
        "outputId": "c2b7a21e-48a9-4777-cb81-3ddcc7d0c16b"
      },
      "source": [
        "print(data)"
      ],
      "execution_count": null,
      "outputs": [
        {
          "output_type": "stream",
          "text": [
            "        year  day  length  ...  neighbors        income            label\n",
            "0       2017   11      18  ...          2  1.000500e+08  princetonCerber\n",
            "1       2016  132      44  ...          1  1.000000e+08   princetonLocky\n",
            "2       2016  246       0  ...          2  2.000000e+08  princetonCerber\n",
            "3       2016  322      72  ...          2  7.120000e+07  princetonCerber\n",
            "4       2016  238     144  ...          1  2.000000e+08   princetonLocky\n",
            "...      ...  ...     ...  ...        ...           ...              ...\n",
            "315195  2018  330       0  ...          2  2.503180e+09            white\n",
            "315196  2018  330       0  ...          2  1.000000e+09            white\n",
            "315197  2018  330       6  ...          1  3.000000e+08            white\n",
            "315198  2018  330       0  ...          2  1.372746e+09            white\n",
            "315199  2018  330       6  ...          2  2.397816e+09            white\n",
            "\n",
            "[315200 rows x 9 columns]\n"
          ],
          "name": "stdout"
        }
      ]
    },
    {
      "cell_type": "code",
      "metadata": {
        "id": "yOWe_ATi5YSN",
        "colab": {
          "base_uri": "https://localhost:8080/"
        },
        "outputId": "7a33536c-1bed-4170-cee2-4c14069c78d5"
      },
      "source": [
        "print('Value Counts:\\n',data['label'].value_counts())\n",
        "print('Total labels: ',len(data['label'].unique()))"
      ],
      "execution_count": null,
      "outputs": [
        {
          "output_type": "stream",
          "text": [
            "Value Counts:\n",
            " white                          232374\n",
            "paduaCryptoWall                 24780\n",
            "montrealCryptoLocker            18630\n",
            "princetonCerber                 18446\n",
            "princetonLocky                  13250\n",
            "montrealCryptXXX                 4838\n",
            "montrealNoobCrypt                 966\n",
            "montrealDMALockerv3               708\n",
            "montrealDMALocker                 502\n",
            "montrealSamSam                    124\n",
            "montrealCryptoTorLocker2015       110\n",
            "montrealGlobeImposter             110\n",
            "montrealGlobev3                    68\n",
            "montrealGlobe                      64\n",
            "montrealWannaCry                   56\n",
            "montrealRazy                       26\n",
            "montrealAPT                        22\n",
            "paduaKeRanger                      20\n",
            "montrealFlyper                     18\n",
            "montrealXTPLocker                  16\n",
            "montrealVenusLocker                14\n",
            "montrealCryptConsole               14\n",
            "montrealXLockerv5.0                14\n",
            "montrealEDA2                       12\n",
            "montrealJigSaw                      8\n",
            "paduaJigsaw                         4\n",
            "montrealXLocker                     2\n",
            "montrealSam                         2\n",
            "montrealComradeCircle               2\n",
            "Name: label, dtype: int64\n",
            "Total labels:  29\n"
          ],
          "name": "stdout"
        }
      ]
    },
    {
      "cell_type": "markdown",
      "metadata": {
        "id": "OvMXQ_6Wbpja"
      },
      "source": [
        "Log Transformations [Run only once :)]"
      ]
    },
    {
      "cell_type": "code",
      "metadata": {
        "colab": {
          "base_uri": "https://localhost:8080/"
        },
        "id": "VflD4vAtbRBe",
        "outputId": "0ed34155-1e56-49c5-ae2a-0e3f1e9a9e5d"
      },
      "source": [
        "import numpy as np\n",
        "eps = 0.001\n",
        "data['income'] = np.log(data.pop('income')+eps)\n",
        "data['weight'] = np.log(data.pop('weight')+eps)\n",
        "data['count'] = np.log(data.pop('count')+eps)\n",
        "data['looped'] = np.log(data.pop('looped')+eps)\n",
        "data['neighbors'] = np.log(data.pop('neighbors')+eps)\n",
        "data['length'] = np.log(data.pop('length')+eps)\n",
        "data['day'] = np.log(data.pop('day')+eps)\n",
        "\n",
        "print(data['length'].min())\n",
        "print(data['length'].max())\n",
        "print(data['count'].min())\n",
        "print(data['count'].max())\n",
        "print(data.looped.min())\n",
        "print(data.looped.max())\n",
        "print(data.neighbors.min())\n",
        "print(data.neighbors.max())\n",
        "print(data.income.min())\n",
        "print(data.income.max())\n",
        "print(data.weight.min())\n",
        "print(data.weight.max())"
      ],
      "execution_count": null,
      "outputs": [
        {
          "output_type": "stream",
          "text": [
            "-6.907755278982137\n",
            "4.969820243996333\n",
            "0.0009995003330834232\n",
            "9.581628097267306\n",
            "-6.907755278982137\n",
            "9.581628097267306\n",
            "0.0009995003330834232\n",
            "7.340836202631495\n",
            "17.216707939659763\n",
            "31.536556508367305\n",
            "-6.907755278982137\n",
            "6.211181285295772\n"
          ],
          "name": "stdout"
        }
      ]
    },
    {
      "cell_type": "code",
      "metadata": {
        "colab": {
          "base_uri": "https://localhost:8080/"
        },
        "id": "dqxi_7fcbm6p",
        "outputId": "1a2d4a9e-9749-4752-d52e-b93e4b46463b"
      },
      "source": [
        "print(data)"
      ],
      "execution_count": null,
      "outputs": [
        {
          "output_type": "stream",
          "text": [
            "        year            label     income  ...  neighbors    length       day\n",
            "0       2017  princetonCerber  18.421181  ...   0.693647  2.890427  2.397986\n",
            "1       2016   princetonLocky  18.420681  ...   0.001000  3.784212  4.882809\n",
            "2       2016  princetonCerber  19.113828  ...   0.693647 -6.907755  5.505336\n",
            "3       2016  princetonCerber  18.081003  ...   0.693647  4.276680  5.774555\n",
            "4       2016   princetonLocky  19.113828  ...   0.001000  4.969820  5.472275\n",
            "...      ...              ...        ...  ...        ...       ...       ...\n",
            "315195  2018            white  21.640828  ...   0.693647 -6.907755  5.799096\n",
            "315196  2018            white  20.723266  ...   0.693647 -6.907755  5.799096\n",
            "315197  2018            white  19.519293  ...   0.001000  1.791926  5.799096\n",
            "315198  2018            white  21.040079  ...   0.693647 -6.907755  5.799096\n",
            "315199  2018            white  21.597824  ...   0.693647  1.791926  5.799096\n",
            "\n",
            "[315200 rows x 9 columns]\n"
          ],
          "name": "stdout"
        }
      ]
    },
    {
      "cell_type": "code",
      "metadata": {
        "colab": {
          "base_uri": "https://localhost:8080/"
        },
        "id": "p1bs9zQW-3Ax",
        "outputId": "a75a47e7-b4cd-416b-a059-ebcef0f14354"
      },
      "source": [
        "from sklearn.preprocessing import LabelEncoder\n",
        "le = LabelEncoder()\n",
        "data['label'] = le.fit_transform(data['label'])\n",
        "data['label'].unique()"
      ],
      "execution_count": null,
      "outputs": [
        {
          "output_type": "execute_result",
          "data": {
            "text/plain": [
              "array([26, 27,  4,  3, 23, 19,  7,  5, 17,  9, 14,  6, 10,  8, 25, 18, 22,\n",
              "       24, 12, 13, 21, 20, 15,  2, 11, 16,  1,  0, 28])"
            ]
          },
          "metadata": {
            "tags": []
          },
          "execution_count": 7
        }
      ]
    },
    {
      "cell_type": "code",
      "metadata": {
        "id": "875Ay7Y-6vOx",
        "colab": {
          "base_uri": "https://localhost:8080/"
        },
        "outputId": "864a5673-2948-4c0e-aaad-f826432a1ef6"
      },
      "source": [
        "le.classes_"
      ],
      "execution_count": null,
      "outputs": [
        {
          "output_type": "execute_result",
          "data": {
            "text/plain": [
              "array(['montrealAPT', 'montrealComradeCircle', 'montrealCryptConsole',\n",
              "       'montrealCryptXXX', 'montrealCryptoLocker',\n",
              "       'montrealCryptoTorLocker2015', 'montrealDMALocker',\n",
              "       'montrealDMALockerv3', 'montrealEDA2', 'montrealFlyper',\n",
              "       'montrealGlobe', 'montrealGlobeImposter', 'montrealGlobev3',\n",
              "       'montrealJigSaw', 'montrealNoobCrypt', 'montrealRazy',\n",
              "       'montrealSam', 'montrealSamSam', 'montrealVenusLocker',\n",
              "       'montrealWannaCry', 'montrealXLocker', 'montrealXLockerv5.0',\n",
              "       'montrealXTPLocker', 'paduaCryptoWall', 'paduaJigsaw',\n",
              "       'paduaKeRanger', 'princetonCerber', 'princetonLocky', 'white'],\n",
              "      dtype=object)"
            ]
          },
          "metadata": {
            "tags": []
          },
          "execution_count": 8
        }
      ]
    },
    {
      "cell_type": "code",
      "metadata": {
        "id": "Bs3hmWm5-yEx"
      },
      "source": [
        "X = data.loc[:, data.columns != 'label']\n",
        "y = data['label']"
      ],
      "execution_count": null,
      "outputs": []
    },
    {
      "cell_type": "code",
      "metadata": {
        "colab": {
          "base_uri": "https://localhost:8080/"
        },
        "id": "59534yrR-yEx",
        "outputId": "eb99d53e-0581-465e-8a0c-76fb4ea88aef"
      },
      "source": [
        "print(X)\n",
        "print(y)"
      ],
      "execution_count": null,
      "outputs": [
        {
          "output_type": "stream",
          "text": [
            "        year     income    weight  ...  neighbors    length       day\n",
            "0       2017  18.421181 -4.674163  ...   0.693647  2.890427  2.397986\n",
            "1       2016  18.420681 -6.689310  ...   0.001000  3.784212  4.882809\n",
            "2       2016  19.113828  0.001000  ...   0.693647 -6.907755  5.505336\n",
            "3       2016  18.081003 -5.317245  ...   0.693647  4.276680  5.774555\n",
            "4       2016  19.113828 -2.605741  ...   0.001000  4.969820  5.472275\n",
            "...      ...        ...       ...  ...        ...       ...       ...\n",
            "315195  2018  21.640828 -2.188265  ...   0.693647 -6.907755  5.799096\n",
            "315196  2018  20.723266 -0.691149  ...   0.693647 -6.907755  5.799096\n",
            "315197  2018  19.519293 -3.858840  ...   0.001000  1.791926  5.799096\n",
            "315198  2018  21.040079 -1.095617  ...   0.693647 -6.907755  5.799096\n",
            "315199  2018  21.597824  0.001000  ...   0.693647  1.791926  5.799096\n",
            "\n",
            "[315200 rows x 8 columns]\n",
            "0         26\n",
            "1         27\n",
            "2         26\n",
            "3         26\n",
            "4         27\n",
            "          ..\n",
            "315195    28\n",
            "315196    28\n",
            "315197    28\n",
            "315198    28\n",
            "315199    28\n",
            "Name: label, Length: 315200, dtype: int64\n"
          ],
          "name": "stdout"
        }
      ]
    },
    {
      "cell_type": "code",
      "metadata": {
        "id": "-8kTVzLw-yEx"
      },
      "source": [
        "from sklearn.preprocessing import StandardScaler\n",
        "sc = StandardScaler()\n",
        "X = sc.fit_transform(X)"
      ],
      "execution_count": null,
      "outputs": []
    },
    {
      "cell_type": "code",
      "metadata": {
        "id": "uHZg-7WQ-yEx"
      },
      "source": [
        "from sklearn.model_selection import train_test_split\n",
        "X_train, X_test, y_train, y_test = train_test_split(X, y , test_size = 0.2, random_state = 2020,stratify = y)"
      ],
      "execution_count": null,
      "outputs": []
    },
    {
      "cell_type": "code",
      "metadata": {
        "colab": {
          "base_uri": "https://localhost:8080/"
        },
        "id": "0sUCl2F2-yEy",
        "outputId": "fb86542c-291a-47c9-baec-6150ee9188af"
      },
      "source": [
        "print(len(X_train))\n",
        "print(len(X_test))\n",
        "print(len(y_train))\n",
        "print(len(y_test))"
      ],
      "execution_count": null,
      "outputs": [
        {
          "output_type": "stream",
          "text": [
            "252160\n",
            "63040\n",
            "252160\n",
            "63040\n"
          ],
          "name": "stdout"
        }
      ]
    },
    {
      "cell_type": "code",
      "metadata": {
        "id": "MMtTdOQTsKGi"
      },
      "source": [
        "from xgboost import XGBClassifier\n",
        "\n",
        "model = XGBClassifier(learning_rate = 0.1, n_estimators = 1000,tree_method='gpu_hist', n_jobs=-1)\n",
        "# Add silent=True to avoid printing out updates with each cycle\n",
        "model.fit(X_train, y_train, verbose=2)"
      ],
      "execution_count": null,
      "outputs": []
    },
    {
      "cell_type": "code",
      "metadata": {
        "id": "sdY1VF1lvynL",
        "colab": {
          "base_uri": "https://localhost:8080/"
        },
        "outputId": "b5dd9c52-7bb4-4722-a0c9-a2a1a7adb700"
      },
      "source": [
        "from sklearn.ensemble import ExtraTreesClassifier\n",
        "#model = ExtraTreesClassifier()\n",
        "model = ExtraTreesClassifier(max_features='log2',min_samples_split=3)\n",
        "model.fit(X_train, y_train)"
      ],
      "execution_count": null,
      "outputs": [
        {
          "output_type": "execute_result",
          "data": {
            "text/plain": [
              "ExtraTreesClassifier(bootstrap=False, ccp_alpha=0.0, class_weight=None,\n",
              "                     criterion='gini', max_depth=None, max_features='log2',\n",
              "                     max_leaf_nodes=None, max_samples=None,\n",
              "                     min_impurity_decrease=0.0, min_impurity_split=None,\n",
              "                     min_samples_leaf=1, min_samples_split=3,\n",
              "                     min_weight_fraction_leaf=0.0, n_estimators=100,\n",
              "                     n_jobs=None, oob_score=False, random_state=None, verbose=0,\n",
              "                     warm_start=False)"
            ]
          },
          "metadata": {
            "tags": []
          },
          "execution_count": 16
        }
      ]
    },
    {
      "cell_type": "code",
      "metadata": {
        "colab": {
          "base_uri": "https://localhost:8080/"
        },
        "id": "46a6KPkWKPtZ",
        "outputId": "c3afe2fb-96e8-4d4a-e6fd-b43c3c437bda"
      },
      "source": [
        "from sklearn.ensemble import RandomForestClassifier\n",
        "\n",
        "model = RandomForestClassifier(n_estimators = 250, n_jobs=-1)\n",
        "# Add silent=True to avoid printing out updates with each cycle\n",
        "model.fit(X_train, y_train)"
      ],
      "execution_count": null,
      "outputs": [
        {
          "output_type": "execute_result",
          "data": {
            "text/plain": [
              "RandomForestClassifier(bootstrap=True, ccp_alpha=0.0, class_weight=None,\n",
              "                       criterion='gini', max_depth=None, max_features='auto',\n",
              "                       max_leaf_nodes=None, max_samples=None,\n",
              "                       min_impurity_decrease=0.0, min_impurity_split=None,\n",
              "                       min_samples_leaf=1, min_samples_split=2,\n",
              "                       min_weight_fraction_leaf=0.0, n_estimators=250,\n",
              "                       n_jobs=-1, oob_score=False, random_state=None, verbose=0,\n",
              "                       warm_start=False)"
            ]
          },
          "metadata": {
            "tags": []
          },
          "execution_count": 23
        }
      ]
    },
    {
      "cell_type": "markdown",
      "metadata": {
        "id": "jvhya8TJKb8C"
      },
      "source": [
        "Calculating Relative Feature Importances"
      ]
    },
    {
      "cell_type": "code",
      "metadata": {
        "colab": {
          "base_uri": "https://localhost:8080/"
        },
        "id": "4cj4-UbuLREC",
        "outputId": "67ad5039-c73b-4f6c-8c31-1e7304249725"
      },
      "source": [
        "data.loc[:, data.columns != 'label'].columns"
      ],
      "execution_count": null,
      "outputs": [
        {
          "output_type": "execute_result",
          "data": {
            "text/plain": [
              "Index(['year', 'income', 'weight', 'count', 'looped', 'neighbors', 'length',\n",
              "       'day'],\n",
              "      dtype='object')"
            ]
          },
          "metadata": {
            "tags": []
          },
          "execution_count": 14
        }
      ]
    },
    {
      "cell_type": "code",
      "metadata": {
        "colab": {
          "base_uri": "https://localhost:8080/"
        },
        "id": "61R7ipzYMrn8",
        "outputId": "5d8e486d-0265-48ec-8c5e-9adf41ae0e96"
      },
      "source": [
        "#Not present in test set & RUN ONLY ONCE\n",
        "test_labels = np.delete(classes, [21,25,26])    \n",
        "print(test_labels)"
      ],
      "execution_count": null,
      "outputs": [
        {
          "output_type": "stream",
          "text": [
            "['princetonCerber' 'princetonLocky' 'montrealCryptoLocker'\n",
            " 'montrealCryptXXX' 'paduaCryptoWall' 'montrealWannaCry'\n",
            " 'montrealDMALockerv3' 'montrealCryptoTorLocker2015' 'montrealSamSam'\n",
            " 'montrealFlyper' 'montrealNoobCrypt' 'montrealDMALocker' 'montrealGlobe'\n",
            " 'montrealEDA2' 'paduaKeRanger' 'montrealVenusLocker' 'montrealXTPLocker'\n",
            " 'paduaJigsaw' 'montrealGlobev3' 'montrealJigSaw' 'montrealXLockerv5.0'\n",
            " 'montrealRazy' 'montrealCryptConsole' 'montrealGlobeImposter'\n",
            " 'montrealAPT' 'white']\n"
          ],
          "name": "stdout"
        }
      ]
    },
    {
      "cell_type": "code",
      "metadata": {
        "id": "PLhXAwX4O29a"
      },
      "source": [
        "    import matplotlib.pyplot as plt"
      ],
      "execution_count": null,
      "outputs": []
    },
    {
      "cell_type": "code",
      "metadata": {
        "colab": {
          "base_uri": "https://localhost:8080/",
          "height": 367
        },
        "id": "0CdRvZCFKfa2",
        "outputId": "5b88c336-0c92-4583-87d5-2349b03667cc"
      },
      "source": [
        "import xgboost as xgb\n",
        "model_xgb_1 = xgb.XGBClassifier(learning_rate = 0.1, max_depth = 9, min_child_weight = 1, n_estimators = 1500, tree_method = 'gpu_hist')\n",
        "model_xgb_1.fit(X_train, y_train)\n",
        "y_pred_xgb_1 = model_xgb_1.predict(X_test)\n",
        "\n",
        "from sklearn.metrics import mean_absolute_error, accuracy_score, f1_score, recall_score, precision_score\n",
        "mae = mean_absolute_error(y_test, y_pred_xgb_1)\n",
        "acc = accuracy_score(y_test, y_pred_xgb_1)\n",
        "f1_score = f1_score(y_test, y_pred_xgb_1,average='weighted')\n",
        "recall = recall_score(y_test, y_pred_xgb_1,average='weighted')\n",
        "precision = precision_score(y_test, y_pred_xgb_1,average='weighted')\n",
        "print(\"Mean Absolute Error : \",mae)\n",
        "print(\"Accuracy: \",acc)\n",
        "print(\"Recall: \",recall)\n",
        "print(\"Precision: \",precision)\n",
        "print(\"F1-score: \",f1_score)\n",
        "\n",
        "import collections\n",
        "importance_xgb_1 = list(model_xgb_1.feature_importances_)\n",
        "feat_imp_xgb_1 = dict(zip(data.loc[:, data.columns != 'label'].columns, importance_xgb_1))\n",
        "feat_imp_xgb_1 = collections.OrderedDict(sorted(feat_imp_xgb_1.items()))\n",
        "keys_xgb_1 = feat_imp_xgb_1.keys()\n",
        "values_xgb_1 = feat_imp_xgb_1.values()\n",
        "plt.barh(list(keys_xgb_1), list(values_xgb_1))"
      ],
      "execution_count": null,
      "outputs": [
        {
          "output_type": "stream",
          "text": [
            "Mean Absolute Error :  0.6028077411167513\n",
            "Accuracy:  0.9513800761421319\n",
            "Recall:  0.9513800761421319\n",
            "Precision:  0.952773101438624\n",
            "F1-score:  0.9517245738624396\n"
          ],
          "name": "stdout"
        },
        {
          "output_type": "execute_result",
          "data": {
            "text/plain": [
              "<BarContainer object of 8 artists>"
            ]
          },
          "metadata": {
            "tags": []
          },
          "execution_count": 21
        },
        {
          "output_type": "display_data",
          "data": {
            "image/png": "[encoded data removed]",
            "text/plain": [
              "<Figure size 432x288 with 1 Axes>"
            ]
          },
          "metadata": {
            "tags": [],
            "needs_background": "light"
          }
        }
      ]
    },
    {
      "cell_type": "code",
      "metadata": {
        "colab": {
          "base_uri": "https://localhost:8080/",
          "height": 367
        },
        "id": "2AgRnXdyPag6",
        "outputId": "a4cf8f45-1f3a-4a00-c0c9-3355c7b031cf"
      },
      "source": [
        "from sklearn.ensemble import RandomForestClassifier\n",
        "model_rf_1 = RandomForestClassifier(n_estimators = 250)\n",
        "model_rf_1.fit(X_train, y_train)\n",
        "y_pred_rf_1 = model_rf_1.predict(X_test)\n",
        "\n",
        "from sklearn.metrics import mean_absolute_error, accuracy_score, f1_score, recall_score, precision_score\n",
        "mae = mean_absolute_error(y_test, y_pred_rf_1)\n",
        "acc = accuracy_score(y_test, y_pred_rf_1)\n",
        "f1_score = f1_score(y_test, y_pred_rf_1,average='weighted')\n",
        "recall = recall_score(y_test, y_pred_rf_1,average='weighted')\n",
        "precision = precision_score(y_test, y_pred_rf_1,average='weighted')\n",
        "print(\"Mean Absolute Error : \",mae)\n",
        "print(\"Accuracy: \",acc)\n",
        "print(\"Recall: \",recall)\n",
        "print(\"Precision: \",precision)\n",
        "print(\"F1-score: \",f1_score)\n",
        "\n",
        "import collections\n",
        "importance_rf_1 = list(model_rf_1.feature_importances_)\n",
        "feat_imp_rf_1 = dict(zip(data.loc[:, data.columns != 'label'].columns, importance_rf_1))\n",
        "feat_imp_rf_1 = collections.OrderedDict(sorted(feat_imp_rf_1.items()))\n",
        "keys_rf_1 = feat_imp_rf_1.keys()\n",
        "values_rf_1 = feat_imp_rf_1.values()\n",
        "plt.barh(list(keys_rf_1), list(values_rf_1))"
      ],
      "execution_count": null,
      "outputs": [
        {
          "output_type": "stream",
          "text": [
            "Mean Absolute Error :  0.553236040609137\n",
            "Accuracy:  0.9516814720812182\n",
            "Recall:  0.9516814720812182\n",
            "Precision:  0.9537436552450289\n",
            "F1-score:  0.9521945417549007\n"
          ],
          "name": "stdout"
        },
        {
          "output_type": "execute_result",
          "data": {
            "text/plain": [
              "<BarContainer object of 8 artists>"
            ]
          },
          "metadata": {
            "tags": []
          },
          "execution_count": 22
        },
        {
          "output_type": "display_data",
          "data": {
            "image/png": "[encoded data removed]",
            "text/plain": [
              "<Figure size 432x288 with 1 Axes>"
            ]
          },
          "metadata": {
            "tags": [],
            "needs_background": "light"
          }
        }
      ]
    },
    {
      "cell_type": "code",
      "metadata": {
        "colab": {
          "base_uri": "https://localhost:8080/",
          "height": 367
        },
        "id": "8_Vj4DD1NF-I",
        "outputId": "7e4e603c-aa2e-4b10-8037-e83f13e25440"
      },
      "source": [
        "from sklearn.ensemble import ExtraTreesClassifier\n",
        "model_etc_1 = ExtraTreesClassifier(max_features='log2',min_samples_split=3)\n",
        "model_etc_1.fit(X_train, y_train)\n",
        "y_pred_etc_1 = model_etc_1.predict(X_test)\n",
        "\n",
        "from sklearn.metrics import mean_absolute_error, accuracy_score, f1_score, recall_score, precision_score\n",
        "mae = mean_absolute_error(y_test, y_pred_etc_1)\n",
        "acc = accuracy_score(y_test, y_pred_etc_1)\n",
        "f1_score = f1_score(y_test, y_pred_etc_1,average='weighted')\n",
        "recall = recall_score(y_test, y_pred_etc_1,average='weighted')\n",
        "precision = precision_score(y_test, y_pred_etc_1,average='weighted')\n",
        "print(\"Mean Absolute Error : \",mae)\n",
        "print(\"Accuracy: \",acc)\n",
        "print(\"Recall: \",recall)\n",
        "print(\"Precision: \",precision)\n",
        "print(\"F1-score: \",f1_score)\n",
        "\n",
        "import collections\n",
        "importance_etc_1 = list(model_etc_1.feature_importances_)\n",
        "feat_imp_etc_1 = dict(zip(data.loc[:, data.columns != 'label'].columns, importance_etc_1))\n",
        "feat_imp_etc_1 = collections.OrderedDict(sorted(feat_imp_etc_1.items()))\n",
        "keys_etc_1 = feat_imp_etc_1.keys()\n",
        "values_etc_1 = feat_imp_etc_1.values()\n",
        "plt.barh(list(keys_etc_1), list(values_etc_1))"
      ],
      "execution_count": null,
      "outputs": [
        {
          "output_type": "stream",
          "text": [
            "Mean Absolute Error :  0.5393559644670051\n",
            "Accuracy:  0.9520304568527919\n",
            "Recall:  0.9520304568527919\n",
            "Precision:  0.9534232720201313\n",
            "F1-score:  0.9523805832286328\n"
          ],
          "name": "stdout"
        },
        {
          "output_type": "execute_result",
          "data": {
            "text/plain": [
              "<BarContainer object of 8 artists>"
            ]
          },
          "metadata": {
            "tags": []
          },
          "execution_count": 23
        },
        {
          "output_type": "display_data",
          "data": {
            "image/png": "[encoded data removed]",
            "text/plain": [
              "<Figure size 432x288 with 1 Axes>"
            ]
          },
          "metadata": {
            "tags": [],
            "needs_background": "light"
          }
        }
      ]
    },
    {
      "cell_type": "code",
      "metadata": {
        "colab": {
          "base_uri": "https://localhost:8080/",
          "height": 282
        },
        "id": "sSmKl46NRkzK",
        "outputId": "88e53425-88cd-42b7-b10a-4451de0e036f"
      },
      "source": [
        "feat_imp_1 = np.array(list(values_xgb_1)) + np.array(list(values_rf_1)) + np.array(list(values_etc_1))\n",
        "relative_feat_imp_1 = feat_imp_1/3\n",
        "plt.barh(list(keys_xgb_1), list(relative_feat_imp_1))"
      ],
      "execution_count": null,
      "outputs": [
        {
          "output_type": "execute_result",
          "data": {
            "text/plain": [
              "<BarContainer object of 8 artists>"
            ]
          },
          "metadata": {
            "tags": []
          },
          "execution_count": 36
        },
        {
          "output_type": "display_data",
          "data": {
            "image/png": "[encoded data removed]",
            "text/plain": [
              "<Figure size 432x288 with 1 Axes>"
            ]
          },
          "metadata": {
            "tags": [],
            "needs_background": "light"
          }
        }
      ]
    },
    {
      "cell_type": "code",
      "metadata": {
        "colab": {
          "base_uri": "https://localhost:8080/"
        },
        "id": "LwELH3Mc47_r",
        "outputId": "84cc9b70-9771-44a0-ebaf-9a6f7aead25e"
      },
      "source": [
        "print(test_labels)\n",
        "print(len(test_labels))"
      ],
      "execution_count": null,
      "outputs": [
        {
          "output_type": "stream",
          "text": [
            "['princetonCerber' 'princetonLocky' 'montrealCryptoLocker'\n",
            " 'montrealCryptXXX' 'paduaCryptoWall' 'montrealWannaCry'\n",
            " 'montrealDMALockerv3' 'montrealCryptoTorLocker2015' 'montrealSamSam'\n",
            " 'montrealFlyper' 'montrealNoobCrypt' 'montrealDMALocker' 'montrealGlobe'\n",
            " 'montrealEDA2' 'paduaKeRanger' 'montrealVenusLocker' 'montrealXTPLocker'\n",
            " 'paduaJigsaw' 'montrealGlobev3' 'montrealJigSaw' 'montrealXLockerv5.0'\n",
            " 'montrealRazy' 'montrealCryptConsole' 'montrealGlobeImposter'\n",
            " 'montrealAPT' 'white']\n",
            "26\n"
          ],
          "name": "stdout"
        }
      ]
    },
    {
      "cell_type": "markdown",
      "metadata": {
        "id": "QDEqoN417sfG"
      },
      "source": [
        "Reload data for EDA"
      ]
    },
    {
      "cell_type": "code",
      "metadata": {
        "colab": {
          "base_uri": "https://localhost:8080/"
        },
        "id": "EiYhC5cY7mx2",
        "outputId": "05e7f263-7339-4472-a4e2-79a7c0293cf9"
      },
      "source": [
        "import pandas as pd\n",
        "import numpy as np\n",
        "data = pd.read_csv('/content/drive/MyDrive/Bitcoin Heist/final_data.csv')   #Change Path to your Drive Directory accordingly.\n",
        "data = data.drop(['address','Unnamed: 0'],axis = 1)\n",
        "data[\"label\"]= data[\"label\"].replace(28, \"white\") \n",
        "data[\"label\"]= data[\"label\"].replace('28', \"white\") \n",
        "\n",
        "'''from sklearn.preprocessing import LabelEncoder\n",
        "le = LabelEncoder()\n",
        "data['label'] = le.fit_transform(data['label'])\n",
        "data['label'].unique()'''\n",
        "\n",
        "X = data.loc[:, data.columns != 'label']\n",
        "y = data['label']\n",
        "#y = data.loc[:, data.columns == 'label']"
      ],
      "execution_count": null,
      "outputs": [
        {
          "output_type": "stream",
          "text": [
            "/usr/local/lib/python3.6/dist-packages/IPython/core/interactiveshell.py:2718: DtypeWarning: Columns (10) have mixed types.Specify dtype option on import or set low_memory=False.\n",
            "  interactivity=interactivity, compiler=compiler, result=result)\n"
          ],
          "name": "stderr"
        }
      ]
    },
    {
      "cell_type": "code",
      "metadata": {
        "colab": {
          "base_uri": "https://localhost:8080/"
        },
        "id": "ZsomCfcq751F",
        "outputId": "40fc462c-896d-4a81-f644-e97acb12c757"
      },
      "source": [
        "print(data)\n",
        "print(X)\n",
        "print(y)"
      ],
      "execution_count": null,
      "outputs": [
        {
          "output_type": "stream",
          "text": [
            "        year  day  length  ...  neighbors        income            label\n",
            "0       2017   11      18  ...          2  1.000500e+08  princetonCerber\n",
            "1       2016  132      44  ...          1  1.000000e+08   princetonLocky\n",
            "2       2016  246       0  ...          2  2.000000e+08  princetonCerber\n",
            "3       2016  322      72  ...          2  7.120000e+07  princetonCerber\n",
            "4       2016  238     144  ...          1  2.000000e+08   princetonLocky\n",
            "...      ...  ...     ...  ...        ...           ...              ...\n",
            "315195  2018  330       0  ...          2  2.503180e+09            white\n",
            "315196  2018  330       0  ...          2  1.000000e+09            white\n",
            "315197  2018  330       6  ...          1  3.000000e+08            white\n",
            "315198  2018  330       0  ...          2  1.372746e+09            white\n",
            "315199  2018  330       6  ...          2  2.397816e+09            white\n",
            "\n",
            "[315200 rows x 9 columns]\n",
            "        year  day  length    weight  count  looped  neighbors        income\n",
            "0       2017   11      18  0.008333      1       0          2  1.000500e+08\n",
            "1       2016  132      44  0.000244      1       0          1  1.000000e+08\n",
            "2       2016  246       0  1.000000      1       0          2  2.000000e+08\n",
            "3       2016  322      72  0.003906      1       0          2  7.120000e+07\n",
            "4       2016  238     144  0.072848    456       0          1  2.000000e+08\n",
            "...      ...  ...     ...       ...    ...     ...        ...           ...\n",
            "315195  2018  330       0  0.111111      1       0          2  2.503180e+09\n",
            "315196  2018  330       0  0.500000      1       0          2  1.000000e+09\n",
            "315197  2018  330       6  0.020092      2       0          1  3.000000e+08\n",
            "315198  2018  330       0  0.333333      1       0          2  1.372746e+09\n",
            "315199  2018  330       6  1.000000      1       0          2  2.397816e+09\n",
            "\n",
            "[315200 rows x 8 columns]\n",
            "0         princetonCerber\n",
            "1          princetonLocky\n",
            "2         princetonCerber\n",
            "3         princetonCerber\n",
            "4          princetonLocky\n",
            "               ...       \n",
            "315195              white\n",
            "315196              white\n",
            "315197              white\n",
            "315198              white\n",
            "315199              white\n",
            "Name: label, Length: 315200, dtype: object\n"
          ],
          "name": "stdout"
        }
      ]
    },
    {
      "cell_type": "code",
      "metadata": {
        "colab": {
          "base_uri": "https://localhost:8080/"
        },
        "id": "qlXexyrY1QyM",
        "outputId": "0e53b0d2-f455-4e7e-e61e-2322fa2ad1cf"
      },
      "source": [
        "data['label'].value_counts()"
      ],
      "execution_count": null,
      "outputs": [
        {
          "output_type": "execute_result",
          "data": {
            "text/plain": [
              "white                          232374\n",
              "paduaCryptoWall                 24780\n",
              "montrealCryptoLocker            18630\n",
              "princetonCerber                 18446\n",
              "princetonLocky                  13250\n",
              "montrealCryptXXX                 4838\n",
              "montrealNoobCrypt                 966\n",
              "montrealDMALockerv3               708\n",
              "montrealDMALocker                 502\n",
              "montrealSamSam                    124\n",
              "montrealGlobeImposter             110\n",
              "montrealCryptoTorLocker2015       110\n",
              "montrealGlobev3                    68\n",
              "montrealGlobe                      64\n",
              "montrealWannaCry                   56\n",
              "montrealRazy                       26\n",
              "montrealAPT                        22\n",
              "paduaKeRanger                      20\n",
              "montrealFlyper                     18\n",
              "montrealXTPLocker                  16\n",
              "montrealVenusLocker                14\n",
              "montrealXLockerv5.0                14\n",
              "montrealCryptConsole               14\n",
              "montrealEDA2                       12\n",
              "montrealJigSaw                      8\n",
              "paduaJigsaw                         4\n",
              "montrealComradeCircle               2\n",
              "montrealXLocker                     2\n",
              "montrealSam                         2\n",
              "Name: label, dtype: int64"
            ]
          },
          "metadata": {
            "tags": []
          },
          "execution_count": 5
        }
      ]
    },
    {
      "cell_type": "code",
      "metadata": {
        "id": "Fr1jEXyx1OXE"
      },
      "source": [
        "white = data.loc[data['label']=='white']\n",
        "paduaCryptoWall = data.loc[data['label']=='paduaCryptoWall']\n",
        "montrealCryptoLocker = data.loc[data['label']=='montrealCryptoLocker']\n",
        "princetonCerber = data.loc[data['label']=='princetonCerber']\n",
        "princetonLocky = data.loc[data['label']=='princetonLocky']\n",
        "montrealCryptXXX = data.loc[data['label']=='montrealCryptXXX']\n",
        "montrealNoobCrypt = data.loc[data['label']=='montrealNoobCrypt']\n",
        "montrealDMALockerv3 = data.loc[data['label']=='montrealDMALockerv3']\n",
        "montrealDMALocker = data.loc[data['label']=='montrealDMALocker']\n",
        "montrealSamSam = data.loc[data['label']=='montrealSamSam']\n",
        "montrealCryptoTorLocker2015 = data.loc[data['label']=='montrealCryptoTorLocker2015']\n",
        "montrealGlobeImposter = data.loc[data['label']=='montrealGlobeImposter']\n",
        "montrealGlobev3 = data.loc[data['label']=='montrealGlobev3']\n",
        "montrealGlobe = data.loc[data['label']=='montrealGlobe']\n",
        "montrealWannaCry = data.loc[data['label']=='montrealWannaCry']\n",
        "montrealRazy = data.loc[data['label']=='montrealRazy']\n",
        "montrealAPT = data.loc[data['label']=='montrealAPT']\n",
        "paduaKeRanger = data.loc[data['label']=='paduaKeRanger']\n",
        "montrealFlyper = data.loc[data['label']=='montrealFlyper']\n",
        "montrealXTPLocker = data.loc[data['label']=='montrealXTPLocker']\n",
        "montrealVenusLocker = data.loc[data['label']=='montrealVenusLocker']\n",
        "montrealCryptConsole = data.loc[data['label']=='montrealCryptConsole']\n",
        "montrealXLockerv5 = data.loc[data['label']=='montrealXLockerv5']\n",
        "montrealEDA2 = data.loc[data['label']=='montrealEDA2']\n",
        "montrealJigSaw = data.loc[data['label']=='montrealJigSaw']\n",
        "paduaJigsaw = data.loc[data['label']=='paduaJigsaw']\n",
        "montrealXLocker = data.loc[data['label']=='montrealXLocker']\n",
        "montrealSam = data.loc[data['label']=='montrealSam']\n",
        "montrealComradeCircle = data.loc[data['label']=='montrealComradeCircle']"
      ],
      "execution_count": null,
      "outputs": []
    },
    {
      "cell_type": "code",
      "metadata": {
        "id": "2tJoOrlJ2zCS"
      },
      "source": [
        "print(white)\n",
        "print(paduaCryptoWall)\n",
        "print(montrealCryptoLocker)\n",
        "print(princetonCerber)\n",
        "print(princetonLocky)\n",
        "print(montrealCryptXXX)\n",
        "print(montrealNoobCrypt)\n",
        "print(montrealDMALockerv3)\n",
        "print(montrealDMALocker)\n",
        "print(montrealSamSam)\n",
        "print(montrealCryptoTorLocker2015)\n",
        "print(montrealGlobeImposter)\n",
        "print(montrealGlobev3)\n",
        "print(montrealGlobe)\n",
        "print(montrealWannaCry)\n",
        "print(montrealRazy)\n",
        "print(montrealAPT)\n",
        "print(paduaKeRanger)\n",
        "print(montrealFlyper)\n",
        "print(montrealXTPLocker)\n",
        "print(montrealVenusLocker)\n",
        "print(montrealCryptConsole)\n",
        "print(montrealXLockerv5)\n",
        "print(montrealEDA2)\n",
        "print(montrealJigSaw)\n",
        "print(paduaJigsaw)\n",
        "print(montrealXLocker)\n",
        "print(montrealSam)\n",
        "print(montrealComradeCircle)"
      ],
      "execution_count": null,
      "outputs": []
    },
    {
      "cell_type": "code",
      "metadata": {
        "id": "Q5daR75H5Mfd"
      },
      "source": [
        "white=white.replace('white','white')\n",
        "paduaCryptoWall=paduaCryptoWall.replace('paduaCryptoWall','CryptoWall')\n",
        "montrealCryptoLocker=montrealCryptoLocker.replace('montrealCryptoLocker','CryptoLocker')\n",
        "princetonCerber=princetonCerber.replace('princetonCerber','Cerber')\n",
        "princetonLocky=princetonLocky.replace('princetonLocky','Locky')\n",
        "montrealCryptXXX=montrealCryptXXX.replace('montrealCryptXXX','CryptXXX')\n",
        "montrealNoobCrypt=montrealNoobCrypt.replace('montrealNoobCrypt','NoobCrypt')\n",
        "montrealDMALockerv3=montrealDMALockerv3.replace('montrealDMALockerv3','DMA Lockerv3')\n",
        "montrealDMALocker=montrealDMALocker.replace('montrealDMALocker','DMA Locker')\n",
        "montrealSamSam=montrealSamSam.replace('montrealSamSam','SamSam')\n",
        "montrealCryptoTorLocker2015=montrealCryptoTorLocker2015.replace('montrealCryptoTorLocker2015','CryptoTorLocker2015')\n",
        "montrealGlobeImposter=montrealGlobeImposter.replace('montrealGlobeImposter','GlobeImposter')\n",
        "montrealGlobev3=montrealGlobev3.replace('montrealGlobev3','Globev3')\n",
        "montrealGlobe=montrealGlobe.replace('montrealGlobe','Globe')\n",
        "montrealWannaCry=montrealWannaCry.replace('montrealWannaCry','WannaCry')\n",
        "montrealRazy=montrealRazy.replace('montrealRazy','Razy')\n",
        "montrealAPT=montrealAPT.replace('montrealAPT','APT')\n",
        "paduaKeRanger=paduaKeRanger.replace('paduaKeRanger','KeRanger')\n",
        "montrealFlyper=montrealFlyper.replace('montrealFlyper','Flyper')\n",
        "montrealXTPLocker=montrealXTPLocker.replace('montrealXTPLocker','XTP Locker')\n",
        "montrealVenusLocker=montrealVenusLocker.replace('montrealVenusLocker','Venus Locker')\n",
        "montrealCryptConsole=montrealCryptConsole.replace('montrealCryptConsole','CryptConsole')\n",
        "montrealXLockerv5=montrealXLockerv5.replace('montrealXLockerv5','XLockerv5')\n",
        "montrealEDA2=montrealEDA2.replace('montrealEDA2','EDA2')\n",
        "montrealJigSaw=montrealJigSaw.replace('montrealJigSaw','JigSaw')\n",
        "paduaJigsaw=paduaJigsaw.replace('paduaJigsaw','Jigsaw')\n",
        "montrealXLocker=montrealXLocker.replace('montrealXLocker','XLocker')\n",
        "montrealSam=montrealSam.replace('montrealSam','Sam')\n",
        "montrealComradeCircle=montrealComradeCircle.replace('montrealComradeCircle','Comrade Circle')"
      ],
      "execution_count": null,
      "outputs": []
    },
    {
      "cell_type": "code",
      "metadata": {
        "id": "txAy9UiA34EM"
      },
      "source": [
        "'''white.to_csv('/content/drive/MyDrive/Bitcoin Heist/white.csv',index=False)\n",
        "paduaCryptoWall.to_csv('/content/drive/MyDrive/Bitcoin Heist/paduaCryptoWall.csv',index=False)\n",
        "montrealCryptoLocker.to_csv('/content/drive/MyDrive/Bitcoin Heist/montrealCryptoLocker.csv',index=False)\n",
        "princetonCerber.to_csv('/content/drive/MyDrive/Bitcoin Heist/princetonCerber.csv',index=False)\n",
        "princetonLocky.to_csv('/content/drive/MyDrive/Bitcoin Heist/princetonLocky.csv',index=False)\n",
        "montrealCryptXXX.to_csv('/content/drive/MyDrive/Bitcoin Heist/montrealCryptXXX.csv',index=False)\n",
        "montrealNoobCrypt.to_csv('/content/drive/MyDrive/Bitcoin Heist/montrealNoobCrypt.csv',index=False)\n",
        "montrealDMALockerv3.to_csv('/content/drive/MyDrive/Bitcoin Heist/montrealDMALockerv3.csv',index=False)\n",
        "montrealDMALocker.to_csv('/content/drive/MyDrive/Bitcoin Heist/montrealDMALocker.csv',index=False)\n",
        "montrealSamSam.to_csv('/content/drive/MyDrive/Bitcoin Heist/montrealSamSam.csv',index=False)\n",
        "montrealCryptoTorLocker2015.to_csv('/content/drive/MyDrive/Bitcoin Heist/montrealCryptoTorLocker2015.csv',index=False)\n",
        "montrealGlobeImposter.to_csv('/content/drive/MyDrive/Bitcoin Heist/montrealGlobeImposter.csv',index=False)\n",
        "montrealGlobev3.to_csv('/content/drive/MyDrive/Bitcoin Heist/montrealGlobev3.csv',index=False)\n",
        "montrealGlobe.to_csv('/content/drive/MyDrive/Bitcoin Heist/montrealGlobe.csv',index=False)\n",
        "montrealWannaCry.to_csv('/content/drive/MyDrive/Bitcoin Heist/montrealWannaCry.csv',index=False)\n",
        "montrealRazy.to_csv('/content/drive/MyDrive/Bitcoin Heist/montrealRazy.csv',index=False)\n",
        "montrealAPT.to_csv('/content/drive/MyDrive/Bitcoin Heist/montrealAPT.csv',index=False)\n",
        "paduaKeRanger.to_csv('/content/drive/MyDrive/Bitcoin Heist/paduaKeRanger.csv',index=False)\n",
        "montrealFlyper.to_csv('/content/drive/MyDrive/Bitcoin Heist/montrealFlyper.csv',index=False)\n",
        "montrealXTPLocker.to_csv('/content/drive/MyDrive/Bitcoin Heist/montrealXTPLocker.csv',index=False)\n",
        "montrealVenusLocker.to_csv('/content/drive/MyDrive/Bitcoin Heist/montrealVenusLocker.csv',index=False)\n",
        "montrealCryptConsole.to_csv('/content/drive/MyDrive/Bitcoin Heist/montrealCryptConsole.csv',index=False)\n",
        "montrealXLockerv5.to_csv('/content/drive/MyDrive/Bitcoin Heist/montrealXLockerv5.csv',index=False)\n",
        "montrealEDA2.to_csv('/content/drive/MyDrive/Bitcoin Heist/montrealEDA2.csv',index=False)\n",
        "montrealJigSaw.to_csv('/content/drive/MyDrive/Bitcoin Heist/montrealJigSaw.csv',index=False)\n",
        "paduaJigsaw.to_csv('/content/drive/MyDrive/Bitcoin Heist/paduaJigsaw.csv',index=False)\n",
        "montrealXLocker.to_csv('/content/drive/MyDrive/Bitcoin Heist/montrealXLocker.csv',index=False)\n",
        "montrealSam.to_csv('/content/drive/MyDrive/Bitcoin Heist/montrealSam.csv',index=False)\n",
        "montrealComradeCircle.to_csv('/content/drive/MyDrive/Bitcoin Heist/montrealComradeCircle.csv',index=False)'''"
      ],
      "execution_count": null,
      "outputs": []
    },
    {
      "cell_type": "code",
      "metadata": {
        "colab": {
          "base_uri": "https://localhost:8080/"
        },
        "id": "ZOn8KWDwFXdQ",
        "outputId": "4445cc28-86e7-4354-cbaf-d421b4424ac0"
      },
      "source": [
        "montrealRazy['neighbors'].unique()"
      ],
      "execution_count": null,
      "outputs": [
        {
          "output_type": "execute_result",
          "data": {
            "text/plain": [
              "array([ 1, 64,  2, 30, 27])"
            ]
          },
          "metadata": {
            "tags": []
          },
          "execution_count": 9
        }
      ]
    },
    {
      "cell_type": "code",
      "metadata": {
        "colab": {
          "base_uri": "https://localhost:8080/",
          "height": 909
        },
        "id": "U8rKM1168XPF",
        "outputId": "82eac5fb-3717-4fc3-fde7-adc5c688f1dd"
      },
      "source": [
        "import numpy as np\n",
        "import matplotlib.pyplot as plt\n",
        "from matplotlib.pyplot import figure\n",
        "figure(num=None, figsize=(15, 15),facecolor='w', edgecolor='k')\n",
        "x1=princetonCerber[\"income\"]                              \n",
        "y1=princetonCerber[\"neighbors\"]                       \n",
        "x2=montrealWannaCry[\"income\"]                              \n",
        "y2=montrealWannaCry[\"neighbors\"]  \n",
        "x3=montrealRazy[\"income\"]                              \n",
        "y3=montrealRazy[\"neighbors\"]    \n",
        "plot1=plt.scatter(x1,y1)\n",
        "plot2=plt.scatter(x2,y2)\n",
        "plot3=plt.scatter(x3,y3)                \n",
        "plt.title('Neighbors v/s Income', fontsize=18)\n",
        "plt.xlabel('Income', fontsize=18)\n",
        "plt.xticks(fontsize=14)      \n",
        "plt.ylabel('Neighbors', fontsize=18)\n",
        "plt.yticks(np.arange(min(y3), max(y3)+1, 1.0),fontsize=14)      #Select Max Range for y axis.       Increase step count if RAM crashes\n",
        "plt.legend(handles=[plot1,plot2,plot3],labels=['Cerber','WannaCry','Razy'], fontsize=18)\n",
        "plt.savefig('Plot')                             #Download the plot in colab. Check Files section of colab.\n",
        "plt.show()"
      ],
      "execution_count": null,
      "outputs": [
        {
          "output_type": "display_data",
          "data": {
            "image/png": "[encoded data removed]",
            "text/plain": [
              "<Figure size 1080x1080 with 1 Axes>"
            ]
          },
          "metadata": {
            "tags": []
          }
        }
      ]
    }
  ]
}