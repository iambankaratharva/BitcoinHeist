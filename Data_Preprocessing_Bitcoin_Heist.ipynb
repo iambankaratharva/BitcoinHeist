{
  "nbformat": 4,
  "nbformat_minor": 0,
  "metadata": {
    "colab": {
      "name": "Data Preprocessing - Bitcoin Heist",
      "provenance": []
    },
    "kernelspec": {
      "name": "python3",
      "display_name": "Python 3"
    }
  },
  "cells": [
    {
      "cell_type": "code",
      "metadata": {
        "id": "CNIGFTm8Kqth",
        "outputId": "b247dd34-ae5a-4df1-e8cc-60607af6dc91",
        "colab": {
          "base_uri": "https://localhost:8080/"
        }
      },
      "source": [
        "from google.colab import drive\n",
        "drive.mount('/content/drive')"
      ],
      "execution_count": 1,
      "outputs": [
        {
          "output_type": "stream",
          "text": [
            "Mounted at /content/drive\n"
          ],
          "name": "stdout"
        }
      ]
    },
    {
      "cell_type": "code",
      "metadata": {
        "id": "n9Fa3nj7GjfT"
      },
      "source": [
        "import numpy as np\n",
        "import pandas as pd\n",
        "import matplotlib.pyplot as plt"
      ],
      "execution_count": 2,
      "outputs": []
    },
    {
      "cell_type": "code",
      "metadata": {
        "id": "v7Yh5MykKeU2"
      },
      "source": [
        "data = pd.read_csv('/content/drive/My Drive/Bitcoin Heist/BitcoinHeistData.csv')\n",
        "data = data.sort_values(['year', 'day'], ascending=[True, True])"
      ],
      "execution_count": 3,
      "outputs": []
    },
    {
      "cell_type": "code",
      "metadata": {
        "id": "dzu3RttIXyAI",
        "outputId": "4dc24cf7-015c-4969-f7cf-2d7f7bd8ddff",
        "colab": {
          "base_uri": "https://localhost:8080/"
        }
      },
      "source": [
        "from sklearn import preprocessing \n",
        "\n",
        "label_encoder = preprocessing.LabelEncoder() \n",
        "  \n",
        "# Encode labels in column 'species'. \n",
        "data['label']= label_encoder.fit_transform(data['label']) \n",
        "  \n",
        "data['label'].unique()"
      ],
      "execution_count": 4,
      "outputs": [
        {
          "output_type": "execute_result",
          "data": {
            "text/plain": [
              "array([28,  4, 15, 14, 23, 11,  5,  6, 17, 27, 26, 25,  8, 24, 22,  3, 13,\n",
              "        7,  0, 10, 12, 16,  1,  9, 18, 21,  2, 19, 20])"
            ]
          },
          "metadata": {
            "tags": []
          },
          "execution_count": 4
        }
      ]
    },
    {
      "cell_type": "code",
      "metadata": {
        "id": "K2IP6ln7LACg",
        "outputId": "0c29eaa4-8164-4e0a-8216-f0da861211ce",
        "colab": {
          "base_uri": "https://localhost:8080/",
          "height": 204
        }
      },
      "source": [
        "data.head(5)"
      ],
      "execution_count": 5,
      "outputs": [
        {
          "output_type": "execute_result",
          "data": {
            "text/html": [
              "<div>\n",
              "<style scoped>\n",
              "    .dataframe tbody tr th:only-of-type {\n",
              "        vertical-align: middle;\n",
              "    }\n",
              "\n",
              "    .dataframe tbody tr th {\n",
              "        vertical-align: top;\n",
              "    }\n",
              "\n",
              "    .dataframe thead th {\n",
              "        text-align: right;\n",
              "    }\n",
              "</style>\n",
              "<table border=\"1\" class=\"dataframe\">\n",
              "  <thead>\n",
              "    <tr style=\"text-align: right;\">\n",
              "      <th></th>\n",
              "      <th>address</th>\n",
              "      <th>year</th>\n",
              "      <th>day</th>\n",
              "      <th>length</th>\n",
              "      <th>weight</th>\n",
              "      <th>count</th>\n",
              "      <th>looped</th>\n",
              "      <th>neighbors</th>\n",
              "      <th>income</th>\n",
              "      <th>label</th>\n",
              "    </tr>\n",
              "  </thead>\n",
              "  <tbody>\n",
              "    <tr>\n",
              "      <th>41413</th>\n",
              "      <td>19snqSYnDSC4mDbv3pJuYgYqm5ctqwAxnm</td>\n",
              "      <td>2011</td>\n",
              "      <td>1</td>\n",
              "      <td>0</td>\n",
              "      <td>1.0</td>\n",
              "      <td>1</td>\n",
              "      <td>0</td>\n",
              "      <td>1</td>\n",
              "      <td>5.000000e+09</td>\n",
              "      <td>28</td>\n",
              "    </tr>\n",
              "    <tr>\n",
              "      <th>41414</th>\n",
              "      <td>1FeGY25MSKtnwVNGrnbwLsecBpBYrMQ6Kx</td>\n",
              "      <td>2011</td>\n",
              "      <td>1</td>\n",
              "      <td>0</td>\n",
              "      <td>1.0</td>\n",
              "      <td>1</td>\n",
              "      <td>0</td>\n",
              "      <td>2</td>\n",
              "      <td>5.000000e+09</td>\n",
              "      <td>28</td>\n",
              "    </tr>\n",
              "    <tr>\n",
              "      <th>41415</th>\n",
              "      <td>1A1nkBK7tfnVRtVbyiirEWRcayQtSTBCsW</td>\n",
              "      <td>2011</td>\n",
              "      <td>1</td>\n",
              "      <td>0</td>\n",
              "      <td>1.0</td>\n",
              "      <td>1</td>\n",
              "      <td>0</td>\n",
              "      <td>2</td>\n",
              "      <td>9.150000e+08</td>\n",
              "      <td>28</td>\n",
              "    </tr>\n",
              "    <tr>\n",
              "      <th>41416</th>\n",
              "      <td>18wHa1PLzoU4ToemBZn2czZbVEbyZJ2gSi</td>\n",
              "      <td>2011</td>\n",
              "      <td>1</td>\n",
              "      <td>0</td>\n",
              "      <td>1.0</td>\n",
              "      <td>1</td>\n",
              "      <td>0</td>\n",
              "      <td>2</td>\n",
              "      <td>3.402500e+10</td>\n",
              "      <td>28</td>\n",
              "    </tr>\n",
              "    <tr>\n",
              "      <th>41417</th>\n",
              "      <td>188sYyuK756uEsq5LTk9tiXyJHeEjxKT5c</td>\n",
              "      <td>2011</td>\n",
              "      <td>1</td>\n",
              "      <td>0</td>\n",
              "      <td>1.0</td>\n",
              "      <td>1</td>\n",
              "      <td>0</td>\n",
              "      <td>2</td>\n",
              "      <td>1.275100e+10</td>\n",
              "      <td>28</td>\n",
              "    </tr>\n",
              "  </tbody>\n",
              "</table>\n",
              "</div>"
            ],
            "text/plain": [
              "                                  address  year  ...        income  label\n",
              "41413  19snqSYnDSC4mDbv3pJuYgYqm5ctqwAxnm  2011  ...  5.000000e+09     28\n",
              "41414  1FeGY25MSKtnwVNGrnbwLsecBpBYrMQ6Kx  2011  ...  5.000000e+09     28\n",
              "41415  1A1nkBK7tfnVRtVbyiirEWRcayQtSTBCsW  2011  ...  9.150000e+08     28\n",
              "41416  18wHa1PLzoU4ToemBZn2czZbVEbyZJ2gSi  2011  ...  3.402500e+10     28\n",
              "41417  188sYyuK756uEsq5LTk9tiXyJHeEjxKT5c  2011  ...  1.275100e+10     28\n",
              "\n",
              "[5 rows x 10 columns]"
            ]
          },
          "metadata": {
            "tags": []
          },
          "execution_count": 5
        }
      ]
    },
    {
      "cell_type": "code",
      "metadata": {
        "id": "4itZcwMVOE5x"
      },
      "source": [
        "grouped = data.groupby(data.label)\n",
        "data_white = grouped.get_group(28)\n",
        "grouped = data_white.groupby(data_white.year)\n",
        "data_white_2011 = grouped.get_group(2011)\n",
        "data_white_2012 = grouped.get_group(2012)\n",
        "data_white_2013 = grouped.get_group(2013)\n",
        "data_white_2014 = grouped.get_group(2014)\n",
        "data_white_2015 = grouped.get_group(2015)\n",
        "data_white_2016 = grouped.get_group(2016)\n",
        "data_white_2017 = grouped.get_group(2017)\n",
        "data_white_2018 = grouped.get_group(2018)"
      ],
      "execution_count": 6,
      "outputs": []
    },
    {
      "cell_type": "code",
      "metadata": {
        "id": "0b1NVT59evNA",
        "outputId": "08bb67aa-14ed-4a10-df57-1cea31dc5b21",
        "colab": {
          "base_uri": "https://localhost:8080/"
        }
      },
      "source": [
        "data_white_2017.label.value_counts()"
      ],
      "execution_count": 10,
      "outputs": [
        {
          "output_type": "execute_result",
          "data": {
            "text/plain": [
              "28    365000\n",
              "Name: label, dtype: int64"
            ]
          },
          "metadata": {
            "tags": []
          },
          "execution_count": 10
        }
      ]
    },
    {
      "cell_type": "code",
      "metadata": {
        "id": "4g5_41IugzfH",
        "outputId": "0fce7f0b-b192-4299-9f82-a764c7f7f2c5",
        "colab": {
          "base_uri": "https://localhost:8080/",
          "height": 409
        }
      },
      "source": [
        "day = 1\n",
        "counter = 0\n",
        "for day in range(1,367):\n",
        "    day_ctr = 0\n",
        "    while data_white_2011.iloc[counter]['day'] == day:\n",
        "        if day_ctr > 50:\n",
        "            data_white_2011 = data_white_2011.drop(data_white_2011.index[counter])\n",
        "            data_white_2011 = data_white_2011.drop(data_white_2011.index[counter])\n",
        "            data_white_2011 = data_white_2011.drop(data_white_2011.index[counter])\n",
        "            data_white_2011 = data_white_2011.drop(data_white_2011.index[counter])\n",
        "            data_white_2011 = data_white_2011.drop(data_white_2011.index[counter])\n",
        "            data_white_2011 = data_white_2011.drop(data_white_2011.index[counter])\n",
        "            data_white_2011 = data_white_2011.drop(data_white_2011.index[counter])\n",
        "            data_white_2011 = data_white_2011.drop(data_white_2011.index[counter])\n",
        "            data_white_2011 = data_white_2011.drop(data_white_2011.index[counter])\n",
        "            data_white_2011 = data_white_2011.drop(data_white_2011.index[counter])\n",
        "            data_white_2011 = data_white_2011.drop(data_white_2011.index[counter])\n",
        "            data_white_2011 = data_white_2011.drop(data_white_2011.index[counter])\n",
        "            data_white_2011 = data_white_2011.drop(data_white_2011.index[counter])\n",
        "            data_white_2011 = data_white_2011.drop(data_white_2011.index[counter])\n",
        "        counter += 1\n",
        "        day_ctr += 1"
      ],
      "execution_count": 12,
      "outputs": [
        {
          "output_type": "error",
          "ename": "KeyboardInterrupt",
          "evalue": "ignored",
          "traceback": [
            "\u001b[0;31m---------------------------------------------------------------------------\u001b[0m",
            "\u001b[0;31mKeyboardInterrupt\u001b[0m                         Traceback (most recent call last)",
            "\u001b[0;32m<ipython-input-12-3a70c229dfd4>\u001b[0m in \u001b[0;36m<module>\u001b[0;34m()\u001b[0m\n\u001b[1;32m      6\u001b[0m         \u001b[0;32mif\u001b[0m \u001b[0mday_ctr\u001b[0m \u001b[0;34m>\u001b[0m \u001b[0;36m50\u001b[0m\u001b[0;34m:\u001b[0m\u001b[0;34m\u001b[0m\u001b[0;34m\u001b[0m\u001b[0m\n\u001b[1;32m      7\u001b[0m             \u001b[0mdata_white_2011\u001b[0m \u001b[0;34m=\u001b[0m \u001b[0mdata_white_2011\u001b[0m\u001b[0;34m.\u001b[0m\u001b[0mdrop\u001b[0m\u001b[0;34m(\u001b[0m\u001b[0mdata_white_2011\u001b[0m\u001b[0;34m.\u001b[0m\u001b[0mindex\u001b[0m\u001b[0;34m[\u001b[0m\u001b[0mcounter\u001b[0m\u001b[0;34m]\u001b[0m\u001b[0;34m)\u001b[0m\u001b[0;34m\u001b[0m\u001b[0;34m\u001b[0m\u001b[0m\n\u001b[0;32m----> 8\u001b[0;31m             \u001b[0mdata_white_2011\u001b[0m \u001b[0;34m=\u001b[0m \u001b[0mdata_white_2011\u001b[0m\u001b[0;34m.\u001b[0m\u001b[0mdrop\u001b[0m\u001b[0;34m(\u001b[0m\u001b[0mdata_white_2011\u001b[0m\u001b[0;34m.\u001b[0m\u001b[0mindex\u001b[0m\u001b[0;34m[\u001b[0m\u001b[0mcounter\u001b[0m\u001b[0;34m]\u001b[0m\u001b[0;34m)\u001b[0m\u001b[0;34m\u001b[0m\u001b[0;34m\u001b[0m\u001b[0m\n\u001b[0m\u001b[1;32m      9\u001b[0m             \u001b[0mdata_white_2011\u001b[0m \u001b[0;34m=\u001b[0m \u001b[0mdata_white_2011\u001b[0m\u001b[0;34m.\u001b[0m\u001b[0mdrop\u001b[0m\u001b[0;34m(\u001b[0m\u001b[0mdata_white_2011\u001b[0m\u001b[0;34m.\u001b[0m\u001b[0mindex\u001b[0m\u001b[0;34m[\u001b[0m\u001b[0mcounter\u001b[0m\u001b[0;34m]\u001b[0m\u001b[0;34m)\u001b[0m\u001b[0;34m\u001b[0m\u001b[0;34m\u001b[0m\u001b[0m\n\u001b[1;32m     10\u001b[0m             \u001b[0mdata_white_2011\u001b[0m \u001b[0;34m=\u001b[0m \u001b[0mdata_white_2011\u001b[0m\u001b[0;34m.\u001b[0m\u001b[0mdrop\u001b[0m\u001b[0;34m(\u001b[0m\u001b[0mdata_white_2011\u001b[0m\u001b[0;34m.\u001b[0m\u001b[0mindex\u001b[0m\u001b[0;34m[\u001b[0m\u001b[0mcounter\u001b[0m\u001b[0;34m]\u001b[0m\u001b[0;34m)\u001b[0m\u001b[0;34m\u001b[0m\u001b[0;34m\u001b[0m\u001b[0m\n",
            "\u001b[0;32m/usr/local/lib/python3.6/dist-packages/pandas/core/frame.py\u001b[0m in \u001b[0;36mdrop\u001b[0;34m(self, labels, axis, index, columns, level, inplace, errors)\u001b[0m\n\u001b[1;32m   4172\u001b[0m             \u001b[0mlevel\u001b[0m\u001b[0;34m=\u001b[0m\u001b[0mlevel\u001b[0m\u001b[0;34m,\u001b[0m\u001b[0;34m\u001b[0m\u001b[0;34m\u001b[0m\u001b[0m\n\u001b[1;32m   4173\u001b[0m             \u001b[0minplace\u001b[0m\u001b[0;34m=\u001b[0m\u001b[0minplace\u001b[0m\u001b[0;34m,\u001b[0m\u001b[0;34m\u001b[0m\u001b[0;34m\u001b[0m\u001b[0m\n\u001b[0;32m-> 4174\u001b[0;31m             \u001b[0merrors\u001b[0m\u001b[0;34m=\u001b[0m\u001b[0merrors\u001b[0m\u001b[0;34m,\u001b[0m\u001b[0;34m\u001b[0m\u001b[0;34m\u001b[0m\u001b[0m\n\u001b[0m\u001b[1;32m   4175\u001b[0m         )\n\u001b[1;32m   4176\u001b[0m \u001b[0;34m\u001b[0m\u001b[0m\n",
            "\u001b[0;32m/usr/local/lib/python3.6/dist-packages/pandas/core/generic.py\u001b[0m in \u001b[0;36mdrop\u001b[0;34m(self, labels, axis, index, columns, level, inplace, errors)\u001b[0m\n\u001b[1;32m   3885\u001b[0m         \u001b[0;32mfor\u001b[0m \u001b[0maxis\u001b[0m\u001b[0;34m,\u001b[0m \u001b[0mlabels\u001b[0m \u001b[0;32min\u001b[0m \u001b[0maxes\u001b[0m\u001b[0;34m.\u001b[0m\u001b[0mitems\u001b[0m\u001b[0;34m(\u001b[0m\u001b[0;34m)\u001b[0m\u001b[0;34m:\u001b[0m\u001b[0;34m\u001b[0m\u001b[0;34m\u001b[0m\u001b[0m\n\u001b[1;32m   3886\u001b[0m             \u001b[0;32mif\u001b[0m \u001b[0mlabels\u001b[0m \u001b[0;32mis\u001b[0m \u001b[0;32mnot\u001b[0m \u001b[0;32mNone\u001b[0m\u001b[0;34m:\u001b[0m\u001b[0;34m\u001b[0m\u001b[0;34m\u001b[0m\u001b[0m\n\u001b[0;32m-> 3887\u001b[0;31m                 \u001b[0mobj\u001b[0m \u001b[0;34m=\u001b[0m \u001b[0mobj\u001b[0m\u001b[0;34m.\u001b[0m\u001b[0m_drop_axis\u001b[0m\u001b[0;34m(\u001b[0m\u001b[0mlabels\u001b[0m\u001b[0;34m,\u001b[0m \u001b[0maxis\u001b[0m\u001b[0;34m,\u001b[0m \u001b[0mlevel\u001b[0m\u001b[0;34m=\u001b[0m\u001b[0mlevel\u001b[0m\u001b[0;34m,\u001b[0m \u001b[0merrors\u001b[0m\u001b[0;34m=\u001b[0m\u001b[0merrors\u001b[0m\u001b[0;34m)\u001b[0m\u001b[0;34m\u001b[0m\u001b[0;34m\u001b[0m\u001b[0m\n\u001b[0m\u001b[1;32m   3888\u001b[0m \u001b[0;34m\u001b[0m\u001b[0m\n\u001b[1;32m   3889\u001b[0m         \u001b[0;32mif\u001b[0m \u001b[0minplace\u001b[0m\u001b[0;34m:\u001b[0m\u001b[0;34m\u001b[0m\u001b[0;34m\u001b[0m\u001b[0m\n",
            "\u001b[0;32m/usr/local/lib/python3.6/dist-packages/pandas/core/generic.py\u001b[0m in \u001b[0;36m_drop_axis\u001b[0;34m(self, labels, axis, level, errors)\u001b[0m\n\u001b[1;32m   3919\u001b[0m                 \u001b[0mnew_axis\u001b[0m \u001b[0;34m=\u001b[0m \u001b[0maxis\u001b[0m\u001b[0;34m.\u001b[0m\u001b[0mdrop\u001b[0m\u001b[0;34m(\u001b[0m\u001b[0mlabels\u001b[0m\u001b[0;34m,\u001b[0m \u001b[0mlevel\u001b[0m\u001b[0;34m=\u001b[0m\u001b[0mlevel\u001b[0m\u001b[0;34m,\u001b[0m \u001b[0merrors\u001b[0m\u001b[0;34m=\u001b[0m\u001b[0merrors\u001b[0m\u001b[0;34m)\u001b[0m\u001b[0;34m\u001b[0m\u001b[0;34m\u001b[0m\u001b[0m\n\u001b[1;32m   3920\u001b[0m             \u001b[0;32melse\u001b[0m\u001b[0;34m:\u001b[0m\u001b[0;34m\u001b[0m\u001b[0;34m\u001b[0m\u001b[0m\n\u001b[0;32m-> 3921\u001b[0;31m                 \u001b[0mnew_axis\u001b[0m \u001b[0;34m=\u001b[0m \u001b[0maxis\u001b[0m\u001b[0;34m.\u001b[0m\u001b[0mdrop\u001b[0m\u001b[0;34m(\u001b[0m\u001b[0mlabels\u001b[0m\u001b[0;34m,\u001b[0m \u001b[0merrors\u001b[0m\u001b[0;34m=\u001b[0m\u001b[0merrors\u001b[0m\u001b[0;34m)\u001b[0m\u001b[0;34m\u001b[0m\u001b[0;34m\u001b[0m\u001b[0m\n\u001b[0m\u001b[1;32m   3922\u001b[0m             \u001b[0mresult\u001b[0m \u001b[0;34m=\u001b[0m \u001b[0mself\u001b[0m\u001b[0;34m.\u001b[0m\u001b[0mreindex\u001b[0m\u001b[0;34m(\u001b[0m\u001b[0;34m**\u001b[0m\u001b[0;34m{\u001b[0m\u001b[0maxis_name\u001b[0m\u001b[0;34m:\u001b[0m \u001b[0mnew_axis\u001b[0m\u001b[0;34m}\u001b[0m\u001b[0;34m)\u001b[0m\u001b[0;34m\u001b[0m\u001b[0;34m\u001b[0m\u001b[0m\n\u001b[1;32m   3923\u001b[0m \u001b[0;34m\u001b[0m\u001b[0m\n",
            "\u001b[0;32m/usr/local/lib/python3.6/dist-packages/pandas/core/indexes/base.py\u001b[0m in \u001b[0;36mdrop\u001b[0;34m(self, labels, errors)\u001b[0m\n\u001b[1;32m   5284\u001b[0m                 \u001b[0;32mraise\u001b[0m \u001b[0mKeyError\u001b[0m\u001b[0;34m(\u001b[0m\u001b[0;34mf\"{labels[mask]} not found in axis\"\u001b[0m\u001b[0;34m)\u001b[0m\u001b[0;34m\u001b[0m\u001b[0;34m\u001b[0m\u001b[0m\n\u001b[1;32m   5285\u001b[0m             \u001b[0mindexer\u001b[0m \u001b[0;34m=\u001b[0m \u001b[0mindexer\u001b[0m\u001b[0;34m[\u001b[0m\u001b[0;34m~\u001b[0m\u001b[0mmask\u001b[0m\u001b[0;34m]\u001b[0m\u001b[0;34m\u001b[0m\u001b[0;34m\u001b[0m\u001b[0m\n\u001b[0;32m-> 5286\u001b[0;31m         \u001b[0;32mreturn\u001b[0m \u001b[0mself\u001b[0m\u001b[0;34m.\u001b[0m\u001b[0mdelete\u001b[0m\u001b[0;34m(\u001b[0m\u001b[0mindexer\u001b[0m\u001b[0;34m)\u001b[0m\u001b[0;34m\u001b[0m\u001b[0;34m\u001b[0m\u001b[0m\n\u001b[0m\u001b[1;32m   5287\u001b[0m \u001b[0;34m\u001b[0m\u001b[0m\n\u001b[1;32m   5288\u001b[0m     \u001b[0;31m# --------------------------------------------------------------------\u001b[0m\u001b[0;34m\u001b[0m\u001b[0;34m\u001b[0m\u001b[0;34m\u001b[0m\u001b[0m\n",
            "\u001b[0;32m/usr/local/lib/python3.6/dist-packages/pandas/core/indexes/base.py\u001b[0m in \u001b[0;36mdelete\u001b[0;34m(self, loc)\u001b[0m\n\u001b[1;32m   5233\u001b[0m         \u001b[0mIndex\u001b[0m\u001b[0;34m(\u001b[0m\u001b[0;34m[\u001b[0m\u001b[0;34m'b'\u001b[0m\u001b[0;34m]\u001b[0m\u001b[0;34m,\u001b[0m \u001b[0mdtype\u001b[0m\u001b[0;34m=\u001b[0m\u001b[0;34m'object'\u001b[0m\u001b[0;34m)\u001b[0m\u001b[0;34m\u001b[0m\u001b[0;34m\u001b[0m\u001b[0m\n\u001b[1;32m   5234\u001b[0m         \"\"\"\n\u001b[0;32m-> 5235\u001b[0;31m         \u001b[0;32mreturn\u001b[0m \u001b[0mself\u001b[0m\u001b[0;34m.\u001b[0m\u001b[0m_shallow_copy\u001b[0m\u001b[0;34m(\u001b[0m\u001b[0mnp\u001b[0m\u001b[0;34m.\u001b[0m\u001b[0mdelete\u001b[0m\u001b[0;34m(\u001b[0m\u001b[0mself\u001b[0m\u001b[0;34m.\u001b[0m\u001b[0m_data\u001b[0m\u001b[0;34m,\u001b[0m \u001b[0mloc\u001b[0m\u001b[0;34m)\u001b[0m\u001b[0;34m)\u001b[0m\u001b[0;34m\u001b[0m\u001b[0;34m\u001b[0m\u001b[0m\n\u001b[0m\u001b[1;32m   5236\u001b[0m \u001b[0;34m\u001b[0m\u001b[0m\n\u001b[1;32m   5237\u001b[0m     \u001b[0;32mdef\u001b[0m \u001b[0minsert\u001b[0m\u001b[0;34m(\u001b[0m\u001b[0mself\u001b[0m\u001b[0;34m,\u001b[0m \u001b[0mloc\u001b[0m\u001b[0;34m:\u001b[0m \u001b[0mint\u001b[0m\u001b[0;34m,\u001b[0m \u001b[0mitem\u001b[0m\u001b[0;34m)\u001b[0m\u001b[0;34m:\u001b[0m\u001b[0;34m\u001b[0m\u001b[0;34m\u001b[0m\u001b[0m\n",
            "\u001b[0;32m<__array_function__ internals>\u001b[0m in \u001b[0;36mdelete\u001b[0;34m(*args, **kwargs)\u001b[0m\n",
            "\u001b[0;32m/usr/local/lib/python3.6/dist-packages/numpy/lib/function_base.py\u001b[0m in \u001b[0;36mdelete\u001b[0;34m(arr, obj, axis)\u001b[0m\n\u001b[1;32m   4415\u001b[0m         \u001b[0mkeep\u001b[0m\u001b[0;34m[\u001b[0m\u001b[0mobj\u001b[0m\u001b[0;34m,\u001b[0m \u001b[0;34m]\u001b[0m \u001b[0;34m=\u001b[0m \u001b[0;32mFalse\u001b[0m\u001b[0;34m\u001b[0m\u001b[0;34m\u001b[0m\u001b[0m\n\u001b[1;32m   4416\u001b[0m         \u001b[0mslobj\u001b[0m\u001b[0;34m[\u001b[0m\u001b[0maxis\u001b[0m\u001b[0;34m]\u001b[0m \u001b[0;34m=\u001b[0m \u001b[0mkeep\u001b[0m\u001b[0;34m\u001b[0m\u001b[0;34m\u001b[0m\u001b[0m\n\u001b[0;32m-> 4417\u001b[0;31m         \u001b[0mnew\u001b[0m \u001b[0;34m=\u001b[0m \u001b[0marr\u001b[0m\u001b[0;34m[\u001b[0m\u001b[0mtuple\u001b[0m\u001b[0;34m(\u001b[0m\u001b[0mslobj\u001b[0m\u001b[0;34m)\u001b[0m\u001b[0;34m]\u001b[0m\u001b[0;34m\u001b[0m\u001b[0;34m\u001b[0m\u001b[0m\n\u001b[0m\u001b[1;32m   4418\u001b[0m \u001b[0;34m\u001b[0m\u001b[0m\n\u001b[1;32m   4419\u001b[0m     \u001b[0;32mif\u001b[0m \u001b[0mwrap\u001b[0m\u001b[0;34m:\u001b[0m\u001b[0;34m\u001b[0m\u001b[0;34m\u001b[0m\u001b[0m\n",
            "\u001b[0;31mKeyboardInterrupt\u001b[0m: "
          ]
        }
      ]
    },
    {
      "cell_type": "code",
      "metadata": {
        "id": "ocE-OJreNVha"
      },
      "source": [
        "data_white_2011.to_csv('/content/drive/My Drive/Bitcoin Heist/data_white_2011.csv')"
      ],
      "execution_count": null,
      "outputs": []
    },
    {
      "cell_type": "code",
      "metadata": {
        "id": "Ri6xGta4GFoA"
      },
      "source": [
        "day = 1\n",
        "counter = 0\n",
        "for day in range(1,367):\n",
        "    print(ctr)\n",
        "    day_ctr = 0\n",
        "    while data_white_2012.iloc[counter]['day'] == day:\n",
        "        if day_ctr > 50:\n",
        "            print(counter)\n",
        "            print(day_ctr)\n",
        "            print(day)\n",
        "            data_white_2012 = data_white_2012.drop(data_white_2012.index[counter])\n",
        "            data_white_2012 = data_white_2012.drop(data_white_2012.index[counter])\n",
        "            data_white_2012 = data_white_2012.drop(data_white_2012.index[counter])\n",
        "            data_white_2012 = data_white_2012.drop(data_white_2012.index[counter])\n",
        "            data_white_2012 = data_white_2012.drop(data_white_2012.index[counter])\n",
        "            data_white_2012 = data_white_2012.drop(data_white_2012.index[counter])\n",
        "            data_white_2012 = data_white_2012.drop(data_white_2012.index[counter])\n",
        "            data_white_2012 = data_white_2012.drop(data_white_2012.index[counter])\n",
        "            data_white_2012 = data_white_2012.drop(data_white_2012.index[counter])\n",
        "            data_white_2012 = data_white_2012.drop(data_white_2012.index[counter])\n",
        "            data_white_2012 = data_white_2012.drop(data_white_2012.index[counter])\n",
        "            data_white_2012 = data_white_2012.drop(data_white_2012.index[counter])\n",
        "            data_white_2012 = data_white_2012.drop(data_white_2012.index[counter])\n",
        "            data_white_2012 = data_white_2012.drop(data_white_2012.index[counter])\n",
        "        counter += 1\n",
        "        day_ctr += 1"
      ],
      "execution_count": null,
      "outputs": []
    },
    {
      "cell_type": "code",
      "metadata": {
        "id": "v1YZVIVKNXyL"
      },
      "source": [
        "data_white_2012.to_csv('/content/drive/My Drive/Bitcoin Heist/data_white_2012.csv')"
      ],
      "execution_count": null,
      "outputs": []
    },
    {
      "cell_type": "code",
      "metadata": {
        "id": "JdOYtQH5GhlA"
      },
      "source": [
        "day = 1\n",
        "counter = 0\n",
        "for day in range(1,367):\n",
        "    print(ctr)\n",
        "    day_ctr = 0\n",
        "    while data_white_2013.iloc[counter]['day'] == day:\n",
        "        if day_ctr > 50:\n",
        "            print(counter)\n",
        "            print(day_ctr)\n",
        "            print(day)\n",
        "            data_white_2013 = data_white_2013.drop(data_white_2013.index[counter])\n",
        "            data_white_2013 = data_white_2013.drop(data_white_2013.index[counter])\n",
        "            data_white_2013 = data_white_2013.drop(data_white_2013.index[counter])\n",
        "            data_white_2013 = data_white_2013.drop(data_white_2013.index[counter])\n",
        "            data_white_2013 = data_white_2013.drop(data_white_2013.index[counter])\n",
        "            data_white_2013 = data_white_2013.drop(data_white_2013.index[counter])\n",
        "            data_white_2013 = data_white_2013.drop(data_white_2013.index[counter])\n",
        "            data_white_2013 = data_white_2013.drop(data_white_2013.index[counter])\n",
        "            data_white_2013 = data_white_2013.drop(data_white_2013.index[counter])\n",
        "            data_white_2013 = data_white_2013.drop(data_white_2013.index[counter])\n",
        "            data_white_2013 = data_white_2013.drop(data_white_2013.index[counter])\n",
        "            data_white_2013 = data_white_2013.drop(data_white_2013.index[counter])\n",
        "            data_white_2013 = data_white_2013.drop(data_white_2013.index[counter])\n",
        "            data_white_2013 = data_white_2013.drop(data_white_2013.index[counter])\n",
        "        counter += 1\n",
        "        day_ctr += 1"
      ],
      "execution_count": null,
      "outputs": []
    },
    {
      "cell_type": "code",
      "metadata": {
        "id": "HRLmgS4ONbtn"
      },
      "source": [
        "data_white_2013.to_csv('/content/drive/My Drive/Bitcoin Heist/data_white_2013.csv')"
      ],
      "execution_count": null,
      "outputs": []
    },
    {
      "cell_type": "code",
      "metadata": {
        "id": "zwVHyxZtG4vi"
      },
      "source": [
        "day = 1\n",
        "counter = 0\n",
        "for day in range(1,367):\n",
        "    print(ctr)\n",
        "    day_ctr = 0\n",
        "    while data_white_2014.iloc[counter]['day'] == day:\n",
        "        if day_ctr > 50:\n",
        "            print(counter)\n",
        "            print(day_ctr)\n",
        "            print(day)\n",
        "            data_white_2014 = data_white_2014.drop(data_white_2014.index[counter])\n",
        "            data_white_2014 = data_white_2014.drop(data_white_2014.index[counter])\n",
        "            data_white_2014 = data_white_2014.drop(data_white_2014.index[counter])\n",
        "            data_white_2014 = data_white_2014.drop(data_white_2014.index[counter])\n",
        "            data_white_2014 = data_white_2014.drop(data_white_2014.index[counter])\n",
        "            data_white_2014 = data_white_2014.drop(data_white_2014.index[counter])\n",
        "            data_white_2014 = data_white_2014.drop(data_white_2014.index[counter])\n",
        "            data_white_2014 = data_white_2014.drop(data_white_2014.index[counter])\n",
        "            data_white_2014 = data_white_2014.drop(data_white_2014.index[counter])\n",
        "            data_white_2014 = data_white_2014.drop(data_white_2014.index[counter])\n",
        "            data_white_2014 = data_white_2014.drop(data_white_2014.index[counter])\n",
        "            data_white_2014 = data_white_2014.drop(data_white_2014.index[counter])\n",
        "            data_white_2014 = data_white_2014.drop(data_white_2014.index[counter])\n",
        "            data_white_2014 = data_white_2014.drop(data_white_2014.index[counter])\n",
        "        counter += 1\n",
        "        day_ctr += 1"
      ],
      "execution_count": null,
      "outputs": []
    },
    {
      "cell_type": "code",
      "metadata": {
        "id": "ukuvklM2Nh6D"
      },
      "source": [
        "data_white_2014.to_csv('/content/drive/My Drive/Bitcoin Heist/data_white_2014.csv')"
      ],
      "execution_count": null,
      "outputs": []
    },
    {
      "cell_type": "code",
      "metadata": {
        "id": "-v1qz0PbHQ9S"
      },
      "source": [
        "day = 1\n",
        "counter = 0\n",
        "for day in range(1,367):\n",
        "    print(ctr)\n",
        "    day_ctr = 0\n",
        "    while data_white_2015.iloc[counter]['day'] == day:\n",
        "        if day_ctr > 50:\n",
        "            print(counter)\n",
        "            print(day_ctr)\n",
        "            print(day)\n",
        "            data_white_2015 = data_white_2015.drop(data_white_2015.index[counter])\n",
        "            data_white_2015 = data_white_2015.drop(data_white_2015.index[counter])\n",
        "            data_white_2015 = data_white_2015.drop(data_white_2015.index[counter])\n",
        "            data_white_2015 = data_white_2015.drop(data_white_2015.index[counter])\n",
        "            data_white_2015 = data_white_2015.drop(data_white_2015.index[counter])\n",
        "            data_white_2015 = data_white_2015.drop(data_white_2015.index[counter])\n",
        "            data_white_2015 = data_white_2015.drop(data_white_2015.index[counter])\n",
        "            data_white_2015 = data_white_2015.drop(data_white_2015.index[counter])\n",
        "            data_white_2015 = data_white_2015.drop(data_white_2015.index[counter])\n",
        "            data_white_2015 = data_white_2015.drop(data_white_2015.index[counter])\n",
        "            data_white_2015 = data_white_2015.drop(data_white_2015.index[counter])\n",
        "            data_white_2015 = data_white_2015.drop(data_white_2015.index[counter])\n",
        "            data_white_2015 = data_white_2015.drop(data_white_2015.index[counter])\n",
        "            data_white_2015 = data_white_2015.drop(data_white_2015.index[counter])\n",
        "        counter += 1\n",
        "        day_ctr += 1"
      ],
      "execution_count": null,
      "outputs": []
    },
    {
      "cell_type": "code",
      "metadata": {
        "id": "lUhgDqYcNkU_"
      },
      "source": [
        "data_white_2015.to_csv('/content/drive/My Drive/Bitcoin Heist/data_white_2015.csv')"
      ],
      "execution_count": null,
      "outputs": []
    },
    {
      "cell_type": "code",
      "metadata": {
        "id": "0utwNHA1Hi2s"
      },
      "source": [
        "day = 1\n",
        "counter = 0\n",
        "for day in range(1,367):\n",
        "    print(ctr)\n",
        "    day_ctr = 0\n",
        "    while data_white_2016.iloc[counter]['day'] == day:\n",
        "        if day_ctr > 50:\n",
        "            data_white_2016 = data_white_2016.drop(data_white_2016.index[counter])\n",
        "            data_white_2016 = data_white_2016.drop(data_white_2016.index[counter])\n",
        "            data_white_2016 = data_white_2016.drop(data_white_2016.index[counter])\n",
        "            data_white_2016 = data_white_2016.drop(data_white_2016.index[counter])\n",
        "            data_white_2016 = data_white_2016.drop(data_white_2016.index[counter])\n",
        "            data_white_2016 = data_white_2016.drop(data_white_2016.index[counter])\n",
        "            data_white_2016 = data_white_2016.drop(data_white_2016.index[counter])\n",
        "            data_white_2016 = data_white_2016.drop(data_white_2016.index[counter])\n",
        "            data_white_2016 = data_white_2016.drop(data_white_2016.index[counter])\n",
        "            data_white_2016 = data_white_2016.drop(data_white_2016.index[counter])\n",
        "            data_white_2016 = data_white_2016.drop(data_white_2016.index[counter])\n",
        "            data_white_2016 = data_white_2016.drop(data_white_2016.index[counter])\n",
        "            data_white_2016 = data_white_2016.drop(data_white_2016.index[counter])\n",
        "            data_white_2016 = data_white_2016.drop(data_white_2016.index[counter])\n",
        "        counter += 1\n",
        "        day_ctr += 1"
      ],
      "execution_count": null,
      "outputs": []
    },
    {
      "cell_type": "code",
      "metadata": {
        "id": "41siHvitNm0E"
      },
      "source": [
        "data_white_2016.to_csv('/content/drive/My Drive/Bitcoin Heist/data_white_2016.csv')"
      ],
      "execution_count": null,
      "outputs": []
    },
    {
      "cell_type": "code",
      "metadata": {
        "id": "nQLcNvxyH58A"
      },
      "source": [
        "day = 1\n",
        "counter = 0\n",
        "for day in range(1,367):\n",
        "    print(ctr)\n",
        "    day_ctr = 0\n",
        "    while data_white_2017.iloc[counter]['day'] == day:\n",
        "        if day_ctr > 50:\n",
        "            data_white_2017 = data_white_2017.drop(data_white_2017.index[counter])\n",
        "            data_white_2017 = data_white_2017.drop(data_white_2017.index[counter])\n",
        "            data_white_2017 = data_white_2017.drop(data_white_2017.index[counter])\n",
        "            data_white_2017 = data_white_2017.drop(data_white_2017.index[counter])\n",
        "            data_white_2017 = data_white_2017.drop(data_white_2017.index[counter])\n",
        "            data_white_2017 = data_white_2017.drop(data_white_2017.index[counter])\n",
        "            data_white_2017 = data_white_2017.drop(data_white_2017.index[counter])\n",
        "            data_white_2017 = data_white_2017.drop(data_white_2017.index[counter])\n",
        "            data_white_2017 = data_white_2017.drop(data_white_2017.index[counter])\n",
        "            data_white_2017 = data_white_2017.drop(data_white_2017.index[counter])\n",
        "            data_white_2017 = data_white_2017.drop(data_white_2017.index[counter])\n",
        "            data_white_2017 = data_white_2017.drop(data_white_2017.index[counter])\n",
        "            data_white_2017 = data_white_2017.drop(data_white_2017.index[counter])\n",
        "            data_white_2017 = data_white_2017.drop(data_white_2017.index[counter])\n",
        "        counter += 1\n",
        "        day_ctr += 1"
      ],
      "execution_count": null,
      "outputs": []
    },
    {
      "cell_type": "code",
      "metadata": {
        "id": "2SJ5_9j7NpTW"
      },
      "source": [
        "data_white_2017.to_csv('/content/drive/My Drive/Bitcoin Heist/data_white_2017.csv')"
      ],
      "execution_count": null,
      "outputs": []
    },
    {
      "cell_type": "code",
      "metadata": {
        "id": "KXTdrDbjIPho"
      },
      "source": [
        "day = 1\n",
        "counter = 0\n",
        "for day in range(1,367):\n",
        "    print(ctr)\n",
        "    day_ctr = 0\n",
        "    while data_white_2018.iloc[counter]['day'] == day:\n",
        "        if day_ctr > 50:\n",
        "            data_white_2018 = data_white_2018.drop(data_white_2018.index[counter])\n",
        "            data_white_2018 = data_white_2018.drop(data_white_2018.index[counter])\n",
        "            data_white_2018 = data_white_2018.drop(data_white_2018.index[counter])\n",
        "            data_white_2018 = data_white_2018.drop(data_white_2018.index[counter])\n",
        "            data_white_2018 = data_white_2018.drop(data_white_2018.index[counter])\n",
        "            data_white_2018 = data_white_2018.drop(data_white_2018.index[counter])\n",
        "            data_white_2018 = data_white_2018.drop(data_white_2018.index[counter])\n",
        "            data_white_2018 = data_white_2018.drop(data_white_2018.index[counter])\n",
        "            data_white_2018 = data_white_2018.drop(data_white_2018.index[counter])\n",
        "            data_white_2018 = data_white_2018.drop(data_white_2018.index[counter])\n",
        "            data_white_2018 = data_white_2018.drop(data_white_2018.index[counter])\n",
        "            data_white_2018 = data_white_2018.drop(data_white_2018.index[counter])\n",
        "            data_white_2018 = data_white_2018.drop(data_white_2018.index[counter])\n",
        "            data_white_2018 = data_white_2018.drop(data_white_2018.index[counter])\n",
        "        counter += 1\n",
        "        day_ctr += 1"
      ],
      "execution_count": null,
      "outputs": []
    },
    {
      "cell_type": "code",
      "metadata": {
        "id": "xnOSs6gaNsis"
      },
      "source": [
        "data_white_2018.to_csv('/content/drive/My Drive/Bitcoin Heist/data_white_2018.csv')"
      ],
      "execution_count": null,
      "outputs": []
    },
    {
      "cell_type": "code",
      "metadata": {
        "id": "ECnWz4HCo75l",
        "outputId": "15d387af-3beb-4c77-e356-31b688479385",
        "colab": {
          "base_uri": "https://localhost:8080/",
          "height": 419
        }
      },
      "source": [
        "data_white_2011.head(90)"
      ],
      "execution_count": 294,
      "outputs": [
        {
          "output_type": "execute_result",
          "data": {
            "text/html": [
              "<div>\n",
              "<style scoped>\n",
              "    .dataframe tbody tr th:only-of-type {\n",
              "        vertical-align: middle;\n",
              "    }\n",
              "\n",
              "    .dataframe tbody tr th {\n",
              "        vertical-align: top;\n",
              "    }\n",
              "\n",
              "    .dataframe thead th {\n",
              "        text-align: right;\n",
              "    }\n",
              "</style>\n",
              "<table border=\"1\" class=\"dataframe\">\n",
              "  <thead>\n",
              "    <tr style=\"text-align: right;\">\n",
              "      <th></th>\n",
              "      <th>address</th>\n",
              "      <th>year</th>\n",
              "      <th>day</th>\n",
              "      <th>length</th>\n",
              "      <th>weight</th>\n",
              "      <th>count</th>\n",
              "      <th>looped</th>\n",
              "      <th>neighbors</th>\n",
              "      <th>income</th>\n",
              "      <th>label</th>\n",
              "    </tr>\n",
              "  </thead>\n",
              "  <tbody>\n",
              "    <tr>\n",
              "      <th>41413</th>\n",
              "      <td>19snqSYnDSC4mDbv3pJuYgYqm5ctqwAxnm</td>\n",
              "      <td>2011</td>\n",
              "      <td>1</td>\n",
              "      <td>0</td>\n",
              "      <td>1.000000</td>\n",
              "      <td>1</td>\n",
              "      <td>0</td>\n",
              "      <td>1</td>\n",
              "      <td>5.000000e+09</td>\n",
              "      <td>28</td>\n",
              "    </tr>\n",
              "    <tr>\n",
              "      <th>41414</th>\n",
              "      <td>1FeGY25MSKtnwVNGrnbwLsecBpBYrMQ6Kx</td>\n",
              "      <td>2011</td>\n",
              "      <td>1</td>\n",
              "      <td>0</td>\n",
              "      <td>1.000000</td>\n",
              "      <td>1</td>\n",
              "      <td>0</td>\n",
              "      <td>2</td>\n",
              "      <td>5.000000e+09</td>\n",
              "      <td>28</td>\n",
              "    </tr>\n",
              "    <tr>\n",
              "      <th>41415</th>\n",
              "      <td>1A1nkBK7tfnVRtVbyiirEWRcayQtSTBCsW</td>\n",
              "      <td>2011</td>\n",
              "      <td>1</td>\n",
              "      <td>0</td>\n",
              "      <td>1.000000</td>\n",
              "      <td>1</td>\n",
              "      <td>0</td>\n",
              "      <td>2</td>\n",
              "      <td>9.150000e+08</td>\n",
              "      <td>28</td>\n",
              "    </tr>\n",
              "    <tr>\n",
              "      <th>41416</th>\n",
              "      <td>18wHa1PLzoU4ToemBZn2czZbVEbyZJ2gSi</td>\n",
              "      <td>2011</td>\n",
              "      <td>1</td>\n",
              "      <td>0</td>\n",
              "      <td>1.000000</td>\n",
              "      <td>1</td>\n",
              "      <td>0</td>\n",
              "      <td>2</td>\n",
              "      <td>3.402500e+10</td>\n",
              "      <td>28</td>\n",
              "    </tr>\n",
              "    <tr>\n",
              "      <th>41417</th>\n",
              "      <td>188sYyuK756uEsq5LTk9tiXyJHeEjxKT5c</td>\n",
              "      <td>2011</td>\n",
              "      <td>1</td>\n",
              "      <td>0</td>\n",
              "      <td>1.000000</td>\n",
              "      <td>1</td>\n",
              "      <td>0</td>\n",
              "      <td>2</td>\n",
              "      <td>1.275100e+10</td>\n",
              "      <td>28</td>\n",
              "    </tr>\n",
              "    <tr>\n",
              "      <th>...</th>\n",
              "      <td>...</td>\n",
              "      <td>...</td>\n",
              "      <td>...</td>\n",
              "      <td>...</td>\n",
              "      <td>...</td>\n",
              "      <td>...</td>\n",
              "      <td>...</td>\n",
              "      <td>...</td>\n",
              "      <td>...</td>\n",
              "      <td>...</td>\n",
              "    </tr>\n",
              "    <tr>\n",
              "      <th>41904</th>\n",
              "      <td>1JYF8Xf9k3cvCifsyS7BDRU1Q9MX8cRVr5</td>\n",
              "      <td>2011</td>\n",
              "      <td>2</td>\n",
              "      <td>0</td>\n",
              "      <td>1.000000</td>\n",
              "      <td>1</td>\n",
              "      <td>0</td>\n",
              "      <td>2</td>\n",
              "      <td>3.389000e+10</td>\n",
              "      <td>28</td>\n",
              "    </tr>\n",
              "    <tr>\n",
              "      <th>41905</th>\n",
              "      <td>1N6qPF2SZm6To2rTGCir2z6FM2yyLEz4Pf</td>\n",
              "      <td>2011</td>\n",
              "      <td>2</td>\n",
              "      <td>2</td>\n",
              "      <td>1.000000</td>\n",
              "      <td>1</td>\n",
              "      <td>0</td>\n",
              "      <td>2</td>\n",
              "      <td>1.240100e+10</td>\n",
              "      <td>28</td>\n",
              "    </tr>\n",
              "    <tr>\n",
              "      <th>41906</th>\n",
              "      <td>18p4zkDFrHSkmrqBNh2qxjswhcKQaQ9ezp</td>\n",
              "      <td>2011</td>\n",
              "      <td>2</td>\n",
              "      <td>48</td>\n",
              "      <td>0.000002</td>\n",
              "      <td>1</td>\n",
              "      <td>0</td>\n",
              "      <td>2</td>\n",
              "      <td>1.310000e+08</td>\n",
              "      <td>28</td>\n",
              "    </tr>\n",
              "    <tr>\n",
              "      <th>41907</th>\n",
              "      <td>1B1DaeErdu22rBaV4kayevZPVA4ZbguTKz</td>\n",
              "      <td>2011</td>\n",
              "      <td>2</td>\n",
              "      <td>0</td>\n",
              "      <td>0.500000</td>\n",
              "      <td>1</td>\n",
              "      <td>0</td>\n",
              "      <td>2</td>\n",
              "      <td>3.410000e+08</td>\n",
              "      <td>28</td>\n",
              "    </tr>\n",
              "    <tr>\n",
              "      <th>41908</th>\n",
              "      <td>1PzN1eXLj28tE1RriDduksBTAr3exbaxCe</td>\n",
              "      <td>2011</td>\n",
              "      <td>2</td>\n",
              "      <td>0</td>\n",
              "      <td>1.000000</td>\n",
              "      <td>1</td>\n",
              "      <td>0</td>\n",
              "      <td>1</td>\n",
              "      <td>1.000000e+11</td>\n",
              "      <td>28</td>\n",
              "    </tr>\n",
              "  </tbody>\n",
              "</table>\n",
              "<p>90 rows × 10 columns</p>\n",
              "</div>"
            ],
            "text/plain": [
              "                                  address  year  ...        income  label\n",
              "41413  19snqSYnDSC4mDbv3pJuYgYqm5ctqwAxnm  2011  ...  5.000000e+09     28\n",
              "41414  1FeGY25MSKtnwVNGrnbwLsecBpBYrMQ6Kx  2011  ...  5.000000e+09     28\n",
              "41415  1A1nkBK7tfnVRtVbyiirEWRcayQtSTBCsW  2011  ...  9.150000e+08     28\n",
              "41416  18wHa1PLzoU4ToemBZn2czZbVEbyZJ2gSi  2011  ...  3.402500e+10     28\n",
              "41417  188sYyuK756uEsq5LTk9tiXyJHeEjxKT5c  2011  ...  1.275100e+10     28\n",
              "...                                   ...   ...  ...           ...    ...\n",
              "41904  1JYF8Xf9k3cvCifsyS7BDRU1Q9MX8cRVr5  2011  ...  3.389000e+10     28\n",
              "41905  1N6qPF2SZm6To2rTGCir2z6FM2yyLEz4Pf  2011  ...  1.240100e+10     28\n",
              "41906  18p4zkDFrHSkmrqBNh2qxjswhcKQaQ9ezp  2011  ...  1.310000e+08     28\n",
              "41907  1B1DaeErdu22rBaV4kayevZPVA4ZbguTKz  2011  ...  3.410000e+08     28\n",
              "41908  1PzN1eXLj28tE1RriDduksBTAr3exbaxCe  2011  ...  1.000000e+11     28\n",
              "\n",
              "[90 rows x 10 columns]"
            ]
          },
          "metadata": {
            "tags": []
          },
          "execution_count": 294
        }
      ]
    },
    {
      "cell_type": "code",
      "metadata": {
        "id": "TqTs-dTn899W",
        "outputId": "087bc566-86db-4df8-dae6-c4480a18b66a",
        "colab": {
          "base_uri": "https://localhost:8080/"
        }
      },
      "source": [
        "data_white_2011.day.value_counts()"
      ],
      "execution_count": 295,
      "outputs": [
        {
          "output_type": "execute_result",
          "data": {
            "text/plain": [
              "333    1002\n",
              "357    1002\n",
              "294    1002\n",
              "272    1002\n",
              "359    1002\n",
              "       ... \n",
              "4       472\n",
              "6       446\n",
              "3       396\n",
              "1        79\n",
              "2        73\n",
              "Name: day, Length: 365, dtype: int64"
            ]
          },
          "metadata": {
            "tags": []
          },
          "execution_count": 295
        }
      ]
    },
    {
      "cell_type": "code",
      "metadata": {
        "id": "iS0bZn7Lq64_",
        "outputId": "3df528ea-1d59-433d-f9b9-4ceb398b1cc8",
        "colab": {
          "base_uri": "https://localhost:8080/"
        }
      },
      "source": [
        "data_white_2011.index[0]"
      ],
      "execution_count": 239,
      "outputs": [
        {
          "output_type": "execute_result",
          "data": {
            "text/plain": [
              "41413"
            ]
          },
          "metadata": {
            "tags": []
          },
          "execution_count": 239
        }
      ]
    },
    {
      "cell_type": "code",
      "metadata": {
        "id": "G3A4yMcdUGo3"
      },
      "source": [
        "# create mask for non-duplicates and groups larger than 3\n",
        "mask = (data_white_2011.groupby(['day'])['label'].transform('count') <= 50) | ~data_white_2011.duplicated(['year','day'])\n",
        "\n",
        "# filter\n",
        "filtered = data_white_2011.loc[mask].drop('label', axis=1)\n",
        "\n",
        "# reset count column\n",
        "filtered['label'] = filtered.groupby(['day'])['label'].transform('label')\n",
        "\n",
        "print(filtered)"
      ],
      "execution_count": null,
      "outputs": []
    },
    {
      "cell_type": "code",
      "metadata": {
        "id": "S7vSQgSse6tC",
        "outputId": "b813712c-f718-4524-c1d3-830232caf6a6",
        "colab": {
          "base_uri": "https://localhost:8080/",
          "height": 419
        }
      },
      "source": [
        "filtered"
      ],
      "execution_count": 123,
      "outputs": [
        {
          "output_type": "execute_result",
          "data": {
            "text/html": [
              "<div>\n",
              "<style scoped>\n",
              "    .dataframe tbody tr th:only-of-type {\n",
              "        vertical-align: middle;\n",
              "    }\n",
              "\n",
              "    .dataframe tbody tr th {\n",
              "        vertical-align: top;\n",
              "    }\n",
              "\n",
              "    .dataframe thead th {\n",
              "        text-align: right;\n",
              "    }\n",
              "</style>\n",
              "<table border=\"1\" class=\"dataframe\">\n",
              "  <thead>\n",
              "    <tr style=\"text-align: right;\">\n",
              "      <th></th>\n",
              "      <th>address</th>\n",
              "      <th>year</th>\n",
              "      <th>day</th>\n",
              "      <th>length</th>\n",
              "      <th>weight</th>\n",
              "      <th>count</th>\n",
              "      <th>looped</th>\n",
              "      <th>neighbors</th>\n",
              "      <th>income</th>\n",
              "    </tr>\n",
              "  </thead>\n",
              "  <tbody>\n",
              "    <tr>\n",
              "      <th>41413</th>\n",
              "      <td>19snqSYnDSC4mDbv3pJuYgYqm5ctqwAxnm</td>\n",
              "      <td>2011</td>\n",
              "      <td>1</td>\n",
              "      <td>0</td>\n",
              "      <td>1.000000</td>\n",
              "      <td>1</td>\n",
              "      <td>0</td>\n",
              "      <td>1</td>\n",
              "      <td>5.000000e+09</td>\n",
              "    </tr>\n",
              "    <tr>\n",
              "      <th>41886</th>\n",
              "      <td>16NppgM8D4cJrkX8sqpH2v8fqkWzbBZYwm</td>\n",
              "      <td>2011</td>\n",
              "      <td>2</td>\n",
              "      <td>0</td>\n",
              "      <td>3.000000</td>\n",
              "      <td>3</td>\n",
              "      <td>0</td>\n",
              "      <td>3</td>\n",
              "      <td>1.500000e+10</td>\n",
              "    </tr>\n",
              "    <tr>\n",
              "      <th>42270</th>\n",
              "      <td>1EpShei7B7bV3jKfZiXpKhe3KHeGxQMBaB</td>\n",
              "      <td>2011</td>\n",
              "      <td>3</td>\n",
              "      <td>0</td>\n",
              "      <td>0.500000</td>\n",
              "      <td>1</td>\n",
              "      <td>0</td>\n",
              "      <td>2</td>\n",
              "      <td>5.200000e+09</td>\n",
              "    </tr>\n",
              "    <tr>\n",
              "      <th>42675</th>\n",
              "      <td>17WhuuG57V4b1LsHKmQQcW8PG9exQNZ8p1</td>\n",
              "      <td>2011</td>\n",
              "      <td>4</td>\n",
              "      <td>0</td>\n",
              "      <td>1.000000</td>\n",
              "      <td>1</td>\n",
              "      <td>0</td>\n",
              "      <td>1</td>\n",
              "      <td>4.754000e+09</td>\n",
              "    </tr>\n",
              "    <tr>\n",
              "      <th>43147</th>\n",
              "      <td>1KaUsHFvo1nUPgG8QeQkvRjVXmq7AZHUdK</td>\n",
              "      <td>2011</td>\n",
              "      <td>5</td>\n",
              "      <td>0</td>\n",
              "      <td>3.000000</td>\n",
              "      <td>3</td>\n",
              "      <td>0</td>\n",
              "      <td>3</td>\n",
              "      <td>1.500000e+10</td>\n",
              "    </tr>\n",
              "    <tr>\n",
              "      <th>...</th>\n",
              "      <td>...</td>\n",
              "      <td>...</td>\n",
              "      <td>...</td>\n",
              "      <td>...</td>\n",
              "      <td>...</td>\n",
              "      <td>...</td>\n",
              "      <td>...</td>\n",
              "      <td>...</td>\n",
              "      <td>...</td>\n",
              "    </tr>\n",
              "    <tr>\n",
              "      <th>1671</th>\n",
              "      <td>12wQZTDmA8onM3sEt4jwcvzDxnNXxD8Vza</td>\n",
              "      <td>2011</td>\n",
              "      <td>361</td>\n",
              "      <td>4</td>\n",
              "      <td>0.114995</td>\n",
              "      <td>23</td>\n",
              "      <td>20</td>\n",
              "      <td>3</td>\n",
              "      <td>1.058356e+08</td>\n",
              "    </tr>\n",
              "    <tr>\n",
              "      <th>1632</th>\n",
              "      <td>12wQZTDmA8onM3sEt4jwcvzDxnNXxD8Vza</td>\n",
              "      <td>2011</td>\n",
              "      <td>362</td>\n",
              "      <td>4</td>\n",
              "      <td>1.038700</td>\n",
              "      <td>29</td>\n",
              "      <td>28</td>\n",
              "      <td>4</td>\n",
              "      <td>1.591123e+08</td>\n",
              "    </tr>\n",
              "    <tr>\n",
              "      <th>1717</th>\n",
              "      <td>12wQZTDmA8onM3sEt4jwcvzDxnNXxD8Vza</td>\n",
              "      <td>2011</td>\n",
              "      <td>363</td>\n",
              "      <td>0</td>\n",
              "      <td>0.050195</td>\n",
              "      <td>2</td>\n",
              "      <td>0</td>\n",
              "      <td>4</td>\n",
              "      <td>1.101005e+08</td>\n",
              "    </tr>\n",
              "    <tr>\n",
              "      <th>1647</th>\n",
              "      <td>12wQZTDmA8onM3sEt4jwcvzDxnNXxD8Vza</td>\n",
              "      <td>2011</td>\n",
              "      <td>364</td>\n",
              "      <td>0</td>\n",
              "      <td>0.040000</td>\n",
              "      <td>1</td>\n",
              "      <td>0</td>\n",
              "      <td>2</td>\n",
              "      <td>5.286537e+07</td>\n",
              "    </tr>\n",
              "    <tr>\n",
              "      <th>22286</th>\n",
              "      <td>1EH7JWaGEnqjeVK1KjWPdDBzmH8TS2F2Hr</td>\n",
              "      <td>2011</td>\n",
              "      <td>365</td>\n",
              "      <td>2</td>\n",
              "      <td>0.250000</td>\n",
              "      <td>1</td>\n",
              "      <td>0</td>\n",
              "      <td>2</td>\n",
              "      <td>4.219222e+07</td>\n",
              "    </tr>\n",
              "  </tbody>\n",
              "</table>\n",
              "<p>365 rows × 9 columns</p>\n",
              "</div>"
            ],
            "text/plain": [
              "                                  address  year  ...  neighbors        income\n",
              "41413  19snqSYnDSC4mDbv3pJuYgYqm5ctqwAxnm  2011  ...          1  5.000000e+09\n",
              "41886  16NppgM8D4cJrkX8sqpH2v8fqkWzbBZYwm  2011  ...          3  1.500000e+10\n",
              "42270  1EpShei7B7bV3jKfZiXpKhe3KHeGxQMBaB  2011  ...          2  5.200000e+09\n",
              "42675  17WhuuG57V4b1LsHKmQQcW8PG9exQNZ8p1  2011  ...          1  4.754000e+09\n",
              "43147  1KaUsHFvo1nUPgG8QeQkvRjVXmq7AZHUdK  2011  ...          3  1.500000e+10\n",
              "...                                   ...   ...  ...        ...           ...\n",
              "1671   12wQZTDmA8onM3sEt4jwcvzDxnNXxD8Vza  2011  ...          3  1.058356e+08\n",
              "1632   12wQZTDmA8onM3sEt4jwcvzDxnNXxD8Vza  2011  ...          4  1.591123e+08\n",
              "1717   12wQZTDmA8onM3sEt4jwcvzDxnNXxD8Vza  2011  ...          4  1.101005e+08\n",
              "1647   12wQZTDmA8onM3sEt4jwcvzDxnNXxD8Vza  2011  ...          2  5.286537e+07\n",
              "22286  1EH7JWaGEnqjeVK1KjWPdDBzmH8TS2F2Hr  2011  ...          2  4.219222e+07\n",
              "\n",
              "[365 rows x 9 columns]"
            ]
          },
          "metadata": {
            "tags": []
          },
          "execution_count": 123
        }
      ]
    },
    {
      "cell_type": "code",
      "metadata": {
        "id": "XJEWaxHncJfX",
        "outputId": "dec852a0-101d-430a-d839-b49075674f4b",
        "colab": {
          "base_uri": "https://localhost:8080/"
        }
      },
      "source": [
        "print(len(mask))\n",
        "print(len(filtered))"
      ],
      "execution_count": 118,
      "outputs": [
        {
          "output_type": "stream",
          "text": [
            "2875284\n",
            "2885\n"
          ],
          "name": "stdout"
        }
      ]
    },
    {
      "cell_type": "code",
      "metadata": {
        "id": "35FWZIRJYXjo",
        "outputId": "6fe013cd-5730-4766-d48d-c78ae3fdb590",
        "colab": {
          "base_uri": "https://localhost:8080/",
          "height": 419
        }
      },
      "source": [
        "data_white"
      ],
      "execution_count": 97,
      "outputs": [
        {
          "output_type": "execute_result",
          "data": {
            "text/html": [
              "<div>\n",
              "<style scoped>\n",
              "    .dataframe tbody tr th:only-of-type {\n",
              "        vertical-align: middle;\n",
              "    }\n",
              "\n",
              "    .dataframe tbody tr th {\n",
              "        vertical-align: top;\n",
              "    }\n",
              "\n",
              "    .dataframe thead th {\n",
              "        text-align: right;\n",
              "    }\n",
              "</style>\n",
              "<table border=\"1\" class=\"dataframe\">\n",
              "  <thead>\n",
              "    <tr style=\"text-align: right;\">\n",
              "      <th></th>\n",
              "      <th>address</th>\n",
              "      <th>year</th>\n",
              "      <th>day</th>\n",
              "      <th>length</th>\n",
              "      <th>weight</th>\n",
              "      <th>count</th>\n",
              "      <th>looped</th>\n",
              "      <th>neighbors</th>\n",
              "      <th>income</th>\n",
              "      <th>label</th>\n",
              "    </tr>\n",
              "  </thead>\n",
              "  <tbody>\n",
              "    <tr>\n",
              "      <th>41413</th>\n",
              "      <td>19snqSYnDSC4mDbv3pJuYgYqm5ctqwAxnm</td>\n",
              "      <td>2011</td>\n",
              "      <td>1</td>\n",
              "      <td>0</td>\n",
              "      <td>1.000000</td>\n",
              "      <td>1</td>\n",
              "      <td>0</td>\n",
              "      <td>1</td>\n",
              "      <td>5.000000e+09</td>\n",
              "      <td>28</td>\n",
              "    </tr>\n",
              "    <tr>\n",
              "      <th>41414</th>\n",
              "      <td>1FeGY25MSKtnwVNGrnbwLsecBpBYrMQ6Kx</td>\n",
              "      <td>2011</td>\n",
              "      <td>1</td>\n",
              "      <td>0</td>\n",
              "      <td>1.000000</td>\n",
              "      <td>1</td>\n",
              "      <td>0</td>\n",
              "      <td>2</td>\n",
              "      <td>5.000000e+09</td>\n",
              "      <td>28</td>\n",
              "    </tr>\n",
              "    <tr>\n",
              "      <th>41415</th>\n",
              "      <td>1A1nkBK7tfnVRtVbyiirEWRcayQtSTBCsW</td>\n",
              "      <td>2011</td>\n",
              "      <td>1</td>\n",
              "      <td>0</td>\n",
              "      <td>1.000000</td>\n",
              "      <td>1</td>\n",
              "      <td>0</td>\n",
              "      <td>2</td>\n",
              "      <td>9.150000e+08</td>\n",
              "      <td>28</td>\n",
              "    </tr>\n",
              "    <tr>\n",
              "      <th>41416</th>\n",
              "      <td>18wHa1PLzoU4ToemBZn2czZbVEbyZJ2gSi</td>\n",
              "      <td>2011</td>\n",
              "      <td>1</td>\n",
              "      <td>0</td>\n",
              "      <td>1.000000</td>\n",
              "      <td>1</td>\n",
              "      <td>0</td>\n",
              "      <td>2</td>\n",
              "      <td>3.402500e+10</td>\n",
              "      <td>28</td>\n",
              "    </tr>\n",
              "    <tr>\n",
              "      <th>41417</th>\n",
              "      <td>188sYyuK756uEsq5LTk9tiXyJHeEjxKT5c</td>\n",
              "      <td>2011</td>\n",
              "      <td>1</td>\n",
              "      <td>0</td>\n",
              "      <td>1.000000</td>\n",
              "      <td>1</td>\n",
              "      <td>0</td>\n",
              "      <td>2</td>\n",
              "      <td>1.275100e+10</td>\n",
              "      <td>28</td>\n",
              "    </tr>\n",
              "    <tr>\n",
              "      <th>...</th>\n",
              "      <td>...</td>\n",
              "      <td>...</td>\n",
              "      <td>...</td>\n",
              "      <td>...</td>\n",
              "      <td>...</td>\n",
              "      <td>...</td>\n",
              "      <td>...</td>\n",
              "      <td>...</td>\n",
              "      <td>...</td>\n",
              "      <td>...</td>\n",
              "    </tr>\n",
              "    <tr>\n",
              "      <th>2916692</th>\n",
              "      <td>12D3trgho1vJ4mGtWBRPyHdMJK96TRYSry</td>\n",
              "      <td>2018</td>\n",
              "      <td>330</td>\n",
              "      <td>0</td>\n",
              "      <td>0.111111</td>\n",
              "      <td>1</td>\n",
              "      <td>0</td>\n",
              "      <td>1</td>\n",
              "      <td>1.255809e+09</td>\n",
              "      <td>28</td>\n",
              "    </tr>\n",
              "    <tr>\n",
              "      <th>2916693</th>\n",
              "      <td>1P7PputTcVkhXBmXBvSD9MJ3UYPsiou1u2</td>\n",
              "      <td>2018</td>\n",
              "      <td>330</td>\n",
              "      <td>0</td>\n",
              "      <td>1.000000</td>\n",
              "      <td>1</td>\n",
              "      <td>0</td>\n",
              "      <td>1</td>\n",
              "      <td>4.409699e+07</td>\n",
              "      <td>28</td>\n",
              "    </tr>\n",
              "    <tr>\n",
              "      <th>2916694</th>\n",
              "      <td>1KYiKJEfdJtap9QX2v9BXJMpz2SfU4pgZw</td>\n",
              "      <td>2018</td>\n",
              "      <td>330</td>\n",
              "      <td>2</td>\n",
              "      <td>12.000000</td>\n",
              "      <td>6</td>\n",
              "      <td>6</td>\n",
              "      <td>35</td>\n",
              "      <td>2.398267e+09</td>\n",
              "      <td>28</td>\n",
              "    </tr>\n",
              "    <tr>\n",
              "      <th>2916695</th>\n",
              "      <td>15iPUJsRNZQZHmZZVwmQ63srsmughCXV4a</td>\n",
              "      <td>2018</td>\n",
              "      <td>330</td>\n",
              "      <td>0</td>\n",
              "      <td>0.500000</td>\n",
              "      <td>1</td>\n",
              "      <td>0</td>\n",
              "      <td>1</td>\n",
              "      <td>1.780427e+08</td>\n",
              "      <td>28</td>\n",
              "    </tr>\n",
              "    <tr>\n",
              "      <th>2916696</th>\n",
              "      <td>3LFFBxp15h9KSFtaw55np8eP5fv6kdK17e</td>\n",
              "      <td>2018</td>\n",
              "      <td>330</td>\n",
              "      <td>144</td>\n",
              "      <td>0.073972</td>\n",
              "      <td>6800</td>\n",
              "      <td>0</td>\n",
              "      <td>2</td>\n",
              "      <td>1.123500e+08</td>\n",
              "      <td>28</td>\n",
              "    </tr>\n",
              "  </tbody>\n",
              "</table>\n",
              "<p>2875284 rows × 10 columns</p>\n",
              "</div>"
            ],
            "text/plain": [
              "                                    address  year  ...        income  label\n",
              "41413    19snqSYnDSC4mDbv3pJuYgYqm5ctqwAxnm  2011  ...  5.000000e+09     28\n",
              "41414    1FeGY25MSKtnwVNGrnbwLsecBpBYrMQ6Kx  2011  ...  5.000000e+09     28\n",
              "41415    1A1nkBK7tfnVRtVbyiirEWRcayQtSTBCsW  2011  ...  9.150000e+08     28\n",
              "41416    18wHa1PLzoU4ToemBZn2czZbVEbyZJ2gSi  2011  ...  3.402500e+10     28\n",
              "41417    188sYyuK756uEsq5LTk9tiXyJHeEjxKT5c  2011  ...  1.275100e+10     28\n",
              "...                                     ...   ...  ...           ...    ...\n",
              "2916692  12D3trgho1vJ4mGtWBRPyHdMJK96TRYSry  2018  ...  1.255809e+09     28\n",
              "2916693  1P7PputTcVkhXBmXBvSD9MJ3UYPsiou1u2  2018  ...  4.409699e+07     28\n",
              "2916694  1KYiKJEfdJtap9QX2v9BXJMpz2SfU4pgZw  2018  ...  2.398267e+09     28\n",
              "2916695  15iPUJsRNZQZHmZZVwmQ63srsmughCXV4a  2018  ...  1.780427e+08     28\n",
              "2916696  3LFFBxp15h9KSFtaw55np8eP5fv6kdK17e  2018  ...  1.123500e+08     28\n",
              "\n",
              "[2875284 rows x 10 columns]"
            ]
          },
          "metadata": {
            "tags": []
          },
          "execution_count": 97
        }
      ]
    },
    {
      "cell_type": "code",
      "metadata": {
        "id": "r7agjeFOXIvr",
        "outputId": "61ab09f6-4e70-4ba8-c4a0-e265905bba3e",
        "colab": {
          "base_uri": "https://localhost:8080/"
        }
      },
      "source": [
        "N = 50\n",
        "df1 = data_white[~data_white.duplicated(['year','day']) | data_white['label'].ge(N)].copy()\n",
        "df1.loc[data_white['label'] < N, 'label'] = 1\n",
        "print (df1)"
      ],
      "execution_count": 66,
      "outputs": [
        {
          "output_type": "stream",
          "text": [
            "                                    address  year  ...        income  label\n",
            "41413    19snqSYnDSC4mDbv3pJuYgYqm5ctqwAxnm  2011  ...  5.000000e+09      1\n",
            "41886    16NppgM8D4cJrkX8sqpH2v8fqkWzbBZYwm  2011  ...  1.500000e+10      1\n",
            "42270    1EpShei7B7bV3jKfZiXpKhe3KHeGxQMBaB  2011  ...  5.200000e+09      1\n",
            "42675    17WhuuG57V4b1LsHKmQQcW8PG9exQNZ8p1  2011  ...  4.754000e+09      1\n",
            "43147    1KaUsHFvo1nUPgG8QeQkvRjVXmq7AZHUdK  2011  ...  1.500000e+10      1\n",
            "...                                     ...   ...  ...           ...    ...\n",
            "2911697  3NpiLTtn7jNpfN3RnUGG7bUj8UGXkSLYHR  2018  ...  4.468905e+07      1\n",
            "2912697  3BMEXKHqHMiP3tyvzF8cNMxUe9K8YF8TKD  2018  ...  5.000000e+07      1\n",
            "2913697  14VvWA6i8GXDTi17JpaZXwjpcJqa7nTfuC  2018  ...  3.188000e+07      1\n",
            "2914697  1HaG1qbupxT1FYtfvavx8GbNGAx8upWd7N  2018  ...  1.608902e+08      1\n",
            "2915697  3DcWQLaVzyEX2CSXjmna2rv1HKYcHwaTS3  2018  ...  2.522068e+09      1\n",
            "\n",
            "[2885 rows x 10 columns]\n"
          ],
          "name": "stdout"
        }
      ]
    },
    {
      "cell_type": "code",
      "metadata": {
        "id": "QYNeINw3YkZX",
        "outputId": "d47bafac-de65-4712-e728-7512d2d0adfa",
        "colab": {
          "base_uri": "https://localhost:8080/"
        }
      },
      "source": [
        "N = 50\n",
        "data_white['label'] = data_white['label'].apply(lambda x: 1 if x > N else x)\n",
        "result = pd.concat([data_white[data_white['label'].eq(1)].drop_duplicates(), data_white[data_white['label'].eq(N)]])"
      ],
      "execution_count": 102,
      "outputs": [
        {
          "output_type": "stream",
          "text": [
            "/usr/local/lib/python3.6/dist-packages/ipykernel_launcher.py:2: SettingWithCopyWarning: \n",
            "A value is trying to be set on a copy of a slice from a DataFrame.\n",
            "Try using .loc[row_indexer,col_indexer] = value instead\n",
            "\n",
            "See the caveats in the documentation: https://pandas.pydata.org/pandas-docs/stable/user_guide/indexing.html#returning-a-view-versus-a-copy\n",
            "  \n"
          ],
          "name": "stderr"
        }
      ]
    },
    {
      "cell_type": "code",
      "metadata": {
        "id": "jGf09ovJWGzP",
        "outputId": "27c22f9c-f5be-40c6-f17b-6c17f220d07f",
        "colab": {
          "base_uri": "https://localhost:8080/"
        }
      },
      "source": [
        "result.label.value_counts()"
      ],
      "execution_count": 103,
      "outputs": [
        {
          "output_type": "execute_result",
          "data": {
            "text/plain": [
              "Series([], Name: label, dtype: int64)"
            ]
          },
          "metadata": {
            "tags": []
          },
          "execution_count": 103
        }
      ]
    },
    {
      "cell_type": "code",
      "metadata": {
        "id": "13hVLgsYRhQW"
      },
      "source": [
        "data_white_2 = data_white.drop_duplicates(subset=['year','day'], keep=\"first\")"
      ],
      "execution_count": 34,
      "outputs": []
    },
    {
      "cell_type": "code",
      "metadata": {
        "id": "l0XBPR1XR52y",
        "outputId": "c82f89e3-d472-40e7-e312-9cf5a5888a25",
        "colab": {
          "base_uri": "https://localhost:8080/"
        }
      },
      "source": [
        "print(len(data_white_2))\n",
        "print(len(data_white))"
      ],
      "execution_count": 46,
      "outputs": [
        {
          "output_type": "stream",
          "text": [
            "2885\n",
            "2875284\n"
          ],
          "name": "stdout"
        }
      ]
    },
    {
      "cell_type": "code",
      "metadata": {
        "id": "9g8PyBHNQMN8"
      },
      "source": [
        "data_2011_2 = data_2011.drop_duplicates(subset=['year','day'], keep=\"first\", )]"
      ],
      "execution_count": 25,
      "outputs": []
    },
    {
      "cell_type": "code",
      "metadata": {
        "id": "r4CGIA-ZQX0V",
        "outputId": "3c138b7b-0fbf-4d28-d44b-3e898ebdfa16",
        "colab": {
          "base_uri": "https://localhost:8080/"
        }
      },
      "source": [
        "data_2011_2.label.value_counts()"
      ],
      "execution_count": 27,
      "outputs": [
        {
          "output_type": "execute_result",
          "data": {
            "text/plain": [
              "white                   315\n",
              "montrealCryptoLocker     50\n",
              "Name: label, dtype: int64"
            ]
          },
          "metadata": {
            "tags": []
          },
          "execution_count": 27
        }
      ]
    },
    {
      "cell_type": "code",
      "metadata": {
        "id": "k1XsKHMdPs_a",
        "outputId": "7e8c24f0-1591-4f91-e19b-0669ef8b0ced",
        "colab": {
          "base_uri": "https://localhost:8080/"
        }
      },
      "source": [
        "data_2011.label.value_counts()"
      ],
      "execution_count": 24,
      "outputs": [
        {
          "output_type": "execute_result",
          "data": {
            "text/plain": [
              "white                   355284\n",
              "montrealCryptoLocker        65\n",
              "Name: label, dtype: int64"
            ]
          },
          "metadata": {
            "tags": []
          },
          "execution_count": 24
        }
      ]
    },
    {
      "cell_type": "code",
      "metadata": {
        "id": "ytlHq7efL0tE",
        "outputId": "9df44c9f-ba98-4d60-e5a4-cfa3821a6338",
        "colab": {
          "base_uri": "https://localhost:8080/"
        }
      },
      "source": [
        "print('No. of Target Variables: ',data.label.nunique())\n",
        "print('\\nValue Counts of Target Label:\\n',data.label.value_counts())"
      ],
      "execution_count": 6,
      "outputs": [
        {
          "output_type": "stream",
          "text": [
            "No. of Target Variables:  29\n",
            "\n",
            "Value Counts of Target Label:\n",
            " white                          2875284\n",
            "paduaCryptoWall                  12390\n",
            "montrealCryptoLocker              9315\n",
            "princetonCerber                   9223\n",
            "princetonLocky                    6625\n",
            "montrealCryptXXX                  2419\n",
            "montrealNoobCrypt                  483\n",
            "montrealDMALockerv3                354\n",
            "montrealDMALocker                  251\n",
            "montrealSamSam                      62\n",
            "montrealGlobeImposter               55\n",
            "montrealCryptoTorLocker2015         55\n",
            "montrealGlobev3                     34\n",
            "montrealGlobe                       32\n",
            "montrealWannaCry                    28\n",
            "montrealRazy                        13\n",
            "montrealAPT                         11\n",
            "paduaKeRanger                       10\n",
            "montrealFlyper                       9\n",
            "montrealXTPLocker                    8\n",
            "montrealCryptConsole                 7\n",
            "montrealXLockerv5.0                  7\n",
            "montrealVenusLocker                  7\n",
            "montrealEDA2                         6\n",
            "montrealJigSaw                       4\n",
            "paduaJigsaw                          2\n",
            "montrealSam                          1\n",
            "montrealComradeCircle                1\n",
            "montrealXLocker                      1\n",
            "Name: label, dtype: int64\n"
          ],
          "name": "stdout"
        }
      ]
    },
    {
      "cell_type": "code",
      "metadata": {
        "id": "ReywDd6FNCRV"
      },
      "source": [
        ""
      ],
      "execution_count": null,
      "outputs": []
    }
  ]
}