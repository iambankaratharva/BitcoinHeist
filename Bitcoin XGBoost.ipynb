{
  "nbformat": 4,
  "nbformat_minor": 0,
  "metadata": {
    "colab": {
      "name": "Bitcoin.ipynb",
      "provenance": [],
      "collapsed_sections": []
    },
    "kernelspec": {
      "name": "python3",
      "display_name": "Python 3"
    },
    "accelerator": "GPU"
  },
  "cells": [
    {
      "cell_type": "code",
      "metadata": {
        "id": "ih46oKzvvu1h",
        "colab": {
          "base_uri": "https://localhost:8080/"
        },
        "outputId": "550e14a1-68cd-4d4e-b501-10231c9ba163"
      },
      "source": [
        "# Mount the drive \n",
        "from google.colab import drive\n",
        "drive.mount('/content/drive')"
      ],
      "execution_count": 2,
      "outputs": [
        {
          "output_type": "stream",
          "text": [
            "Mounted at /content/drive\n"
          ],
          "name": "stdout"
        }
      ]
    },
    {
      "cell_type": "code",
      "metadata": {
        "id": "OzcMsZDWwZNg",
        "colab": {
          "base_uri": "https://localhost:8080/"
        },
        "outputId": "a6a73e70-044a-4710-a804-837d3b46a387"
      },
      "source": [
        "%cd /content/drive/My Drive/Colab Notebooks/\n"
      ],
      "execution_count": 3,
      "outputs": [
        {
          "output_type": "stream",
          "text": [
            "/content/drive/My Drive/Colab Notebooks\n"
          ],
          "name": "stdout"
        }
      ]
    },
    {
      "cell_type": "code",
      "metadata": {
        "id": "zKUyzoPiwXH3",
        "colab": {
          "base_uri": "https://localhost:8080/"
        },
        "outputId": "bc7b933f-f09e-403e-e367-9abcaed0f879"
      },
      "source": [
        "import pandas as pd\n",
        "from sklearn.model_selection import train_test_split\n",
        "data = pd.read_csv('/content/drive/My Drive/Colab Notebooks/final_data.csv')"
      ],
      "execution_count": 4,
      "outputs": [
        {
          "output_type": "stream",
          "text": [
            "/usr/local/lib/python3.6/dist-packages/IPython/core/interactiveshell.py:2718: DtypeWarning: Columns (10) have mixed types.Specify dtype option on import or set low_memory=False.\n",
            "  interactivity=interactivity, compiler=compiler, result=result)\n"
          ],
          "name": "stderr"
        }
      ]
    },
    {
      "cell_type": "code",
      "metadata": {
        "id": "qAOTJl0Z4mnv",
        "colab": {
          "base_uri": "https://localhost:8080/",
          "height": 419
        },
        "outputId": "e7011453-214e-4732-ddc0-149ead7b7bf8"
      },
      "source": [
        "data"
      ],
      "execution_count": 5,
      "outputs": [
        {
          "output_type": "execute_result",
          "data": {
            "text/html": [
              "<div>\n",
              "<style scoped>\n",
              "    .dataframe tbody tr th:only-of-type {\n",
              "        vertical-align: middle;\n",
              "    }\n",
              "\n",
              "    .dataframe tbody tr th {\n",
              "        vertical-align: top;\n",
              "    }\n",
              "\n",
              "    .dataframe thead th {\n",
              "        text-align: right;\n",
              "    }\n",
              "</style>\n",
              "<table border=\"1\" class=\"dataframe\">\n",
              "  <thead>\n",
              "    <tr style=\"text-align: right;\">\n",
              "      <th></th>\n",
              "      <th>Unnamed: 0</th>\n",
              "      <th>address</th>\n",
              "      <th>year</th>\n",
              "      <th>day</th>\n",
              "      <th>length</th>\n",
              "      <th>weight</th>\n",
              "      <th>count</th>\n",
              "      <th>looped</th>\n",
              "      <th>neighbors</th>\n",
              "      <th>income</th>\n",
              "      <th>label</th>\n",
              "    </tr>\n",
              "  </thead>\n",
              "  <tbody>\n",
              "    <tr>\n",
              "      <th>0</th>\n",
              "      <td>0</td>\n",
              "      <td>111K8kZAEnJg245r2cM6y9zgJGHZtJPy6</td>\n",
              "      <td>2017</td>\n",
              "      <td>11</td>\n",
              "      <td>18</td>\n",
              "      <td>0.008333</td>\n",
              "      <td>1</td>\n",
              "      <td>0</td>\n",
              "      <td>2</td>\n",
              "      <td>1.000500e+08</td>\n",
              "      <td>princetonCerber</td>\n",
              "    </tr>\n",
              "    <tr>\n",
              "      <th>1</th>\n",
              "      <td>1</td>\n",
              "      <td>1123pJv8jzeFQaCV4w644pzQJzVWay2zcA</td>\n",
              "      <td>2016</td>\n",
              "      <td>132</td>\n",
              "      <td>44</td>\n",
              "      <td>0.000244</td>\n",
              "      <td>1</td>\n",
              "      <td>0</td>\n",
              "      <td>1</td>\n",
              "      <td>1.000000e+08</td>\n",
              "      <td>princetonLocky</td>\n",
              "    </tr>\n",
              "    <tr>\n",
              "      <th>2</th>\n",
              "      <td>2</td>\n",
              "      <td>112536im7hy6wtKbpH1qYDWtTyMRAcA2p7</td>\n",
              "      <td>2016</td>\n",
              "      <td>246</td>\n",
              "      <td>0</td>\n",
              "      <td>1.000000</td>\n",
              "      <td>1</td>\n",
              "      <td>0</td>\n",
              "      <td>2</td>\n",
              "      <td>2.000000e+08</td>\n",
              "      <td>princetonCerber</td>\n",
              "    </tr>\n",
              "    <tr>\n",
              "      <th>3</th>\n",
              "      <td>3</td>\n",
              "      <td>1126eDRw2wqSkWosjTCre8cjjQW8sSeWH7</td>\n",
              "      <td>2016</td>\n",
              "      <td>322</td>\n",
              "      <td>72</td>\n",
              "      <td>0.003906</td>\n",
              "      <td>1</td>\n",
              "      <td>0</td>\n",
              "      <td>2</td>\n",
              "      <td>7.120000e+07</td>\n",
              "      <td>princetonCerber</td>\n",
              "    </tr>\n",
              "    <tr>\n",
              "      <th>4</th>\n",
              "      <td>4</td>\n",
              "      <td>1129TSjKtx65E35GiUo4AYVeyo48twbrGX</td>\n",
              "      <td>2016</td>\n",
              "      <td>238</td>\n",
              "      <td>144</td>\n",
              "      <td>0.072848</td>\n",
              "      <td>456</td>\n",
              "      <td>0</td>\n",
              "      <td>1</td>\n",
              "      <td>2.000000e+08</td>\n",
              "      <td>princetonLocky</td>\n",
              "    </tr>\n",
              "    <tr>\n",
              "      <th>...</th>\n",
              "      <td>...</td>\n",
              "      <td>...</td>\n",
              "      <td>...</td>\n",
              "      <td>...</td>\n",
              "      <td>...</td>\n",
              "      <td>...</td>\n",
              "      <td>...</td>\n",
              "      <td>...</td>\n",
              "      <td>...</td>\n",
              "      <td>...</td>\n",
              "      <td>...</td>\n",
              "    </tr>\n",
              "    <tr>\n",
              "      <th>315195</th>\n",
              "      <td>315195</td>\n",
              "      <td>395V9rYQFvcvag5DWnHcyfKk7mZz1b6Euq</td>\n",
              "      <td>2018</td>\n",
              "      <td>330</td>\n",
              "      <td>0</td>\n",
              "      <td>0.111111</td>\n",
              "      <td>1</td>\n",
              "      <td>0</td>\n",
              "      <td>2</td>\n",
              "      <td>2.503180e+09</td>\n",
              "      <td>28</td>\n",
              "    </tr>\n",
              "    <tr>\n",
              "      <th>315196</th>\n",
              "      <td>315196</td>\n",
              "      <td>14SoRn5yfaqvmhURanUkj18syPGy6HqzPW</td>\n",
              "      <td>2018</td>\n",
              "      <td>330</td>\n",
              "      <td>0</td>\n",
              "      <td>0.500000</td>\n",
              "      <td>1</td>\n",
              "      <td>0</td>\n",
              "      <td>2</td>\n",
              "      <td>1.000000e+09</td>\n",
              "      <td>28</td>\n",
              "    </tr>\n",
              "    <tr>\n",
              "      <th>315197</th>\n",
              "      <td>315197</td>\n",
              "      <td>19Nw2SqEw1im52XqdFc2CkwiDhYsMNutxS</td>\n",
              "      <td>2018</td>\n",
              "      <td>330</td>\n",
              "      <td>6</td>\n",
              "      <td>0.020092</td>\n",
              "      <td>2</td>\n",
              "      <td>0</td>\n",
              "      <td>1</td>\n",
              "      <td>3.000000e+08</td>\n",
              "      <td>28</td>\n",
              "    </tr>\n",
              "    <tr>\n",
              "      <th>315198</th>\n",
              "      <td>315198</td>\n",
              "      <td>38rwU3UrRMvLSxEzwkNwLxcSQJnR3EHBgm</td>\n",
              "      <td>2018</td>\n",
              "      <td>330</td>\n",
              "      <td>0</td>\n",
              "      <td>0.333333</td>\n",
              "      <td>1</td>\n",
              "      <td>0</td>\n",
              "      <td>2</td>\n",
              "      <td>1.372746e+09</td>\n",
              "      <td>28</td>\n",
              "    </tr>\n",
              "    <tr>\n",
              "      <th>315199</th>\n",
              "      <td>315199</td>\n",
              "      <td>12GgBm8k1VESrtqaCVxFpBdJxi1yYpDTrh</td>\n",
              "      <td>2018</td>\n",
              "      <td>330</td>\n",
              "      <td>6</td>\n",
              "      <td>1.000000</td>\n",
              "      <td>1</td>\n",
              "      <td>0</td>\n",
              "      <td>2</td>\n",
              "      <td>2.397816e+09</td>\n",
              "      <td>28</td>\n",
              "    </tr>\n",
              "  </tbody>\n",
              "</table>\n",
              "<p>315200 rows × 11 columns</p>\n",
              "</div>"
            ],
            "text/plain": [
              "        Unnamed: 0  ...            label\n",
              "0                0  ...  princetonCerber\n",
              "1                1  ...   princetonLocky\n",
              "2                2  ...  princetonCerber\n",
              "3                3  ...  princetonCerber\n",
              "4                4  ...   princetonLocky\n",
              "...            ...  ...              ...\n",
              "315195      315195  ...               28\n",
              "315196      315196  ...               28\n",
              "315197      315197  ...               28\n",
              "315198      315198  ...               28\n",
              "315199      315199  ...               28\n",
              "\n",
              "[315200 rows x 11 columns]"
            ]
          },
          "metadata": {
            "tags": []
          },
          "execution_count": 5
        }
      ]
    },
    {
      "cell_type": "code",
      "metadata": {
        "id": "p1JphsSu4y14"
      },
      "source": [
        "data = data.drop(['address','Unnamed: 0'],axis = 1)"
      ],
      "execution_count": 6,
      "outputs": []
    },
    {
      "cell_type": "code",
      "metadata": {
        "id": "A7pbojhj47lZ",
        "colab": {
          "base_uri": "https://localhost:8080/",
          "height": 419
        },
        "outputId": "24f78e7c-72f4-41ae-d0e2-2bc3d4a58830"
      },
      "source": [
        "data"
      ],
      "execution_count": 7,
      "outputs": [
        {
          "output_type": "execute_result",
          "data": {
            "text/html": [
              "<div>\n",
              "<style scoped>\n",
              "    .dataframe tbody tr th:only-of-type {\n",
              "        vertical-align: middle;\n",
              "    }\n",
              "\n",
              "    .dataframe tbody tr th {\n",
              "        vertical-align: top;\n",
              "    }\n",
              "\n",
              "    .dataframe thead th {\n",
              "        text-align: right;\n",
              "    }\n",
              "</style>\n",
              "<table border=\"1\" class=\"dataframe\">\n",
              "  <thead>\n",
              "    <tr style=\"text-align: right;\">\n",
              "      <th></th>\n",
              "      <th>year</th>\n",
              "      <th>day</th>\n",
              "      <th>length</th>\n",
              "      <th>weight</th>\n",
              "      <th>count</th>\n",
              "      <th>looped</th>\n",
              "      <th>neighbors</th>\n",
              "      <th>income</th>\n",
              "      <th>label</th>\n",
              "    </tr>\n",
              "  </thead>\n",
              "  <tbody>\n",
              "    <tr>\n",
              "      <th>0</th>\n",
              "      <td>2017</td>\n",
              "      <td>11</td>\n",
              "      <td>18</td>\n",
              "      <td>0.008333</td>\n",
              "      <td>1</td>\n",
              "      <td>0</td>\n",
              "      <td>2</td>\n",
              "      <td>1.000500e+08</td>\n",
              "      <td>princetonCerber</td>\n",
              "    </tr>\n",
              "    <tr>\n",
              "      <th>1</th>\n",
              "      <td>2016</td>\n",
              "      <td>132</td>\n",
              "      <td>44</td>\n",
              "      <td>0.000244</td>\n",
              "      <td>1</td>\n",
              "      <td>0</td>\n",
              "      <td>1</td>\n",
              "      <td>1.000000e+08</td>\n",
              "      <td>princetonLocky</td>\n",
              "    </tr>\n",
              "    <tr>\n",
              "      <th>2</th>\n",
              "      <td>2016</td>\n",
              "      <td>246</td>\n",
              "      <td>0</td>\n",
              "      <td>1.000000</td>\n",
              "      <td>1</td>\n",
              "      <td>0</td>\n",
              "      <td>2</td>\n",
              "      <td>2.000000e+08</td>\n",
              "      <td>princetonCerber</td>\n",
              "    </tr>\n",
              "    <tr>\n",
              "      <th>3</th>\n",
              "      <td>2016</td>\n",
              "      <td>322</td>\n",
              "      <td>72</td>\n",
              "      <td>0.003906</td>\n",
              "      <td>1</td>\n",
              "      <td>0</td>\n",
              "      <td>2</td>\n",
              "      <td>7.120000e+07</td>\n",
              "      <td>princetonCerber</td>\n",
              "    </tr>\n",
              "    <tr>\n",
              "      <th>4</th>\n",
              "      <td>2016</td>\n",
              "      <td>238</td>\n",
              "      <td>144</td>\n",
              "      <td>0.072848</td>\n",
              "      <td>456</td>\n",
              "      <td>0</td>\n",
              "      <td>1</td>\n",
              "      <td>2.000000e+08</td>\n",
              "      <td>princetonLocky</td>\n",
              "    </tr>\n",
              "    <tr>\n",
              "      <th>...</th>\n",
              "      <td>...</td>\n",
              "      <td>...</td>\n",
              "      <td>...</td>\n",
              "      <td>...</td>\n",
              "      <td>...</td>\n",
              "      <td>...</td>\n",
              "      <td>...</td>\n",
              "      <td>...</td>\n",
              "      <td>...</td>\n",
              "    </tr>\n",
              "    <tr>\n",
              "      <th>315195</th>\n",
              "      <td>2018</td>\n",
              "      <td>330</td>\n",
              "      <td>0</td>\n",
              "      <td>0.111111</td>\n",
              "      <td>1</td>\n",
              "      <td>0</td>\n",
              "      <td>2</td>\n",
              "      <td>2.503180e+09</td>\n",
              "      <td>28</td>\n",
              "    </tr>\n",
              "    <tr>\n",
              "      <th>315196</th>\n",
              "      <td>2018</td>\n",
              "      <td>330</td>\n",
              "      <td>0</td>\n",
              "      <td>0.500000</td>\n",
              "      <td>1</td>\n",
              "      <td>0</td>\n",
              "      <td>2</td>\n",
              "      <td>1.000000e+09</td>\n",
              "      <td>28</td>\n",
              "    </tr>\n",
              "    <tr>\n",
              "      <th>315197</th>\n",
              "      <td>2018</td>\n",
              "      <td>330</td>\n",
              "      <td>6</td>\n",
              "      <td>0.020092</td>\n",
              "      <td>2</td>\n",
              "      <td>0</td>\n",
              "      <td>1</td>\n",
              "      <td>3.000000e+08</td>\n",
              "      <td>28</td>\n",
              "    </tr>\n",
              "    <tr>\n",
              "      <th>315198</th>\n",
              "      <td>2018</td>\n",
              "      <td>330</td>\n",
              "      <td>0</td>\n",
              "      <td>0.333333</td>\n",
              "      <td>1</td>\n",
              "      <td>0</td>\n",
              "      <td>2</td>\n",
              "      <td>1.372746e+09</td>\n",
              "      <td>28</td>\n",
              "    </tr>\n",
              "    <tr>\n",
              "      <th>315199</th>\n",
              "      <td>2018</td>\n",
              "      <td>330</td>\n",
              "      <td>6</td>\n",
              "      <td>1.000000</td>\n",
              "      <td>1</td>\n",
              "      <td>0</td>\n",
              "      <td>2</td>\n",
              "      <td>2.397816e+09</td>\n",
              "      <td>28</td>\n",
              "    </tr>\n",
              "  </tbody>\n",
              "</table>\n",
              "<p>315200 rows × 9 columns</p>\n",
              "</div>"
            ],
            "text/plain": [
              "        year  day  length  ...  neighbors        income            label\n",
              "0       2017   11      18  ...          2  1.000500e+08  princetonCerber\n",
              "1       2016  132      44  ...          1  1.000000e+08   princetonLocky\n",
              "2       2016  246       0  ...          2  2.000000e+08  princetonCerber\n",
              "3       2016  322      72  ...          2  7.120000e+07  princetonCerber\n",
              "4       2016  238     144  ...          1  2.000000e+08   princetonLocky\n",
              "...      ...  ...     ...  ...        ...           ...              ...\n",
              "315195  2018  330       0  ...          2  2.503180e+09               28\n",
              "315196  2018  330       0  ...          2  1.000000e+09               28\n",
              "315197  2018  330       6  ...          1  3.000000e+08               28\n",
              "315198  2018  330       0  ...          2  1.372746e+09               28\n",
              "315199  2018  330       6  ...          2  2.397816e+09               28\n",
              "\n",
              "[315200 rows x 9 columns]"
            ]
          },
          "metadata": {
            "tags": []
          },
          "execution_count": 7
        }
      ]
    },
    {
      "cell_type": "code",
      "metadata": {
        "id": "yOWe_ATi5YSN",
        "colab": {
          "base_uri": "https://localhost:8080/"
        },
        "outputId": "9e380fd6-a453-46c2-f803-78320dec7901"
      },
      "source": [
        "data['label']"
      ],
      "execution_count": 8,
      "outputs": [
        {
          "output_type": "execute_result",
          "data": {
            "text/plain": [
              "0         princetonCerber\n",
              "1          princetonLocky\n",
              "2         princetonCerber\n",
              "3         princetonCerber\n",
              "4          princetonLocky\n",
              "               ...       \n",
              "315195                 28\n",
              "315196                 28\n",
              "315197                 28\n",
              "315198                 28\n",
              "315199                 28\n",
              "Name: label, Length: 315200, dtype: object"
            ]
          },
          "metadata": {
            "tags": []
          },
          "execution_count": 8
        }
      ]
    },
    {
      "cell_type": "code",
      "metadata": {
        "id": "Ha2IoJ3N6P_A"
      },
      "source": [
        "data[\"label\"]= data[\"label\"].replace(28, \"white\") \n"
      ],
      "execution_count": 9,
      "outputs": []
    },
    {
      "cell_type": "code",
      "metadata": {
        "id": "_HQgPZ5RJsx9"
      },
      "source": [
        "data[\"label\"]= data[\"label\"].replace('28', \"white\") "
      ],
      "execution_count": 10,
      "outputs": []
    },
    {
      "cell_type": "code",
      "metadata": {
        "id": "rqH9gtcq6aOs",
        "colab": {
          "base_uri": "https://localhost:8080/"
        },
        "outputId": "ff690860-3566-45a6-c52f-732a18c84efc"
      },
      "source": [
        "data.label.unique()"
      ],
      "execution_count": 11,
      "outputs": [
        {
          "output_type": "execute_result",
          "data": {
            "text/plain": [
              "array(['princetonCerber', 'princetonLocky', 'montrealCryptoLocker',\n",
              "       'montrealCryptXXX', 'paduaCryptoWall', 'montrealWannaCry',\n",
              "       'montrealDMALockerv3', 'montrealCryptoTorLocker2015',\n",
              "       'montrealSamSam', 'montrealFlyper', 'montrealNoobCrypt',\n",
              "       'montrealDMALocker', 'montrealGlobe', 'montrealEDA2',\n",
              "       'paduaKeRanger', 'montrealVenusLocker', 'montrealXTPLocker',\n",
              "       'paduaJigsaw', 'montrealGlobev3', 'montrealJigSaw',\n",
              "       'montrealXLockerv5.0', 'montrealXLocker', 'montrealRazy',\n",
              "       'montrealCryptConsole', 'montrealGlobeImposter', 'montrealSam',\n",
              "       'montrealComradeCircle', 'montrealAPT', 'white'], dtype=object)"
            ]
          },
          "metadata": {
            "tags": []
          },
          "execution_count": 11
        }
      ]
    },
    {
      "cell_type": "code",
      "metadata": {
        "id": "3d9VcvQp9F7v",
        "colab": {
          "base_uri": "https://localhost:8080/",
          "height": 419
        },
        "outputId": "56ceb24d-eb90-4395-a7df-3bc4df1cd0db"
      },
      "source": [
        "data"
      ],
      "execution_count": 12,
      "outputs": [
        {
          "output_type": "execute_result",
          "data": {
            "text/html": [
              "<div>\n",
              "<style scoped>\n",
              "    .dataframe tbody tr th:only-of-type {\n",
              "        vertical-align: middle;\n",
              "    }\n",
              "\n",
              "    .dataframe tbody tr th {\n",
              "        vertical-align: top;\n",
              "    }\n",
              "\n",
              "    .dataframe thead th {\n",
              "        text-align: right;\n",
              "    }\n",
              "</style>\n",
              "<table border=\"1\" class=\"dataframe\">\n",
              "  <thead>\n",
              "    <tr style=\"text-align: right;\">\n",
              "      <th></th>\n",
              "      <th>year</th>\n",
              "      <th>day</th>\n",
              "      <th>length</th>\n",
              "      <th>weight</th>\n",
              "      <th>count</th>\n",
              "      <th>looped</th>\n",
              "      <th>neighbors</th>\n",
              "      <th>income</th>\n",
              "      <th>label</th>\n",
              "    </tr>\n",
              "  </thead>\n",
              "  <tbody>\n",
              "    <tr>\n",
              "      <th>0</th>\n",
              "      <td>2017</td>\n",
              "      <td>11</td>\n",
              "      <td>18</td>\n",
              "      <td>0.008333</td>\n",
              "      <td>1</td>\n",
              "      <td>0</td>\n",
              "      <td>2</td>\n",
              "      <td>1.000500e+08</td>\n",
              "      <td>princetonCerber</td>\n",
              "    </tr>\n",
              "    <tr>\n",
              "      <th>1</th>\n",
              "      <td>2016</td>\n",
              "      <td>132</td>\n",
              "      <td>44</td>\n",
              "      <td>0.000244</td>\n",
              "      <td>1</td>\n",
              "      <td>0</td>\n",
              "      <td>1</td>\n",
              "      <td>1.000000e+08</td>\n",
              "      <td>princetonLocky</td>\n",
              "    </tr>\n",
              "    <tr>\n",
              "      <th>2</th>\n",
              "      <td>2016</td>\n",
              "      <td>246</td>\n",
              "      <td>0</td>\n",
              "      <td>1.000000</td>\n",
              "      <td>1</td>\n",
              "      <td>0</td>\n",
              "      <td>2</td>\n",
              "      <td>2.000000e+08</td>\n",
              "      <td>princetonCerber</td>\n",
              "    </tr>\n",
              "    <tr>\n",
              "      <th>3</th>\n",
              "      <td>2016</td>\n",
              "      <td>322</td>\n",
              "      <td>72</td>\n",
              "      <td>0.003906</td>\n",
              "      <td>1</td>\n",
              "      <td>0</td>\n",
              "      <td>2</td>\n",
              "      <td>7.120000e+07</td>\n",
              "      <td>princetonCerber</td>\n",
              "    </tr>\n",
              "    <tr>\n",
              "      <th>4</th>\n",
              "      <td>2016</td>\n",
              "      <td>238</td>\n",
              "      <td>144</td>\n",
              "      <td>0.072848</td>\n",
              "      <td>456</td>\n",
              "      <td>0</td>\n",
              "      <td>1</td>\n",
              "      <td>2.000000e+08</td>\n",
              "      <td>princetonLocky</td>\n",
              "    </tr>\n",
              "    <tr>\n",
              "      <th>...</th>\n",
              "      <td>...</td>\n",
              "      <td>...</td>\n",
              "      <td>...</td>\n",
              "      <td>...</td>\n",
              "      <td>...</td>\n",
              "      <td>...</td>\n",
              "      <td>...</td>\n",
              "      <td>...</td>\n",
              "      <td>...</td>\n",
              "    </tr>\n",
              "    <tr>\n",
              "      <th>315195</th>\n",
              "      <td>2018</td>\n",
              "      <td>330</td>\n",
              "      <td>0</td>\n",
              "      <td>0.111111</td>\n",
              "      <td>1</td>\n",
              "      <td>0</td>\n",
              "      <td>2</td>\n",
              "      <td>2.503180e+09</td>\n",
              "      <td>white</td>\n",
              "    </tr>\n",
              "    <tr>\n",
              "      <th>315196</th>\n",
              "      <td>2018</td>\n",
              "      <td>330</td>\n",
              "      <td>0</td>\n",
              "      <td>0.500000</td>\n",
              "      <td>1</td>\n",
              "      <td>0</td>\n",
              "      <td>2</td>\n",
              "      <td>1.000000e+09</td>\n",
              "      <td>white</td>\n",
              "    </tr>\n",
              "    <tr>\n",
              "      <th>315197</th>\n",
              "      <td>2018</td>\n",
              "      <td>330</td>\n",
              "      <td>6</td>\n",
              "      <td>0.020092</td>\n",
              "      <td>2</td>\n",
              "      <td>0</td>\n",
              "      <td>1</td>\n",
              "      <td>3.000000e+08</td>\n",
              "      <td>white</td>\n",
              "    </tr>\n",
              "    <tr>\n",
              "      <th>315198</th>\n",
              "      <td>2018</td>\n",
              "      <td>330</td>\n",
              "      <td>0</td>\n",
              "      <td>0.333333</td>\n",
              "      <td>1</td>\n",
              "      <td>0</td>\n",
              "      <td>2</td>\n",
              "      <td>1.372746e+09</td>\n",
              "      <td>white</td>\n",
              "    </tr>\n",
              "    <tr>\n",
              "      <th>315199</th>\n",
              "      <td>2018</td>\n",
              "      <td>330</td>\n",
              "      <td>6</td>\n",
              "      <td>1.000000</td>\n",
              "      <td>1</td>\n",
              "      <td>0</td>\n",
              "      <td>2</td>\n",
              "      <td>2.397816e+09</td>\n",
              "      <td>white</td>\n",
              "    </tr>\n",
              "  </tbody>\n",
              "</table>\n",
              "<p>315200 rows × 9 columns</p>\n",
              "</div>"
            ],
            "text/plain": [
              "        year  day  length  ...  neighbors        income            label\n",
              "0       2017   11      18  ...          2  1.000500e+08  princetonCerber\n",
              "1       2016  132      44  ...          1  1.000000e+08   princetonLocky\n",
              "2       2016  246       0  ...          2  2.000000e+08  princetonCerber\n",
              "3       2016  322      72  ...          2  7.120000e+07  princetonCerber\n",
              "4       2016  238     144  ...          1  2.000000e+08   princetonLocky\n",
              "...      ...  ...     ...  ...        ...           ...              ...\n",
              "315195  2018  330       0  ...          2  2.503180e+09            white\n",
              "315196  2018  330       0  ...          2  1.000000e+09            white\n",
              "315197  2018  330       6  ...          1  3.000000e+08            white\n",
              "315198  2018  330       0  ...          2  1.372746e+09            white\n",
              "315199  2018  330       6  ...          2  2.397816e+09            white\n",
              "\n",
              "[315200 rows x 9 columns]"
            ]
          },
          "metadata": {
            "tags": []
          },
          "execution_count": 12
        }
      ]
    },
    {
      "cell_type": "code",
      "metadata": {
        "id": "yc-u_H8U9Jcv",
        "colab": {
          "base_uri": "https://localhost:8080/"
        },
        "outputId": "7fd5c927-45f2-4472-9d8f-2435e0341288"
      },
      "source": [
        "data.label.value_counts()"
      ],
      "execution_count": 13,
      "outputs": [
        {
          "output_type": "execute_result",
          "data": {
            "text/plain": [
              "white                          232374\n",
              "paduaCryptoWall                 24780\n",
              "montrealCryptoLocker            18630\n",
              "princetonCerber                 18446\n",
              "princetonLocky                  13250\n",
              "montrealCryptXXX                 4838\n",
              "montrealNoobCrypt                 966\n",
              "montrealDMALockerv3               708\n",
              "montrealDMALocker                 502\n",
              "montrealSamSam                    124\n",
              "montrealCryptoTorLocker2015       110\n",
              "montrealGlobeImposter             110\n",
              "montrealGlobev3                    68\n",
              "montrealGlobe                      64\n",
              "montrealWannaCry                   56\n",
              "montrealRazy                       26\n",
              "montrealAPT                        22\n",
              "paduaKeRanger                      20\n",
              "montrealFlyper                     18\n",
              "montrealXTPLocker                  16\n",
              "montrealVenusLocker                14\n",
              "montrealCryptConsole               14\n",
              "montrealXLockerv5.0                14\n",
              "montrealEDA2                       12\n",
              "montrealJigSaw                      8\n",
              "paduaJigsaw                         4\n",
              "montrealXLocker                     2\n",
              "montrealComradeCircle               2\n",
              "montrealSam                         2\n",
              "Name: label, dtype: int64"
            ]
          },
          "metadata": {
            "tags": []
          },
          "execution_count": 13
        }
      ]
    },
    {
      "cell_type": "code",
      "metadata": {
        "id": "0-cryWPC5Hrh",
        "colab": {
          "base_uri": "https://localhost:8080/"
        },
        "outputId": "ea0d7f99-2e8e-4b23-a647-46d2006a473a"
      },
      "source": [
        "from sklearn.preprocessing import LabelEncoder\n",
        "le = LabelEncoder()\n",
        "data['label'] = le.fit_transform(data['label'])\n",
        "data['label'].unique()"
      ],
      "execution_count": 14,
      "outputs": [
        {
          "output_type": "execute_result",
          "data": {
            "text/plain": [
              "array([26, 27,  4,  3, 23, 19,  7,  5, 17,  9, 14,  6, 10,  8, 25, 18, 22,\n",
              "       24, 12, 13, 21, 20, 15,  2, 11, 16,  1,  0, 28])"
            ]
          },
          "metadata": {
            "tags": []
          },
          "execution_count": 14
        }
      ]
    },
    {
      "cell_type": "code",
      "metadata": {
        "id": "875Ay7Y-6vOx",
        "colab": {
          "base_uri": "https://localhost:8080/"
        },
        "outputId": "8c94da4a-5d13-4e8d-85e6-22b4d911c2f4"
      },
      "source": [
        "le.classes_"
      ],
      "execution_count": 15,
      "outputs": [
        {
          "output_type": "execute_result",
          "data": {
            "text/plain": [
              "array(['montrealAPT', 'montrealComradeCircle', 'montrealCryptConsole',\n",
              "       'montrealCryptXXX', 'montrealCryptoLocker',\n",
              "       'montrealCryptoTorLocker2015', 'montrealDMALocker',\n",
              "       'montrealDMALockerv3', 'montrealEDA2', 'montrealFlyper',\n",
              "       'montrealGlobe', 'montrealGlobeImposter', 'montrealGlobev3',\n",
              "       'montrealJigSaw', 'montrealNoobCrypt', 'montrealRazy',\n",
              "       'montrealSam', 'montrealSamSam', 'montrealVenusLocker',\n",
              "       'montrealWannaCry', 'montrealXLocker', 'montrealXLockerv5.0',\n",
              "       'montrealXTPLocker', 'paduaCryptoWall', 'paduaJigsaw',\n",
              "       'paduaKeRanger', 'princetonCerber', 'princetonLocky', 'white'],\n",
              "      dtype=object)"
            ]
          },
          "metadata": {
            "tags": []
          },
          "execution_count": 15
        }
      ]
    },
    {
      "cell_type": "code",
      "metadata": {
        "id": "K7_N9Nxh-Iga"
      },
      "source": [
        "X = data.loc[:, data.columns != 'label']\n",
        "y = data['label']"
      ],
      "execution_count": 16,
      "outputs": []
    },
    {
      "cell_type": "code",
      "metadata": {
        "id": "HCkpJAHH-0Ob",
        "colab": {
          "base_uri": "https://localhost:8080/"
        },
        "outputId": "9fb89add-b10d-4d0c-d5e2-7a4a9531d20f"
      },
      "source": [
        "print(X)"
      ],
      "execution_count": 17,
      "outputs": [
        {
          "output_type": "stream",
          "text": [
            "        year  day  length    weight  count  looped  neighbors        income\n",
            "0       2017   11      18  0.008333      1       0          2  1.000500e+08\n",
            "1       2016  132      44  0.000244      1       0          1  1.000000e+08\n",
            "2       2016  246       0  1.000000      1       0          2  2.000000e+08\n",
            "3       2016  322      72  0.003906      1       0          2  7.120000e+07\n",
            "4       2016  238     144  0.072848    456       0          1  2.000000e+08\n",
            "...      ...  ...     ...       ...    ...     ...        ...           ...\n",
            "315195  2018  330       0  0.111111      1       0          2  2.503180e+09\n",
            "315196  2018  330       0  0.500000      1       0          2  1.000000e+09\n",
            "315197  2018  330       6  0.020092      2       0          1  3.000000e+08\n",
            "315198  2018  330       0  0.333333      1       0          2  1.372746e+09\n",
            "315199  2018  330       6  1.000000      1       0          2  2.397816e+09\n",
            "\n",
            "[315200 rows x 8 columns]\n"
          ],
          "name": "stdout"
        }
      ]
    },
    {
      "cell_type": "code",
      "metadata": {
        "id": "Qthroz8_-5DK",
        "colab": {
          "base_uri": "https://localhost:8080/"
        },
        "outputId": "683f7af6-90b5-4dce-bf6d-1108c742a181"
      },
      "source": [
        "print(y)"
      ],
      "execution_count": 18,
      "outputs": [
        {
          "output_type": "stream",
          "text": [
            "0         26\n",
            "1         27\n",
            "2         26\n",
            "3         26\n",
            "4         27\n",
            "          ..\n",
            "315195    28\n",
            "315196    28\n",
            "315197    28\n",
            "315198    28\n",
            "315199    28\n",
            "Name: label, Length: 315200, dtype: int64\n"
          ],
          "name": "stdout"
        }
      ]
    },
    {
      "cell_type": "code",
      "metadata": {
        "id": "j3TKd_v59b8L"
      },
      "source": [
        "from sklearn.preprocessing import StandardScaler\n",
        "sc = StandardScaler()\n",
        "X = sc.fit_transform(X)\n"
      ],
      "execution_count": 19,
      "outputs": []
    },
    {
      "cell_type": "code",
      "metadata": {
        "id": "NDh_aNXW_KV4",
        "colab": {
          "base_uri": "https://localhost:8080/"
        },
        "outputId": "42d5b5cb-8944-46b8-8149-c80ffc3a82d7"
      },
      "source": [
        "print(X)"
      ],
      "execution_count": 20,
      "outputs": [
        {
          "output_type": "stream",
          "text": [
            "[[ 1.16855767 -1.65291969 -0.44401279 ... -0.23098257 -0.01326959\n",
            "  -0.02212009]\n",
            " [ 0.68743984 -0.46555324 -0.00258537 ... -0.23098257 -0.12666455\n",
            "  -0.02212043]\n",
            " [ 0.68743984  0.65312259 -0.74961638 ... -0.23098257 -0.01326959\n",
            "  -0.02144322]\n",
            " ...\n",
            " [ 1.6496755   1.47741004 -0.64774852 ... -0.23098257 -0.12666455\n",
            "  -0.02076601]\n",
            " [ 1.6496755   1.47741004 -0.74961638 ... -0.23098257 -0.01326959\n",
            "  -0.01350126]\n",
            " [ 1.6496755   1.47741004 -0.64774852 ... -0.23098257 -0.01326959\n",
            "  -0.00655938]]\n"
          ],
          "name": "stdout"
        }
      ]
    },
    {
      "cell_type": "code",
      "metadata": {
        "id": "pzXebw--_imK"
      },
      "source": [
        "from sklearn.model_selection import train_test_split\n",
        "X_train, X_test, y_train, y_test = train_test_split(X, y , test_size = 0.2, random_state = 1,stratify = y)"
      ],
      "execution_count": 21,
      "outputs": []
    },
    {
      "cell_type": "code",
      "metadata": {
        "id": "qJwWPkUX_wXB",
        "colab": {
          "base_uri": "https://localhost:8080/"
        },
        "outputId": "4a09a052-b89e-4a03-d29b-97549b6a4259"
      },
      "source": [
        "print(len(X_train))\n",
        "print(len(X_test))\n",
        "print(len(y_train))\n",
        "print(len(y_test))"
      ],
      "execution_count": 22,
      "outputs": [
        {
          "output_type": "stream",
          "text": [
            "252160\n",
            "63040\n",
            "252160\n",
            "63040\n"
          ],
          "name": "stdout"
        }
      ]
    },
    {
      "cell_type": "code",
      "metadata": {
        "id": "sdY1VF1lvynL",
        "colab": {
          "base_uri": "https://localhost:8080/"
        },
        "outputId": "20239f07-d0f5-4413-c031-81ca7ef66d0d"
      },
      "source": [
        "from xgboost import XGBClassifier\n",
        "\n",
        "model = XGBClassifier()\n",
        "# Add silent=True to avoid printing out updates with each cycle\n",
        "model.fit(X_train, y_train, verbose=2)"
      ],
      "execution_count": 23,
      "outputs": [
        {
          "output_type": "execute_result",
          "data": {
            "text/plain": [
              "XGBClassifier(base_score=0.5, booster='gbtree', colsample_bylevel=1,\n",
              "              colsample_bynode=1, colsample_bytree=1, gamma=0,\n",
              "              learning_rate=0.1, max_delta_step=0, max_depth=3,\n",
              "              min_child_weight=1, missing=None, n_estimators=100, n_jobs=1,\n",
              "              nthread=None, objective='multi:softprob', random_state=0,\n",
              "              reg_alpha=0, reg_lambda=1, scale_pos_weight=1, seed=None,\n",
              "              silent=None, subsample=1, verbosity=1)"
            ]
          },
          "metadata": {
            "tags": []
          },
          "execution_count": 23
        }
      ]
    },
    {
      "cell_type": "code",
      "metadata": {
        "id": "RlEkzz8hvy5r",
        "colab": {
          "base_uri": "https://localhost:8080/"
        },
        "outputId": "a2328dbb-7c74-4c1c-adf9-8eeb4ad07909"
      },
      "source": [
        "\n",
        "# make predictions\n",
        "predictions = model.predict(X_test)\n",
        "\n",
        "from sklearn.metrics import mean_absolute_error\n",
        "print(\"Mean Absolute Error : \" + str(mean_absolute_error(predictions, y_test)))"
      ],
      "execution_count": 24,
      "outputs": [
        {
          "output_type": "stream",
          "text": [
            "Mean Absolute Error : 1.4616909898477157\n"
          ],
          "name": "stdout"
        }
      ]
    },
    {
      "cell_type": "code",
      "metadata": {
        "id": "h_RC3jUVBfwb",
        "colab": {
          "base_uri": "https://localhost:8080/"
        },
        "outputId": "22a25e94-9b66-4fb8-bd0b-efa664cdc09f"
      },
      "source": [
        "from sklearn.metrics import accuracy_score\n",
        "acc = accuracy_score(y_test, predictions)\n",
        "print(acc)"
      ],
      "execution_count": 25,
      "outputs": [
        {
          "output_type": "stream",
          "text": [
            "0.8742861675126904\n"
          ],
          "name": "stdout"
        }
      ]
    },
    {
      "cell_type": "code",
      "metadata": {
        "id": "LPeS7jYdMqrX",
        "colab": {
          "base_uri": "https://localhost:8080/"
        },
        "outputId": "b34aeca3-22c4-4779-b3e0-61a21be17c48"
      },
      "source": [
        "from xgboost import XGBClassifier\n",
        "from sklearn.model_selection import GridSearchCV,StratifiedKFold\n",
        "\n",
        "xgb_model = XGBClassifier()\n",
        "\n",
        "parameters = {'nthread':[4], #when use hyperthread, xgboost may become slower\n",
        "              'learning_rate': [0.7], #so called `eta` value\n",
        "              'max_depth': [6],\n",
        "              'min_child_weight': [11],\n",
        "              'silent': [1],\n",
        "              'subsample': [0.8],\n",
        "              'colsample_bytree': [0.7],\n",
        "              'tree_method' : ['gpu_hist'],\n",
        "              'n_estimators': [1750,1850,1900],  #number of trees, change it to 1000 for better results\n",
        "              'seed': [1337]}\n",
        "\n",
        "\n",
        "clf = GridSearchCV(xgb_model, parameters, n_jobs = -1,\n",
        "                   cv=StratifiedKFold(n_splits=3), \n",
        "                   scoring='accuracy',\n",
        "                   verbose=2, refit=True)\n",
        "\n",
        "clf.fit(X,y)"
      ],
      "execution_count": null,
      "outputs": [
        {
          "output_type": "stream",
          "text": [
            "Fitting 3 folds for each of 3 candidates, totalling 9 fits\n"
          ],
          "name": "stdout"
        },
        {
          "output_type": "stream",
          "text": [
            "/usr/local/lib/python3.6/dist-packages/sklearn/model_selection/_split.py:667: UserWarning: The least populated class in y has only 2 members, which is less than n_splits=3.\n",
            "  % (min_groups, self.n_splits)), UserWarning)\n",
            "[Parallel(n_jobs=-1)]: Using backend LokyBackend with 2 concurrent workers.\n",
            "[Parallel(n_jobs=-1)]: Done   9 out of   9 | elapsed: 57.5min finished\n"
          ],
          "name": "stderr"
        },
        {
          "output_type": "execute_result",
          "data": {
            "text/plain": [
              "GridSearchCV(cv=StratifiedKFold(n_splits=3, random_state=None, shuffle=False),\n",
              "             error_score=nan,\n",
              "             estimator=XGBClassifier(base_score=0.5, booster='gbtree',\n",
              "                                     colsample_bylevel=1, colsample_bynode=1,\n",
              "                                     colsample_bytree=1, gamma=0,\n",
              "                                     learning_rate=0.1, max_delta_step=0,\n",
              "                                     max_depth=3, min_child_weight=1,\n",
              "                                     missing=None, n_estimators=100, n_jobs=1,\n",
              "                                     nthread=None, objective='binary:...\n",
              "                                     subsample=1, verbosity=1),\n",
              "             iid='deprecated', n_jobs=-1,\n",
              "             param_grid={'colsample_bytree': [0.7], 'learning_rate': [0.7],\n",
              "                         'max_depth': [6], 'min_child_weight': [11],\n",
              "                         'n_estimators': [1750, 1850, 1900], 'nthread': [4],\n",
              "                         'seed': [1337], 'silent': [1], 'subsample': [0.8],\n",
              "                         'tree_method': ['gpu_hist']},\n",
              "             pre_dispatch='2*n_jobs', refit=True, return_train_score=False,\n",
              "             scoring='accuracy', verbose=2)"
            ]
          },
          "metadata": {
            "tags": []
          },
          "execution_count": 129
        }
      ]
    },
    {
      "cell_type": "code",
      "metadata": {
        "id": "jJJAbkCOQrs9",
        "colab": {
          "base_uri": "https://localhost:8080/"
        },
        "outputId": "9f50b374-2d61-4a84-ccea-ccfd13431088"
      },
      "source": [
        "print(clf.best_score_)\n",
        "print(clf.best_params_)"
      ],
      "execution_count": null,
      "outputs": [
        {
          "output_type": "stream",
          "text": [
            "0.2776047671224962\n",
            "{'colsample_bytree': 0.7, 'learning_rate': 0.7, 'max_depth': 6, 'min_child_weight': 11, 'n_estimators': 1850, 'nthread': 4, 'seed': 1337, 'silent': 1, 'subsample': 0.8, 'tree_method': 'gpu_hist'}\n"
          ],
          "name": "stdout"
        }
      ]
    },
    {
      "cell_type": "code",
      "metadata": {
        "id": "t3PAhaj6poc0"
      },
      "source": [
        ""
      ],
      "execution_count": null,
      "outputs": []
    },
    {
      "cell_type": "code",
      "metadata": {
        "id": "irVO2UTHZ4cP",
        "colab": {
          "base_uri": "https://localhost:8080/"
        },
        "outputId": "9de9e762-00f9-4865-acd4-3825fae8279d"
      },
      "source": [
        "from xgboost import XGBClassifier\n",
        "from sklearn.model_selection import GridSearchCV,StratifiedKFold\n",
        "\n",
        "xgb_model = XGBClassifier()\n",
        "\n",
        "parameters = {'nthread':[4], #when use hyperthread, xgboost may become slower\n",
        "              'learning_rate': [0.7], #so called `eta` value\n",
        "              'max_depth': [6,7],\n",
        "              'min_child_weight': [11,12],\n",
        "              'silent': [1],\n",
        "              'subsample': [0.8,0.9],\n",
        "              'colsample_bytree': [0.7],\n",
        "              'tree_method' : ['gpu_hist'],\n",
        "              'n_estimators': [1850],  #number of trees, change it to 1000 for better results\n",
        "              'seed': [1337]}\n",
        "\n",
        "\n",
        "clf = GridSearchCV(xgb_model, parameters, n_jobs = -1,\n",
        "                   cv=StratifiedKFold(n_splits=3), \n",
        "                   scoring='accuracy',\n",
        "                   verbose=2, refit=True)\n",
        "\n",
        "clf.fit(X,y)"
      ],
      "execution_count": 25,
      "outputs": [
        {
          "output_type": "stream",
          "text": [
            "Fitting 3 folds for each of 8 candidates, totalling 24 fits\n"
          ],
          "name": "stdout"
        },
        {
          "output_type": "stream",
          "text": [
            "/usr/local/lib/python3.6/dist-packages/sklearn/model_selection/_split.py:667: UserWarning: The least populated class in y has only 2 members, which is less than n_splits=3.\n",
            "  % (min_groups, self.n_splits)), UserWarning)\n",
            "[Parallel(n_jobs=-1)]: Using backend LokyBackend with 2 concurrent workers.\n",
            "[Parallel(n_jobs=-1)]: Done  24 out of  24 | elapsed: 156.4min finished\n"
          ],
          "name": "stderr"
        },
        {
          "output_type": "execute_result",
          "data": {
            "text/plain": [
              "GridSearchCV(cv=StratifiedKFold(n_splits=3, random_state=None, shuffle=False),\n",
              "             error_score=nan,\n",
              "             estimator=XGBClassifier(base_score=0.5, booster='gbtree',\n",
              "                                     colsample_bylevel=1, colsample_bynode=1,\n",
              "                                     colsample_bytree=1, gamma=0,\n",
              "                                     learning_rate=0.1, max_delta_step=0,\n",
              "                                     max_depth=3, min_child_weight=1,\n",
              "                                     missing=None, n_estimators=100, n_jobs=1,\n",
              "                                     nthread=None, objective='binary:...\n",
              "                                     subsample=1, verbosity=1),\n",
              "             iid='deprecated', n_jobs=-1,\n",
              "             param_grid={'colsample_bytree': [0.7], 'learning_rate': [0.7],\n",
              "                         'max_depth': [6, 7], 'min_child_weight': [11, 12],\n",
              "                         'n_estimators': [1850], 'nthread': [4], 'seed': [1337],\n",
              "                         'silent': [1], 'subsample': [0.8, 0.9],\n",
              "                         'tree_method': ['gpu_hist']},\n",
              "             pre_dispatch='2*n_jobs', refit=True, return_train_score=False,\n",
              "             scoring='accuracy', verbose=2)"
            ]
          },
          "metadata": {
            "tags": []
          },
          "execution_count": 25
        }
      ]
    },
    {
      "cell_type": "code",
      "metadata": {
        "id": "5MMq2hpsdds7"
      },
      "source": [
        ""
      ],
      "execution_count": 25,
      "outputs": []
    },
    {
      "cell_type": "code",
      "metadata": {
        "colab": {
          "base_uri": "https://localhost:8080/"
        },
        "id": "ALF-sj-_pqE5",
        "outputId": "8d5a415d-5aa6-4407-c669-a5b712941ba1"
      },
      "source": [
        "print(clf.best_score_)\n",
        "print(clf.best_params_)"
      ],
      "execution_count": 26,
      "outputs": [
        {
          "output_type": "stream",
          "text": [
            "0.28224302860410017\n",
            "{'colsample_bytree': 0.7, 'learning_rate': 0.7, 'max_depth': 7, 'min_child_weight': 12, 'n_estimators': 1850, 'nthread': 4, 'seed': 1337, 'silent': 1, 'subsample': 0.9, 'tree_method': 'gpu_hist'}\n"
          ],
          "name": "stdout"
        }
      ]
    },
    {
      "cell_type": "code",
      "metadata": {
        "colab": {
          "base_uri": "https://localhost:8080/"
        },
        "id": "CM3jE60rpq88",
        "outputId": "c320348c-951b-4818-dddb-956f034e352a"
      },
      "source": [
        "from xgboost import XGBClassifier\n",
        "from sklearn.model_selection import GridSearchCV,StratifiedKFold\n",
        "\n",
        "xgb_model = XGBClassifier()\n",
        "\n",
        "\n",
        "parameters = {'nthread':[4], #when use hyperthread, xgboost may become slower\n",
        "              'learning_rate': [0.7], #so called `eta` value\n",
        "              'max_depth': [6,7],\n",
        "              'min_child_weight': [15,16],\n",
        "              'silent': [1],\n",
        "              'subsample': [0.9,1],\n",
        "              'colsample_bytree': [0.7],\n",
        "              'tree_method' : ['gpu_hist'],\n",
        "              'n_estimators': [1850],  #number of trees, change it to 1000 for better results\n",
        "              'seed': [1337]}\n",
        "\n",
        "\n",
        "clf = GridSearchCV(xgb_model, parameters, n_jobs = -1,\n",
        "                   cv=StratifiedKFold(n_splits=3), \n",
        "                   scoring='accuracy',\n",
        "                   verbose=2, refit=True)\n",
        "\n",
        "clf.fit(X,y)"
      ],
      "execution_count": null,
      "outputs": [
        {
          "output_type": "stream",
          "text": [
            "Fitting 3 folds for each of 8 candidates, totalling 24 fits\n"
          ],
          "name": "stdout"
        },
        {
          "output_type": "stream",
          "text": [
            "/usr/local/lib/python3.6/dist-packages/sklearn/model_selection/_split.py:667: UserWarning: The least populated class in y has only 2 members, which is less than n_splits=3.\n",
            "  % (min_groups, self.n_splits)), UserWarning)\n",
            "[Parallel(n_jobs=-1)]: Using backend LokyBackend with 2 concurrent workers.\n"
          ],
          "name": "stderr"
        }
      ]
    },
    {
      "cell_type": "code",
      "metadata": {
        "id": "DsXWpmodeDDz"
      },
      "source": [
        "print(clf.best_score_)\n",
        "print(clf.best_params_)"
      ],
      "execution_count": null,
      "outputs": []
    },
    {
      "cell_type": "code",
      "metadata": {
        "id": "MQZfGhnhe5Pk"
      },
      "source": [
        ""
      ],
      "execution_count": null,
      "outputs": []
    }
  ]
}