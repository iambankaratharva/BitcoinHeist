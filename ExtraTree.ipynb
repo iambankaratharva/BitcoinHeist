{
  "nbformat": 4,
  "nbformat_minor": 0,
  "metadata": {
    "colab": {
      "name": "ExtraTree.ipynb",
      "provenance": [],
      "collapsed_sections": []
    },
    "kernelspec": {
      "display_name": "Python 3",
      "name": "python3"
    }
  },
  "cells": [
    {
      "cell_type": "code",
      "metadata": {
        "id": "ih46oKzvvu1h",
        "outputId": "66da3b7c-befc-4d2c-c8cb-e509b1a88d74",
        "colab": {
          "base_uri": "https://localhost:8080/"
        }
      },
      "source": [
        "# Mount the drive \n",
        "from google.colab import drive\n",
        "drive.mount('/content/drive')"
      ],
      "execution_count": 4,
      "outputs": [
        {
          "output_type": "stream",
          "text": [
            "Mounted at /content/drive\n"
          ],
          "name": "stdout"
        }
      ]
    },
    {
      "cell_type": "code",
      "metadata": {
        "id": "OzcMsZDWwZNg",
        "outputId": "e3204652-53d5-4cd1-bbd0-400905a6e598",
        "colab": {
          "base_uri": "https://localhost:8080/"
        }
      },
      "source": [
        "%cd /content/drive/My Drive/Colab Notebooks/\n"
      ],
      "execution_count": 5,
      "outputs": [
        {
          "output_type": "stream",
          "text": [
            "/content/drive/My Drive/Colab Notebooks\n"
          ],
          "name": "stdout"
        }
      ]
    },
    {
      "cell_type": "code",
      "metadata": {
        "id": "zKUyzoPiwXH3",
        "outputId": "481a005b-3b3e-48cd-ee61-4556179f67d8",
        "colab": {
          "base_uri": "https://localhost:8080/"
        }
      },
      "source": [
        "import pandas as pd\n",
        "from sklearn.model_selection import train_test_split\n",
        "data = pd.read_csv('/content/drive/My Drive/Bitcoin_dataset/final_data.csv')"
      ],
      "execution_count": 6,
      "outputs": [
        {
          "output_type": "stream",
          "text": [
            "/usr/local/lib/python3.6/dist-packages/IPython/core/interactiveshell.py:2718: DtypeWarning: Columns (10) have mixed types.Specify dtype option on import or set low_memory=False.\n",
            "  interactivity=interactivity, compiler=compiler, result=result)\n"
          ],
          "name": "stderr"
        }
      ]
    },
    {
      "cell_type": "code",
      "metadata": {
        "id": "KYtV20SysBnY",
        "outputId": "076b5a97-0bc5-49fc-e3ba-14e41d6ca098",
        "colab": {
          "base_uri": "https://localhost:8080/"
        }
      },
      "source": [
        "from google.colab import drive\n",
        "drive.mount('/content/drive')"
      ],
      "execution_count": 3,
      "outputs": [
        {
          "output_type": "stream",
          "text": [
            "Drive already mounted at /content/drive; to attempt to forcibly remount, call drive.mount(\"/content/drive\", force_remount=True).\n"
          ],
          "name": "stdout"
        }
      ]
    },
    {
      "cell_type": "code",
      "metadata": {
        "id": "qAOTJl0Z4mnv",
        "outputId": "ca811994-79e6-452c-cc58-afba07da9125",
        "colab": {
          "base_uri": "https://localhost:8080/",
          "height": 402
        }
      },
      "source": [
        "data"
      ],
      "execution_count": null,
      "outputs": [
        {
          "output_type": "execute_result",
          "data": {
            "text/html": [
              "<div>\n",
              "<style scoped>\n",
              "    .dataframe tbody tr th:only-of-type {\n",
              "        vertical-align: middle;\n",
              "    }\n",
              "\n",
              "    .dataframe tbody tr th {\n",
              "        vertical-align: top;\n",
              "    }\n",
              "\n",
              "    .dataframe thead th {\n",
              "        text-align: right;\n",
              "    }\n",
              "</style>\n",
              "<table border=\"1\" class=\"dataframe\">\n",
              "  <thead>\n",
              "    <tr style=\"text-align: right;\">\n",
              "      <th></th>\n",
              "      <th>Unnamed: 0</th>\n",
              "      <th>address</th>\n",
              "      <th>year</th>\n",
              "      <th>day</th>\n",
              "      <th>length</th>\n",
              "      <th>weight</th>\n",
              "      <th>count</th>\n",
              "      <th>looped</th>\n",
              "      <th>neighbors</th>\n",
              "      <th>income</th>\n",
              "      <th>label</th>\n",
              "    </tr>\n",
              "  </thead>\n",
              "  <tbody>\n",
              "    <tr>\n",
              "      <th>0</th>\n",
              "      <td>0</td>\n",
              "      <td>111K8kZAEnJg245r2cM6y9zgJGHZtJPy6</td>\n",
              "      <td>2017</td>\n",
              "      <td>11</td>\n",
              "      <td>18</td>\n",
              "      <td>0.008333</td>\n",
              "      <td>1</td>\n",
              "      <td>0</td>\n",
              "      <td>2</td>\n",
              "      <td>1.000500e+08</td>\n",
              "      <td>princetonCerber</td>\n",
              "    </tr>\n",
              "    <tr>\n",
              "      <th>1</th>\n",
              "      <td>1</td>\n",
              "      <td>1123pJv8jzeFQaCV4w644pzQJzVWay2zcA</td>\n",
              "      <td>2016</td>\n",
              "      <td>132</td>\n",
              "      <td>44</td>\n",
              "      <td>0.000244</td>\n",
              "      <td>1</td>\n",
              "      <td>0</td>\n",
              "      <td>1</td>\n",
              "      <td>1.000000e+08</td>\n",
              "      <td>princetonLocky</td>\n",
              "    </tr>\n",
              "    <tr>\n",
              "      <th>2</th>\n",
              "      <td>2</td>\n",
              "      <td>112536im7hy6wtKbpH1qYDWtTyMRAcA2p7</td>\n",
              "      <td>2016</td>\n",
              "      <td>246</td>\n",
              "      <td>0</td>\n",
              "      <td>1.000000</td>\n",
              "      <td>1</td>\n",
              "      <td>0</td>\n",
              "      <td>2</td>\n",
              "      <td>2.000000e+08</td>\n",
              "      <td>princetonCerber</td>\n",
              "    </tr>\n",
              "    <tr>\n",
              "      <th>3</th>\n",
              "      <td>3</td>\n",
              "      <td>1126eDRw2wqSkWosjTCre8cjjQW8sSeWH7</td>\n",
              "      <td>2016</td>\n",
              "      <td>322</td>\n",
              "      <td>72</td>\n",
              "      <td>0.003906</td>\n",
              "      <td>1</td>\n",
              "      <td>0</td>\n",
              "      <td>2</td>\n",
              "      <td>7.120000e+07</td>\n",
              "      <td>princetonCerber</td>\n",
              "    </tr>\n",
              "    <tr>\n",
              "      <th>4</th>\n",
              "      <td>4</td>\n",
              "      <td>1129TSjKtx65E35GiUo4AYVeyo48twbrGX</td>\n",
              "      <td>2016</td>\n",
              "      <td>238</td>\n",
              "      <td>144</td>\n",
              "      <td>0.072848</td>\n",
              "      <td>456</td>\n",
              "      <td>0</td>\n",
              "      <td>1</td>\n",
              "      <td>2.000000e+08</td>\n",
              "      <td>princetonLocky</td>\n",
              "    </tr>\n",
              "    <tr>\n",
              "      <th>...</th>\n",
              "      <td>...</td>\n",
              "      <td>...</td>\n",
              "      <td>...</td>\n",
              "      <td>...</td>\n",
              "      <td>...</td>\n",
              "      <td>...</td>\n",
              "      <td>...</td>\n",
              "      <td>...</td>\n",
              "      <td>...</td>\n",
              "      <td>...</td>\n",
              "      <td>...</td>\n",
              "    </tr>\n",
              "    <tr>\n",
              "      <th>315195</th>\n",
              "      <td>315195</td>\n",
              "      <td>395V9rYQFvcvag5DWnHcyfKk7mZz1b6Euq</td>\n",
              "      <td>2018</td>\n",
              "      <td>330</td>\n",
              "      <td>0</td>\n",
              "      <td>0.111111</td>\n",
              "      <td>1</td>\n",
              "      <td>0</td>\n",
              "      <td>2</td>\n",
              "      <td>2.503180e+09</td>\n",
              "      <td>28</td>\n",
              "    </tr>\n",
              "    <tr>\n",
              "      <th>315196</th>\n",
              "      <td>315196</td>\n",
              "      <td>14SoRn5yfaqvmhURanUkj18syPGy6HqzPW</td>\n",
              "      <td>2018</td>\n",
              "      <td>330</td>\n",
              "      <td>0</td>\n",
              "      <td>0.500000</td>\n",
              "      <td>1</td>\n",
              "      <td>0</td>\n",
              "      <td>2</td>\n",
              "      <td>1.000000e+09</td>\n",
              "      <td>28</td>\n",
              "    </tr>\n",
              "    <tr>\n",
              "      <th>315197</th>\n",
              "      <td>315197</td>\n",
              "      <td>19Nw2SqEw1im52XqdFc2CkwiDhYsMNutxS</td>\n",
              "      <td>2018</td>\n",
              "      <td>330</td>\n",
              "      <td>6</td>\n",
              "      <td>0.020092</td>\n",
              "      <td>2</td>\n",
              "      <td>0</td>\n",
              "      <td>1</td>\n",
              "      <td>3.000000e+08</td>\n",
              "      <td>28</td>\n",
              "    </tr>\n",
              "    <tr>\n",
              "      <th>315198</th>\n",
              "      <td>315198</td>\n",
              "      <td>38rwU3UrRMvLSxEzwkNwLxcSQJnR3EHBgm</td>\n",
              "      <td>2018</td>\n",
              "      <td>330</td>\n",
              "      <td>0</td>\n",
              "      <td>0.333333</td>\n",
              "      <td>1</td>\n",
              "      <td>0</td>\n",
              "      <td>2</td>\n",
              "      <td>1.372746e+09</td>\n",
              "      <td>28</td>\n",
              "    </tr>\n",
              "    <tr>\n",
              "      <th>315199</th>\n",
              "      <td>315199</td>\n",
              "      <td>12GgBm8k1VESrtqaCVxFpBdJxi1yYpDTrh</td>\n",
              "      <td>2018</td>\n",
              "      <td>330</td>\n",
              "      <td>6</td>\n",
              "      <td>1.000000</td>\n",
              "      <td>1</td>\n",
              "      <td>0</td>\n",
              "      <td>2</td>\n",
              "      <td>2.397816e+09</td>\n",
              "      <td>28</td>\n",
              "    </tr>\n",
              "  </tbody>\n",
              "</table>\n",
              "<p>315200 rows × 11 columns</p>\n",
              "</div>"
            ],
            "text/plain": [
              "        Unnamed: 0  ...            label\n",
              "0                0  ...  princetonCerber\n",
              "1                1  ...   princetonLocky\n",
              "2                2  ...  princetonCerber\n",
              "3                3  ...  princetonCerber\n",
              "4                4  ...   princetonLocky\n",
              "...            ...  ...              ...\n",
              "315195      315195  ...               28\n",
              "315196      315196  ...               28\n",
              "315197      315197  ...               28\n",
              "315198      315198  ...               28\n",
              "315199      315199  ...               28\n",
              "\n",
              "[315200 rows x 11 columns]"
            ]
          },
          "metadata": {
            "tags": []
          },
          "execution_count": 6
        }
      ]
    },
    {
      "cell_type": "code",
      "metadata": {
        "id": "p1JphsSu4y14"
      },
      "source": [
        "data = data.drop(['address','Unnamed: 0'],axis = 1)"
      ],
      "execution_count": 7,
      "outputs": []
    },
    {
      "cell_type": "code",
      "metadata": {
        "id": "A7pbojhj47lZ",
        "outputId": "5e9ada81-5150-4728-efaa-be593818a548",
        "colab": {
          "base_uri": "https://localhost:8080/",
          "height": 402
        }
      },
      "source": [
        "data"
      ],
      "execution_count": null,
      "outputs": [
        {
          "output_type": "execute_result",
          "data": {
            "text/html": [
              "<div>\n",
              "<style scoped>\n",
              "    .dataframe tbody tr th:only-of-type {\n",
              "        vertical-align: middle;\n",
              "    }\n",
              "\n",
              "    .dataframe tbody tr th {\n",
              "        vertical-align: top;\n",
              "    }\n",
              "\n",
              "    .dataframe thead th {\n",
              "        text-align: right;\n",
              "    }\n",
              "</style>\n",
              "<table border=\"1\" class=\"dataframe\">\n",
              "  <thead>\n",
              "    <tr style=\"text-align: right;\">\n",
              "      <th></th>\n",
              "      <th>year</th>\n",
              "      <th>day</th>\n",
              "      <th>length</th>\n",
              "      <th>weight</th>\n",
              "      <th>count</th>\n",
              "      <th>looped</th>\n",
              "      <th>neighbors</th>\n",
              "      <th>income</th>\n",
              "      <th>label</th>\n",
              "    </tr>\n",
              "  </thead>\n",
              "  <tbody>\n",
              "    <tr>\n",
              "      <th>0</th>\n",
              "      <td>2017</td>\n",
              "      <td>11</td>\n",
              "      <td>18</td>\n",
              "      <td>0.008333</td>\n",
              "      <td>1</td>\n",
              "      <td>0</td>\n",
              "      <td>2</td>\n",
              "      <td>1.000500e+08</td>\n",
              "      <td>princetonCerber</td>\n",
              "    </tr>\n",
              "    <tr>\n",
              "      <th>1</th>\n",
              "      <td>2016</td>\n",
              "      <td>132</td>\n",
              "      <td>44</td>\n",
              "      <td>0.000244</td>\n",
              "      <td>1</td>\n",
              "      <td>0</td>\n",
              "      <td>1</td>\n",
              "      <td>1.000000e+08</td>\n",
              "      <td>princetonLocky</td>\n",
              "    </tr>\n",
              "    <tr>\n",
              "      <th>2</th>\n",
              "      <td>2016</td>\n",
              "      <td>246</td>\n",
              "      <td>0</td>\n",
              "      <td>1.000000</td>\n",
              "      <td>1</td>\n",
              "      <td>0</td>\n",
              "      <td>2</td>\n",
              "      <td>2.000000e+08</td>\n",
              "      <td>princetonCerber</td>\n",
              "    </tr>\n",
              "    <tr>\n",
              "      <th>3</th>\n",
              "      <td>2016</td>\n",
              "      <td>322</td>\n",
              "      <td>72</td>\n",
              "      <td>0.003906</td>\n",
              "      <td>1</td>\n",
              "      <td>0</td>\n",
              "      <td>2</td>\n",
              "      <td>7.120000e+07</td>\n",
              "      <td>princetonCerber</td>\n",
              "    </tr>\n",
              "    <tr>\n",
              "      <th>4</th>\n",
              "      <td>2016</td>\n",
              "      <td>238</td>\n",
              "      <td>144</td>\n",
              "      <td>0.072848</td>\n",
              "      <td>456</td>\n",
              "      <td>0</td>\n",
              "      <td>1</td>\n",
              "      <td>2.000000e+08</td>\n",
              "      <td>princetonLocky</td>\n",
              "    </tr>\n",
              "    <tr>\n",
              "      <th>...</th>\n",
              "      <td>...</td>\n",
              "      <td>...</td>\n",
              "      <td>...</td>\n",
              "      <td>...</td>\n",
              "      <td>...</td>\n",
              "      <td>...</td>\n",
              "      <td>...</td>\n",
              "      <td>...</td>\n",
              "      <td>...</td>\n",
              "    </tr>\n",
              "    <tr>\n",
              "      <th>315195</th>\n",
              "      <td>2018</td>\n",
              "      <td>330</td>\n",
              "      <td>0</td>\n",
              "      <td>0.111111</td>\n",
              "      <td>1</td>\n",
              "      <td>0</td>\n",
              "      <td>2</td>\n",
              "      <td>2.503180e+09</td>\n",
              "      <td>28</td>\n",
              "    </tr>\n",
              "    <tr>\n",
              "      <th>315196</th>\n",
              "      <td>2018</td>\n",
              "      <td>330</td>\n",
              "      <td>0</td>\n",
              "      <td>0.500000</td>\n",
              "      <td>1</td>\n",
              "      <td>0</td>\n",
              "      <td>2</td>\n",
              "      <td>1.000000e+09</td>\n",
              "      <td>28</td>\n",
              "    </tr>\n",
              "    <tr>\n",
              "      <th>315197</th>\n",
              "      <td>2018</td>\n",
              "      <td>330</td>\n",
              "      <td>6</td>\n",
              "      <td>0.020092</td>\n",
              "      <td>2</td>\n",
              "      <td>0</td>\n",
              "      <td>1</td>\n",
              "      <td>3.000000e+08</td>\n",
              "      <td>28</td>\n",
              "    </tr>\n",
              "    <tr>\n",
              "      <th>315198</th>\n",
              "      <td>2018</td>\n",
              "      <td>330</td>\n",
              "      <td>0</td>\n",
              "      <td>0.333333</td>\n",
              "      <td>1</td>\n",
              "      <td>0</td>\n",
              "      <td>2</td>\n",
              "      <td>1.372746e+09</td>\n",
              "      <td>28</td>\n",
              "    </tr>\n",
              "    <tr>\n",
              "      <th>315199</th>\n",
              "      <td>2018</td>\n",
              "      <td>330</td>\n",
              "      <td>6</td>\n",
              "      <td>1.000000</td>\n",
              "      <td>1</td>\n",
              "      <td>0</td>\n",
              "      <td>2</td>\n",
              "      <td>2.397816e+09</td>\n",
              "      <td>28</td>\n",
              "    </tr>\n",
              "  </tbody>\n",
              "</table>\n",
              "<p>315200 rows × 9 columns</p>\n",
              "</div>"
            ],
            "text/plain": [
              "        year  day  length  ...  neighbors        income            label\n",
              "0       2017   11      18  ...          2  1.000500e+08  princetonCerber\n",
              "1       2016  132      44  ...          1  1.000000e+08   princetonLocky\n",
              "2       2016  246       0  ...          2  2.000000e+08  princetonCerber\n",
              "3       2016  322      72  ...          2  7.120000e+07  princetonCerber\n",
              "4       2016  238     144  ...          1  2.000000e+08   princetonLocky\n",
              "...      ...  ...     ...  ...        ...           ...              ...\n",
              "315195  2018  330       0  ...          2  2.503180e+09               28\n",
              "315196  2018  330       0  ...          2  1.000000e+09               28\n",
              "315197  2018  330       6  ...          1  3.000000e+08               28\n",
              "315198  2018  330       0  ...          2  1.372746e+09               28\n",
              "315199  2018  330       6  ...          2  2.397816e+09               28\n",
              "\n",
              "[315200 rows x 9 columns]"
            ]
          },
          "metadata": {
            "tags": []
          },
          "execution_count": 7
        }
      ]
    },
    {
      "cell_type": "code",
      "metadata": {
        "id": "yOWe_ATi5YSN",
        "outputId": "4aaebad7-bbe9-4eb7-b6e5-3f35898658b8",
        "colab": {
          "base_uri": "https://localhost:8080/"
        }
      },
      "source": [
        "data['label']"
      ],
      "execution_count": 3,
      "outputs": [
        {
          "output_type": "execute_result",
          "data": {
            "text/plain": [
              "0         princetonCerber\n",
              "1          princetonLocky\n",
              "2         princetonCerber\n",
              "3         princetonCerber\n",
              "4          princetonLocky\n",
              "               ...       \n",
              "315195                 28\n",
              "315196                 28\n",
              "315197                 28\n",
              "315198                 28\n",
              "315199                 28\n",
              "Name: label, Length: 315200, dtype: object"
            ]
          },
          "metadata": {
            "tags": []
          },
          "execution_count": 3
        }
      ]
    },
    {
      "cell_type": "code",
      "metadata": {
        "id": "Ha2IoJ3N6P_A"
      },
      "source": [
        "data[\"label\"]= data[\"label\"].replace(28, \"white\") \n"
      ],
      "execution_count": 8,
      "outputs": []
    },
    {
      "cell_type": "code",
      "metadata": {
        "id": "_HQgPZ5RJsx9"
      },
      "source": [
        "data[\"label\"]= data[\"label\"].replace('28', \"white\") "
      ],
      "execution_count": 9,
      "outputs": []
    },
    {
      "cell_type": "code",
      "metadata": {
        "id": "rqH9gtcq6aOs",
        "outputId": "75faa8e3-fc4c-421f-bb7c-14b9fd4ff8ef",
        "colab": {
          "base_uri": "https://localhost:8080/"
        }
      },
      "source": [
        "data.label.unique()"
      ],
      "execution_count": null,
      "outputs": [
        {
          "output_type": "execute_result",
          "data": {
            "text/plain": [
              "array(['princetonCerber', 'princetonLocky', 'montrealCryptoLocker',\n",
              "       'montrealCryptXXX', 'paduaCryptoWall', 'montrealWannaCry',\n",
              "       'montrealDMALockerv3', 'montrealCryptoTorLocker2015',\n",
              "       'montrealSamSam', 'montrealFlyper', 'montrealNoobCrypt',\n",
              "       'montrealDMALocker', 'montrealGlobe', 'montrealEDA2',\n",
              "       'paduaKeRanger', 'montrealVenusLocker', 'montrealXTPLocker',\n",
              "       'paduaJigsaw', 'montrealGlobev3', 'montrealJigSaw',\n",
              "       'montrealXLockerv5.0', 'montrealXLocker', 'montrealRazy',\n",
              "       'montrealCryptConsole', 'montrealGlobeImposter', 'montrealSam',\n",
              "       'montrealComradeCircle', 'montrealAPT', 'white'], dtype=object)"
            ]
          },
          "metadata": {
            "tags": []
          },
          "execution_count": 8
        }
      ]
    },
    {
      "cell_type": "code",
      "metadata": {
        "id": "3d9VcvQp9F7v",
        "outputId": "c825aa98-f85c-4608-de6a-9f5297226108",
        "colab": {
          "base_uri": "https://localhost:8080/",
          "height": 402
        }
      },
      "source": [
        "data"
      ],
      "execution_count": null,
      "outputs": [
        {
          "output_type": "execute_result",
          "data": {
            "text/html": [
              "<div>\n",
              "<style scoped>\n",
              "    .dataframe tbody tr th:only-of-type {\n",
              "        vertical-align: middle;\n",
              "    }\n",
              "\n",
              "    .dataframe tbody tr th {\n",
              "        vertical-align: top;\n",
              "    }\n",
              "\n",
              "    .dataframe thead th {\n",
              "        text-align: right;\n",
              "    }\n",
              "</style>\n",
              "<table border=\"1\" class=\"dataframe\">\n",
              "  <thead>\n",
              "    <tr style=\"text-align: right;\">\n",
              "      <th></th>\n",
              "      <th>year</th>\n",
              "      <th>day</th>\n",
              "      <th>length</th>\n",
              "      <th>weight</th>\n",
              "      <th>count</th>\n",
              "      <th>looped</th>\n",
              "      <th>neighbors</th>\n",
              "      <th>income</th>\n",
              "      <th>label</th>\n",
              "    </tr>\n",
              "  </thead>\n",
              "  <tbody>\n",
              "    <tr>\n",
              "      <th>0</th>\n",
              "      <td>2017</td>\n",
              "      <td>11</td>\n",
              "      <td>18</td>\n",
              "      <td>0.008333</td>\n",
              "      <td>1</td>\n",
              "      <td>0</td>\n",
              "      <td>2</td>\n",
              "      <td>1.000500e+08</td>\n",
              "      <td>princetonCerber</td>\n",
              "    </tr>\n",
              "    <tr>\n",
              "      <th>1</th>\n",
              "      <td>2016</td>\n",
              "      <td>132</td>\n",
              "      <td>44</td>\n",
              "      <td>0.000244</td>\n",
              "      <td>1</td>\n",
              "      <td>0</td>\n",
              "      <td>1</td>\n",
              "      <td>1.000000e+08</td>\n",
              "      <td>princetonLocky</td>\n",
              "    </tr>\n",
              "    <tr>\n",
              "      <th>2</th>\n",
              "      <td>2016</td>\n",
              "      <td>246</td>\n",
              "      <td>0</td>\n",
              "      <td>1.000000</td>\n",
              "      <td>1</td>\n",
              "      <td>0</td>\n",
              "      <td>2</td>\n",
              "      <td>2.000000e+08</td>\n",
              "      <td>princetonCerber</td>\n",
              "    </tr>\n",
              "    <tr>\n",
              "      <th>3</th>\n",
              "      <td>2016</td>\n",
              "      <td>322</td>\n",
              "      <td>72</td>\n",
              "      <td>0.003906</td>\n",
              "      <td>1</td>\n",
              "      <td>0</td>\n",
              "      <td>2</td>\n",
              "      <td>7.120000e+07</td>\n",
              "      <td>princetonCerber</td>\n",
              "    </tr>\n",
              "    <tr>\n",
              "      <th>4</th>\n",
              "      <td>2016</td>\n",
              "      <td>238</td>\n",
              "      <td>144</td>\n",
              "      <td>0.072848</td>\n",
              "      <td>456</td>\n",
              "      <td>0</td>\n",
              "      <td>1</td>\n",
              "      <td>2.000000e+08</td>\n",
              "      <td>princetonLocky</td>\n",
              "    </tr>\n",
              "    <tr>\n",
              "      <th>...</th>\n",
              "      <td>...</td>\n",
              "      <td>...</td>\n",
              "      <td>...</td>\n",
              "      <td>...</td>\n",
              "      <td>...</td>\n",
              "      <td>...</td>\n",
              "      <td>...</td>\n",
              "      <td>...</td>\n",
              "      <td>...</td>\n",
              "    </tr>\n",
              "    <tr>\n",
              "      <th>315195</th>\n",
              "      <td>2018</td>\n",
              "      <td>330</td>\n",
              "      <td>0</td>\n",
              "      <td>0.111111</td>\n",
              "      <td>1</td>\n",
              "      <td>0</td>\n",
              "      <td>2</td>\n",
              "      <td>2.503180e+09</td>\n",
              "      <td>white</td>\n",
              "    </tr>\n",
              "    <tr>\n",
              "      <th>315196</th>\n",
              "      <td>2018</td>\n",
              "      <td>330</td>\n",
              "      <td>0</td>\n",
              "      <td>0.500000</td>\n",
              "      <td>1</td>\n",
              "      <td>0</td>\n",
              "      <td>2</td>\n",
              "      <td>1.000000e+09</td>\n",
              "      <td>white</td>\n",
              "    </tr>\n",
              "    <tr>\n",
              "      <th>315197</th>\n",
              "      <td>2018</td>\n",
              "      <td>330</td>\n",
              "      <td>6</td>\n",
              "      <td>0.020092</td>\n",
              "      <td>2</td>\n",
              "      <td>0</td>\n",
              "      <td>1</td>\n",
              "      <td>3.000000e+08</td>\n",
              "      <td>white</td>\n",
              "    </tr>\n",
              "    <tr>\n",
              "      <th>315198</th>\n",
              "      <td>2018</td>\n",
              "      <td>330</td>\n",
              "      <td>0</td>\n",
              "      <td>0.333333</td>\n",
              "      <td>1</td>\n",
              "      <td>0</td>\n",
              "      <td>2</td>\n",
              "      <td>1.372746e+09</td>\n",
              "      <td>white</td>\n",
              "    </tr>\n",
              "    <tr>\n",
              "      <th>315199</th>\n",
              "      <td>2018</td>\n",
              "      <td>330</td>\n",
              "      <td>6</td>\n",
              "      <td>1.000000</td>\n",
              "      <td>1</td>\n",
              "      <td>0</td>\n",
              "      <td>2</td>\n",
              "      <td>2.397816e+09</td>\n",
              "      <td>white</td>\n",
              "    </tr>\n",
              "  </tbody>\n",
              "</table>\n",
              "<p>315200 rows × 9 columns</p>\n",
              "</div>"
            ],
            "text/plain": [
              "        year  day  length  ...  neighbors        income            label\n",
              "0       2017   11      18  ...          2  1.000500e+08  princetonCerber\n",
              "1       2016  132      44  ...          1  1.000000e+08   princetonLocky\n",
              "2       2016  246       0  ...          2  2.000000e+08  princetonCerber\n",
              "3       2016  322      72  ...          2  7.120000e+07  princetonCerber\n",
              "4       2016  238     144  ...          1  2.000000e+08   princetonLocky\n",
              "...      ...  ...     ...  ...        ...           ...              ...\n",
              "315195  2018  330       0  ...          2  2.503180e+09            white\n",
              "315196  2018  330       0  ...          2  1.000000e+09            white\n",
              "315197  2018  330       6  ...          1  3.000000e+08            white\n",
              "315198  2018  330       0  ...          2  1.372746e+09            white\n",
              "315199  2018  330       6  ...          2  2.397816e+09            white\n",
              "\n",
              "[315200 rows x 9 columns]"
            ]
          },
          "metadata": {
            "tags": []
          },
          "execution_count": 13
        }
      ]
    },
    {
      "cell_type": "code",
      "metadata": {
        "id": "yc-u_H8U9Jcv",
        "outputId": "6fcdac66-d6d1-4bf9-d7d8-0970b3345d94",
        "colab": {
          "base_uri": "https://localhost:8080/"
        }
      },
      "source": [
        "data.label.value_counts()"
      ],
      "execution_count": null,
      "outputs": [
        {
          "output_type": "execute_result",
          "data": {
            "text/plain": [
              "white                          232374\n",
              "paduaCryptoWall                 24780\n",
              "montrealCryptoLocker            18630\n",
              "princetonCerber                 18446\n",
              "princetonLocky                  13250\n",
              "montrealCryptXXX                 4838\n",
              "montrealNoobCrypt                 966\n",
              "montrealDMALockerv3               708\n",
              "montrealDMALocker                 502\n",
              "montrealSamSam                    124\n",
              "montrealGlobeImposter             110\n",
              "montrealCryptoTorLocker2015       110\n",
              "montrealGlobev3                    68\n",
              "montrealGlobe                      64\n",
              "montrealWannaCry                   56\n",
              "montrealRazy                       26\n",
              "montrealAPT                        22\n",
              "paduaKeRanger                      20\n",
              "montrealFlyper                     18\n",
              "montrealXTPLocker                  16\n",
              "montrealXLockerv5.0                14\n",
              "montrealVenusLocker                14\n",
              "montrealCryptConsole               14\n",
              "montrealEDA2                       12\n",
              "montrealJigSaw                      8\n",
              "paduaJigsaw                         4\n",
              "montrealComradeCircle               2\n",
              "montrealSam                         2\n",
              "montrealXLocker                     2\n",
              "Name: label, dtype: int64"
            ]
          },
          "metadata": {
            "tags": []
          },
          "execution_count": 9
        }
      ]
    },
    {
      "cell_type": "code",
      "metadata": {
        "id": "0-cryWPC5Hrh",
        "outputId": "5bf52b7e-7319-4e56-9557-bb78397d18d8",
        "colab": {
          "base_uri": "https://localhost:8080/"
        }
      },
      "source": [
        "from sklearn.preprocessing import LabelEncoder\n",
        "le = LabelEncoder()\n",
        "data['label'] = le.fit_transform(data['label'])\n",
        "data['label'].unique()"
      ],
      "execution_count": 10,
      "outputs": [
        {
          "output_type": "execute_result",
          "data": {
            "text/plain": [
              "array([26, 27,  4,  3, 23, 19,  7,  5, 17,  9, 14,  6, 10,  8, 25, 18, 22,\n",
              "       24, 12, 13, 21, 20, 15,  2, 11, 16,  1,  0, 28])"
            ]
          },
          "metadata": {
            "tags": []
          },
          "execution_count": 10
        }
      ]
    },
    {
      "cell_type": "code",
      "metadata": {
        "id": "875Ay7Y-6vOx",
        "outputId": "ac78c2e6-7cf8-442d-d0dd-60841d040d52",
        "colab": {
          "base_uri": "https://localhost:8080/"
        }
      },
      "source": [
        "le.classes_"
      ],
      "execution_count": 11,
      "outputs": [
        {
          "output_type": "execute_result",
          "data": {
            "text/plain": [
              "array(['montrealAPT', 'montrealComradeCircle', 'montrealCryptConsole',\n",
              "       'montrealCryptXXX', 'montrealCryptoLocker',\n",
              "       'montrealCryptoTorLocker2015', 'montrealDMALocker',\n",
              "       'montrealDMALockerv3', 'montrealEDA2', 'montrealFlyper',\n",
              "       'montrealGlobe', 'montrealGlobeImposter', 'montrealGlobev3',\n",
              "       'montrealJigSaw', 'montrealNoobCrypt', 'montrealRazy',\n",
              "       'montrealSam', 'montrealSamSam', 'montrealVenusLocker',\n",
              "       'montrealWannaCry', 'montrealXLocker', 'montrealXLockerv5.0',\n",
              "       'montrealXTPLocker', 'paduaCryptoWall', 'paduaJigsaw',\n",
              "       'paduaKeRanger', 'princetonCerber', 'princetonLocky', 'white'],\n",
              "      dtype=object)"
            ]
          },
          "metadata": {
            "tags": []
          },
          "execution_count": 11
        }
      ]
    },
    {
      "cell_type": "code",
      "metadata": {
        "id": "K7_N9Nxh-Iga"
      },
      "source": [
        "X = data.loc[:, data.columns != 'label']\n",
        "y = data['label']"
      ],
      "execution_count": 11,
      "outputs": []
    },
    {
      "cell_type": "code",
      "metadata": {
        "id": "HCkpJAHH-0Ob",
        "outputId": "11e948a3-ee2b-49f3-9e84-4ca9d036f786",
        "colab": {
          "base_uri": "https://localhost:8080/"
        }
      },
      "source": [
        "print(X)"
      ],
      "execution_count": null,
      "outputs": [
        {
          "output_type": "stream",
          "text": [
            "        year  day  length    weight  count  looped  neighbors        income\n",
            "0       2017   11      18  0.008333      1       0          2  1.000500e+08\n",
            "1       2016  132      44  0.000244      1       0          1  1.000000e+08\n",
            "2       2016  246       0  1.000000      1       0          2  2.000000e+08\n",
            "3       2016  322      72  0.003906      1       0          2  7.120000e+07\n",
            "4       2016  238     144  0.072848    456       0          1  2.000000e+08\n",
            "...      ...  ...     ...       ...    ...     ...        ...           ...\n",
            "315195  2018  330       0  0.111111      1       0          2  2.503180e+09\n",
            "315196  2018  330       0  0.500000      1       0          2  1.000000e+09\n",
            "315197  2018  330       6  0.020092      2       0          1  3.000000e+08\n",
            "315198  2018  330       0  0.333333      1       0          2  1.372746e+09\n",
            "315199  2018  330       6  1.000000      1       0          2  2.397816e+09\n",
            "\n",
            "[315200 rows x 8 columns]\n"
          ],
          "name": "stdout"
        }
      ]
    },
    {
      "cell_type": "code",
      "metadata": {
        "id": "Qthroz8_-5DK",
        "outputId": "a6550b7e-591f-40e5-ba06-ecf4c0d8f13a",
        "colab": {
          "base_uri": "https://localhost:8080/"
        }
      },
      "source": [
        "print(y)"
      ],
      "execution_count": null,
      "outputs": [
        {
          "output_type": "stream",
          "text": [
            "0         26\n",
            "1         27\n",
            "2         26\n",
            "3         26\n",
            "4         27\n",
            "          ..\n",
            "315195    28\n",
            "315196    28\n",
            "315197    28\n",
            "315198    28\n",
            "315199    28\n",
            "Name: label, Length: 315200, dtype: int64\n"
          ],
          "name": "stdout"
        }
      ]
    },
    {
      "cell_type": "code",
      "metadata": {
        "id": "j3TKd_v59b8L"
      },
      "source": [
        "from sklearn.preprocessing import StandardScaler\n",
        "sc = StandardScaler()\n",
        "X = sc.fit_transform(X)\n"
      ],
      "execution_count": 12,
      "outputs": []
    },
    {
      "cell_type": "code",
      "metadata": {
        "id": "NDh_aNXW_KV4",
        "outputId": "610033db-3730-4ec0-eaed-b09694e4c900",
        "colab": {
          "base_uri": "https://localhost:8080/"
        }
      },
      "source": [
        "print(X)"
      ],
      "execution_count": null,
      "outputs": [
        {
          "output_type": "stream",
          "text": [
            "[[ 1.16855767 -1.65291969 -0.44401279 ... -0.23098257 -0.01326959\n",
            "  -0.02212009]\n",
            " [ 0.68743984 -0.46555324 -0.00258537 ... -0.23098257 -0.12666455\n",
            "  -0.02212043]\n",
            " [ 0.68743984  0.65312259 -0.74961638 ... -0.23098257 -0.01326959\n",
            "  -0.02144322]\n",
            " ...\n",
            " [ 1.6496755   1.47741004 -0.64774852 ... -0.23098257 -0.12666455\n",
            "  -0.02076601]\n",
            " [ 1.6496755   1.47741004 -0.74961638 ... -0.23098257 -0.01326959\n",
            "  -0.01350126]\n",
            " [ 1.6496755   1.47741004 -0.64774852 ... -0.23098257 -0.01326959\n",
            "  -0.00655938]]\n"
          ],
          "name": "stdout"
        }
      ]
    },
    {
      "cell_type": "code",
      "metadata": {
        "id": "pzXebw--_imK"
      },
      "source": [
        "from sklearn.model_selection import train_test_split\n",
        "X_train, X_test, y_train, y_test = train_test_split(X, y , test_size = 0.2, random_state = 1,stratify = y)\n"
      ],
      "execution_count": 13,
      "outputs": []
    },
    {
      "cell_type": "code",
      "metadata": {
        "id": "qJwWPkUX_wXB",
        "outputId": "78af3c1a-cf3a-4caf-e8ea-dc9c5f14c629",
        "colab": {
          "base_uri": "https://localhost:8080/"
        }
      },
      "source": [
        "print(len(X_train))\n",
        "print(len(X_test))\n",
        "print(len(y_train))\n",
        "print(len(y_test))"
      ],
      "execution_count": 21,
      "outputs": [
        {
          "output_type": "stream",
          "text": [
            "252160\n",
            "63040\n",
            "252160\n",
            "63040\n"
          ],
          "name": "stdout"
        }
      ]
    },
    {
      "cell_type": "code",
      "metadata": {
        "id": "sdY1VF1lvynL"
      },
      "source": [
        "from sklearn.ensemble import ExtraTreesClassifier\n",
        "\n",
        "model = ExtraTreesClassifier(max_features='log2',min_samples_split=3)\n",
        "model.fit(X_train, y_train)"
      ],
      "execution_count": null,
      "outputs": []
    },
    {
      "cell_type": "code",
      "metadata": {
        "id": "RlEkzz8hvy5r"
      },
      "source": [
        "# make predictions\n",
        "predictions = model.predict(X_test)\n",
        "\n",
        "from sklearn.metrics import mean_absolute_error\n",
        "print(\"Mean Absolute Error : \" + str(mean_absolute_error(predictions, y_test)))"
      ],
      "execution_count": null,
      "outputs": []
    },
    {
      "cell_type": "code",
      "metadata": {
        "id": "h_RC3jUVBfwb"
      },
      "source": [
        "from sklearn.metrics import accuracy_score\n",
        "acc = accuracy_score(y_test, predictions)\n",
        "print(acc)"
      ],
      "execution_count": null,
      "outputs": []
    },
    {
      "cell_type": "code",
      "metadata": {
        "id": "2rt9c7usErZn",
        "outputId": "59f9e830-d7d2-4154-942b-1564dea2b71b",
        "colab": {
          "base_uri": "https://localhost:8080/"
        }
      },
      "source": [
        "from sklearn.model_selection import GridSearchCV,StratifiedKFold\n",
        "from sklearn.ensemble import ExtraTreesClassifier\n",
        "\n",
        "model = ExtraTreesClassifier()\n",
        "\n",
        "parameters = {'bootstrap':[True,False], # false shows best accuracy\n",
        "              'ccp_alpha':[0.0], #default value\n",
        "              'class_weight':[None], #default value\n",
        "             'max_depth':[None],      #default value        \n",
        "             'max_features':['log2','auto'], #log2 91.77\n",
        "              'max_leaf_nodes':[None], #default value\n",
        "              'max_samples':[None], #default value\n",
        "              'min_impurity_decrease':[0.0], #default value\n",
        "              'min_samples_split':[1,2,3,4],  #2->4->3\n",
        "              'min_weight_fraction_leaf':[0.0,0.2,0.5] #default value\n",
        "              'random_state':[0,42] #default value (only set if bootstrap true)\n",
        "              'max_samples':[0.1,0.7,0.5,2,3,4] #default value (only set if bootstrap true)\n",
        "              }\n",
        "              \n",
        "\n",
        "\n",
        "clf = GridSearchCV(model, parameters,\n",
        "                   cv=StratifiedKFold(n_splits=4), \n",
        "                   scoring='accuracy',\n",
        "                   verbose=2, refit=True)\n",
        "\n",
        "clf.fit(X_train,y_train)"
      ],
      "execution_count": 20,
      "outputs": [
        {
          "output_type": "stream",
          "text": [
            "Fitting 4 folds for each of 2 candidates, totalling 8 fits\n",
            "[CV] bootstrap=True, max_features=log2, max_samples=0.9, min_samples_split=3, random_state=0 \n"
          ],
          "name": "stdout"
        },
        {
          "output_type": "stream",
          "text": [
            "/usr/local/lib/python3.6/dist-packages/sklearn/model_selection/_split.py:667: UserWarning: The least populated class in y has only 2 members, which is less than n_splits=4.\n",
            "  % (min_groups, self.n_splits)), UserWarning)\n",
            "[Parallel(n_jobs=1)]: Using backend SequentialBackend with 1 concurrent workers.\n"
          ],
          "name": "stderr"
        },
        {
          "output_type": "stream",
          "text": [
            "[CV]  bootstrap=True, max_features=log2, max_samples=0.9, min_samples_split=3, random_state=0, total=  20.2s\n",
            "[CV] bootstrap=True, max_features=log2, max_samples=0.9, min_samples_split=3, random_state=0 \n"
          ],
          "name": "stdout"
        },
        {
          "output_type": "stream",
          "text": [
            "[Parallel(n_jobs=1)]: Done   1 out of   1 | elapsed:   20.2s remaining:    0.0s\n"
          ],
          "name": "stderr"
        },
        {
          "output_type": "stream",
          "text": [
            "[CV]  bootstrap=True, max_features=log2, max_samples=0.9, min_samples_split=3, random_state=0, total=  17.5s\n",
            "[CV] bootstrap=True, max_features=log2, max_samples=0.9, min_samples_split=3, random_state=0 \n",
            "[CV]  bootstrap=True, max_features=log2, max_samples=0.9, min_samples_split=3, random_state=0, total=  17.8s\n",
            "[CV] bootstrap=True, max_features=log2, max_samples=0.9, min_samples_split=3, random_state=0 \n",
            "[CV]  bootstrap=True, max_features=log2, max_samples=0.9, min_samples_split=3, random_state=0, total=  17.5s\n",
            "[CV] bootstrap=False, max_features=log2, min_samples_split=3 .........\n",
            "[CV]  bootstrap=False, max_features=log2, min_samples_split=3, total=  24.9s\n",
            "[CV] bootstrap=False, max_features=log2, min_samples_split=3 .........\n",
            "[CV]  bootstrap=False, max_features=log2, min_samples_split=3, total=  23.9s\n",
            "[CV] bootstrap=False, max_features=log2, min_samples_split=3 .........\n",
            "[CV]  bootstrap=False, max_features=log2, min_samples_split=3, total=  23.9s\n",
            "[CV] bootstrap=False, max_features=log2, min_samples_split=3 .........\n",
            "[CV]  bootstrap=False, max_features=log2, min_samples_split=3, total=  24.0s\n"
          ],
          "name": "stdout"
        },
        {
          "output_type": "stream",
          "text": [
            "[Parallel(n_jobs=1)]: Done   8 out of   8 | elapsed:  2.9min finished\n"
          ],
          "name": "stderr"
        },
        {
          "output_type": "execute_result",
          "data": {
            "text/plain": [
              "GridSearchCV(cv=StratifiedKFold(n_splits=4, random_state=None, shuffle=False),\n",
              "             error_score=nan,\n",
              "             estimator=ExtraTreesClassifier(bootstrap=False, ccp_alpha=0.0,\n",
              "                                            class_weight=None, criterion='gini',\n",
              "                                            max_depth=None, max_features='auto',\n",
              "                                            max_leaf_nodes=None,\n",
              "                                            max_samples=None,\n",
              "                                            min_impurity_decrease=0.0,\n",
              "                                            min_impurity_split=None,\n",
              "                                            min_samples_leaf=1,\n",
              "                                            min_samples_split=2,\n",
              "                                            m...\n",
              "                                            oob_score=False, random_state=None,\n",
              "                                            verbose=0, warm_start=False),\n",
              "             iid='deprecated', n_jobs=None,\n",
              "             param_grid=[{'bootstrap': [True], 'max_features': ['log2'],\n",
              "                          'max_samples': [0.9], 'min_samples_split': [3],\n",
              "                          'random_state': [0]},\n",
              "                         {'bootstrap': [False], 'max_features': ['log2'],\n",
              "                          'min_samples_split': [3]}],\n",
              "             pre_dispatch='2*n_jobs', refit=True, return_train_score=False,\n",
              "             scoring='accuracy', verbose=2)"
            ]
          },
          "metadata": {
            "tags": []
          },
          "execution_count": 20
        }
      ]
    },
    {
      "cell_type": "code",
      "metadata": {
        "id": "apjaE7U1K21T",
        "outputId": "b62439cb-50e5-4e4c-9bae-f7cf992bc5c9",
        "colab": {
          "base_uri": "https://localhost:8080/"
        }
      },
      "source": [
        "print(clf.best_score_)\n",
        "print(clf.best_params_)"
      ],
      "execution_count": 21,
      "outputs": [
        {
          "output_type": "stream",
          "text": [
            "0.9253291560913706\n",
            "{'bootstrap': False, 'max_features': 'log2', 'min_samples_split': 3}\n"
          ],
          "name": "stdout"
        }
      ]
    },
    {
      "cell_type": "code",
      "metadata": {
        "id": "h7JXRmlTLFiw"
      },
      "source": [
        ""
      ],
      "execution_count": null,
      "outputs": []
    },
    {
      "cell_type": "markdown",
      "metadata": {
        "id": "WmNO8rQbe2gc"
      },
      "source": [
        "max depth: 1\n",
        "max leaf nodes :10/4/2\n",
        "n_estimators:50/10/1"
      ]
    }
  ]
}