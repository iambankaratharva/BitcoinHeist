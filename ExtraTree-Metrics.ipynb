{
  "nbformat": 4,
  "nbformat_minor": 0,
  "metadata": {
    "colab": {
      "name": "ExtraTree-Metrics.ipynb",
      "provenance": [],
      "collapsed_sections": []
    },
    "kernelspec": {
      "display_name": "Python 3",
      "name": "python3"
    }
  },
  "cells": [
    {
      "cell_type": "code",
      "metadata": {
        "id": "ih46oKzvvu1h",
        "colab": {
          "base_uri": "https://localhost:8080/"
        },
        "outputId": "e1bdb59a-492d-4cdb-a4cf-1223880f3f3b"
      },
      "source": [
        "# Mount the drive \n",
        "from google.colab import drive\n",
        "drive.mount('/content/drive')"
      ],
      "execution_count": null,
      "outputs": [
        {
          "output_type": "stream",
          "text": [
            "Drive already mounted at /content/drive; to attempt to forcibly remount, call drive.mount(\"/content/drive\", force_remount=True).\n"
          ],
          "name": "stdout"
        }
      ]
    },
    {
      "cell_type": "code",
      "metadata": {
        "id": "zKUyzoPiwXH3",
        "colab": {
          "base_uri": "https://localhost:8080/"
        },
        "outputId": "d81dc91d-865f-4719-a1fb-7d0a7392dee7"
      },
      "source": [
        "import pandas as pd\n",
        "from sklearn.model_selection import train_test_split\n",
        "data = pd.read_csv('/content/drive/MyDrive/Bitcoin Heist/final_data.csv')   #Change Path to your Drive Directory accordingly.\n",
        "data = data.drop(['address','Unnamed: 0'],axis = 1)\n",
        "data[\"label\"]= data[\"label\"].replace(28, \"white\") \n",
        "data[\"label\"]= data[\"label\"].replace('28', \"white\") \n",
        "classes = data.label.unique()"
      ],
      "execution_count": null,
      "outputs": [
        {
          "output_type": "stream",
          "text": [
            "/usr/local/lib/python3.6/dist-packages/IPython/core/interactiveshell.py:2718: DtypeWarning: Columns (10) have mixed types.Specify dtype option on import or set low_memory=False.\n",
            "  interactivity=interactivity, compiler=compiler, result=result)\n"
          ],
          "name": "stderr"
        }
      ]
    },
    {
      "cell_type": "code",
      "metadata": {
        "id": "qAOTJl0Z4mnv",
        "colab": {
          "base_uri": "https://localhost:8080/"
        },
        "outputId": "842c4a6b-338b-4cce-9868-487dcd73fbcc"
      },
      "source": [
        "print(data)"
      ],
      "execution_count": null,
      "outputs": [
        {
          "output_type": "stream",
          "text": [
            "        year  day  length  ...  neighbors        income            label\n",
            "0       2017   11      18  ...          2  1.000500e+08  princetonCerber\n",
            "1       2016  132      44  ...          1  1.000000e+08   princetonLocky\n",
            "2       2016  246       0  ...          2  2.000000e+08  princetonCerber\n",
            "3       2016  322      72  ...          2  7.120000e+07  princetonCerber\n",
            "4       2016  238     144  ...          1  2.000000e+08   princetonLocky\n",
            "...      ...  ...     ...  ...        ...           ...              ...\n",
            "315195  2018  330       0  ...          2  2.503180e+09            white\n",
            "315196  2018  330       0  ...          2  1.000000e+09            white\n",
            "315197  2018  330       6  ...          1  3.000000e+08            white\n",
            "315198  2018  330       0  ...          2  1.372746e+09            white\n",
            "315199  2018  330       6  ...          2  2.397816e+09            white\n",
            "\n",
            "[315200 rows x 9 columns]\n"
          ],
          "name": "stdout"
        }
      ]
    },
    {
      "cell_type": "code",
      "metadata": {
        "id": "yOWe_ATi5YSN",
        "colab": {
          "base_uri": "https://localhost:8080/"
        },
        "outputId": "80ca7a80-f344-4547-f406-4c3f7406d2a7"
      },
      "source": [
        "print('Value Counts:\\n',data['label'].value_counts())\n",
        "print('Total labels: ',len(data['label'].unique()))"
      ],
      "execution_count": null,
      "outputs": [
        {
          "output_type": "stream",
          "text": [
            "Value Counts:\n",
            " white                          232374\n",
            "paduaCryptoWall                 24780\n",
            "montrealCryptoLocker            18630\n",
            "princetonCerber                 18446\n",
            "princetonLocky                  13250\n",
            "montrealCryptXXX                 4838\n",
            "montrealNoobCrypt                 966\n",
            "montrealDMALockerv3               708\n",
            "montrealDMALocker                 502\n",
            "montrealSamSam                    124\n",
            "montrealCryptoTorLocker2015       110\n",
            "montrealGlobeImposter             110\n",
            "montrealGlobev3                    68\n",
            "montrealGlobe                      64\n",
            "montrealWannaCry                   56\n",
            "montrealRazy                       26\n",
            "montrealAPT                        22\n",
            "paduaKeRanger                      20\n",
            "montrealFlyper                     18\n",
            "montrealXTPLocker                  16\n",
            "montrealCryptConsole               14\n",
            "montrealXLockerv5.0                14\n",
            "montrealVenusLocker                14\n",
            "montrealEDA2                       12\n",
            "montrealJigSaw                      8\n",
            "paduaJigsaw                         4\n",
            "montrealXLocker                     2\n",
            "montrealComradeCircle               2\n",
            "montrealSam                         2\n",
            "Name: label, dtype: int64\n",
            "Total labels:  29\n"
          ],
          "name": "stdout"
        }
      ]
    },
    {
      "cell_type": "markdown",
      "metadata": {
        "id": "OvMXQ_6Wbpja"
      },
      "source": [
        "Log Transformations [Run only once :)]"
      ]
    },
    {
      "cell_type": "code",
      "metadata": {
        "colab": {
          "base_uri": "https://localhost:8080/"
        },
        "id": "VflD4vAtbRBe",
        "outputId": "8e60a6ed-411c-4a1b-9d74-e0173a7faaba"
      },
      "source": [
        "import numpy as np\n",
        "eps = 0.001\n",
        "data['income'] = np.log(data.pop('income')+eps)\n",
        "data['weight'] = np.log(data.pop('weight')+eps)\n",
        "data['count'] = np.log(data.pop('count')+eps)\n",
        "data['looped'] = np.log(data.pop('looped')+eps)\n",
        "data['neighbors'] = np.log(data.pop('neighbors')+eps)\n",
        "data['length'] = np.log(data.pop('length')+eps)\n",
        "data['day'] = np.log(data.pop('day')+eps)\n",
        "\n",
        "print(data['length'].min())\n",
        "print(data['length'].max())\n",
        "print(data['count'].min())\n",
        "print(data['count'].max())\n",
        "print(data.looped.min())\n",
        "print(data.looped.max())\n",
        "print(data.neighbors.min())\n",
        "print(data.neighbors.max())\n",
        "print(data.income.min())\n",
        "print(data.income.max())\n",
        "print(data.weight.min())\n",
        "print(data.weight.max())"
      ],
      "execution_count": null,
      "outputs": [
        {
          "output_type": "stream",
          "text": [
            "-6.907755278982137\n",
            "4.969820243996333\n",
            "0.0009995003330834232\n",
            "9.581628097267306\n",
            "-6.907755278982137\n",
            "9.581628097267306\n",
            "0.0009995003330834232\n",
            "7.340836202631495\n",
            "17.216707939659763\n",
            "31.536556508367305\n",
            "-6.907755278982137\n",
            "6.211181285295772\n"
          ],
          "name": "stdout"
        }
      ]
    },
    {
      "cell_type": "code",
      "metadata": {
        "colab": {
          "base_uri": "https://localhost:8080/"
        },
        "id": "dqxi_7fcbm6p",
        "outputId": "242335e0-690e-4c51-c22f-b4abc2aa79e8"
      },
      "source": [
        "print(data)"
      ],
      "execution_count": null,
      "outputs": [
        {
          "output_type": "stream",
          "text": [
            "        year            label     income  ...  neighbors    length       day\n",
            "0       2017  princetonCerber  18.421181  ...   0.693647  2.890427  2.397986\n",
            "1       2016   princetonLocky  18.420681  ...   0.001000  3.784212  4.882809\n",
            "2       2016  princetonCerber  19.113828  ...   0.693647 -6.907755  5.505336\n",
            "3       2016  princetonCerber  18.081003  ...   0.693647  4.276680  5.774555\n",
            "4       2016   princetonLocky  19.113828  ...   0.001000  4.969820  5.472275\n",
            "...      ...              ...        ...  ...        ...       ...       ...\n",
            "315195  2018            white  21.640828  ...   0.693647 -6.907755  5.799096\n",
            "315196  2018            white  20.723266  ...   0.693647 -6.907755  5.799096\n",
            "315197  2018            white  19.519293  ...   0.001000  1.791926  5.799096\n",
            "315198  2018            white  21.040079  ...   0.693647 -6.907755  5.799096\n",
            "315199  2018            white  21.597824  ...   0.693647  1.791926  5.799096\n",
            "\n",
            "[315200 rows x 9 columns]\n"
          ],
          "name": "stdout"
        }
      ]
    },
    {
      "cell_type": "code",
      "metadata": {
        "id": "0-cryWPC5Hrh",
        "colab": {
          "base_uri": "https://localhost:8080/"
        },
        "outputId": "83a07d36-0084-4033-a8d0-1ed36ee809f1"
      },
      "source": [
        "from sklearn.preprocessing import LabelEncoder\n",
        "le = LabelEncoder()\n",
        "data['label'] = le.fit_transform(data['label'])\n",
        "data['label'].unique()"
      ],
      "execution_count": null,
      "outputs": [
        {
          "output_type": "execute_result",
          "data": {
            "text/plain": [
              "array([26, 27,  4,  3, 23, 19,  7,  5, 17,  9, 14,  6, 10,  8, 25, 18, 22,\n",
              "       24, 12, 13, 21, 20, 15,  2, 11, 16,  1,  0, 28])"
            ]
          },
          "metadata": {
            "tags": []
          },
          "execution_count": 7
        }
      ]
    },
    {
      "cell_type": "code",
      "metadata": {
        "id": "875Ay7Y-6vOx",
        "colab": {
          "base_uri": "https://localhost:8080/"
        },
        "outputId": "44d9a429-cf52-4029-8076-4407e0c4212b"
      },
      "source": [
        "le.classes_"
      ],
      "execution_count": null,
      "outputs": [
        {
          "output_type": "execute_result",
          "data": {
            "text/plain": [
              "array(['montrealAPT', 'montrealComradeCircle', 'montrealCryptConsole',\n",
              "       'montrealCryptXXX', 'montrealCryptoLocker',\n",
              "       'montrealCryptoTorLocker2015', 'montrealDMALocker',\n",
              "       'montrealDMALockerv3', 'montrealEDA2', 'montrealFlyper',\n",
              "       'montrealGlobe', 'montrealGlobeImposter', 'montrealGlobev3',\n",
              "       'montrealJigSaw', 'montrealNoobCrypt', 'montrealRazy',\n",
              "       'montrealSam', 'montrealSamSam', 'montrealVenusLocker',\n",
              "       'montrealWannaCry', 'montrealXLocker', 'montrealXLockerv5.0',\n",
              "       'montrealXTPLocker', 'paduaCryptoWall', 'paduaJigsaw',\n",
              "       'paduaKeRanger', 'princetonCerber', 'princetonLocky', 'white'],\n",
              "      dtype=object)"
            ]
          },
          "metadata": {
            "tags": []
          },
          "execution_count": 8
        }
      ]
    },
    {
      "cell_type": "code",
      "metadata": {
        "id": "K7_N9Nxh-Iga"
      },
      "source": [
        "X = data.loc[:, data.columns != 'label']\n",
        "y = data['label']"
      ],
      "execution_count": null,
      "outputs": []
    },
    {
      "cell_type": "code",
      "metadata": {
        "id": "HCkpJAHH-0Ob",
        "colab": {
          "base_uri": "https://localhost:8080/"
        },
        "outputId": "81b88394-6450-4f9c-ed3a-14ea164a7fa9"
      },
      "source": [
        "print(X)"
      ],
      "execution_count": null,
      "outputs": [
        {
          "output_type": "stream",
          "text": [
            "        year     income    weight  ...  neighbors    length       day\n",
            "0       2017  18.421181 -4.674163  ...   0.693647  2.890427  2.397986\n",
            "1       2016  18.420681 -6.689310  ...   0.001000  3.784212  4.882809\n",
            "2       2016  19.113828  0.001000  ...   0.693647 -6.907755  5.505336\n",
            "3       2016  18.081003 -5.317245  ...   0.693647  4.276680  5.774555\n",
            "4       2016  19.113828 -2.605741  ...   0.001000  4.969820  5.472275\n",
            "...      ...        ...       ...  ...        ...       ...       ...\n",
            "315195  2018  21.640828 -2.188265  ...   0.693647 -6.907755  5.799096\n",
            "315196  2018  20.723266 -0.691149  ...   0.693647 -6.907755  5.799096\n",
            "315197  2018  19.519293 -3.858840  ...   0.001000  1.791926  5.799096\n",
            "315198  2018  21.040079 -1.095617  ...   0.693647 -6.907755  5.799096\n",
            "315199  2018  21.597824  0.001000  ...   0.693647  1.791926  5.799096\n",
            "\n",
            "[315200 rows x 8 columns]\n"
          ],
          "name": "stdout"
        }
      ]
    },
    {
      "cell_type": "code",
      "metadata": {
        "id": "Qthroz8_-5DK",
        "colab": {
          "base_uri": "https://localhost:8080/"
        },
        "outputId": "6e6e4119-0bd3-4c50-8e80-d53dc7e71b66"
      },
      "source": [
        "print(y)"
      ],
      "execution_count": null,
      "outputs": [
        {
          "output_type": "stream",
          "text": [
            "0         26\n",
            "1         27\n",
            "2         26\n",
            "3         26\n",
            "4         27\n",
            "          ..\n",
            "315195    28\n",
            "315196    28\n",
            "315197    28\n",
            "315198    28\n",
            "315199    28\n",
            "Name: label, Length: 315200, dtype: int64\n"
          ],
          "name": "stdout"
        }
      ]
    },
    {
      "cell_type": "code",
      "metadata": {
        "id": "j3TKd_v59b8L"
      },
      "source": [
        "from sklearn.preprocessing import StandardScaler\n",
        "sc = StandardScaler()\n",
        "X = sc.fit_transform(X)"
      ],
      "execution_count": null,
      "outputs": []
    },
    {
      "cell_type": "code",
      "metadata": {
        "id": "pzXebw--_imK"
      },
      "source": [
        "from sklearn.model_selection import train_test_split\n",
        "X_train, X_test, y_train, y_test = train_test_split(X, y , test_size = 0.2, random_state = 2020,stratify = y)"
      ],
      "execution_count": null,
      "outputs": []
    },
    {
      "cell_type": "code",
      "metadata": {
        "id": "qJwWPkUX_wXB",
        "colab": {
          "base_uri": "https://localhost:8080/"
        },
        "outputId": "aec07e5d-35f0-4671-d5b6-6c8c616db4c0"
      },
      "source": [
        "print(len(X_train))\n",
        "print(len(X_test))\n",
        "print(len(y_train))\n",
        "print(len(y_test))"
      ],
      "execution_count": null,
      "outputs": [
        {
          "output_type": "stream",
          "text": [
            "252160\n",
            "63040\n",
            "252160\n",
            "63040\n"
          ],
          "name": "stdout"
        }
      ]
    },
    {
      "cell_type": "code",
      "metadata": {
        "id": "sdY1VF1lvynL",
        "colab": {
          "base_uri": "https://localhost:8080/"
        },
        "outputId": "7328357d-ef01-4186-ffce-9f2f7829789e"
      },
      "source": [
        "from sklearn.ensemble import ExtraTreesClassifier\n",
        "#model = ExtraTreesClassifier()\n",
        "model = ExtraTreesClassifier(max_features='log2',min_samples_split=3)\n",
        "model.fit(X_train, y_train)"
      ],
      "execution_count": null,
      "outputs": [
        {
          "output_type": "execute_result",
          "data": {
            "text/plain": [
              "ExtraTreesClassifier(bootstrap=False, ccp_alpha=0.0, class_weight=None,\n",
              "                     criterion='gini', max_depth=None, max_features='auto',\n",
              "                     max_leaf_nodes=None, max_samples=None,\n",
              "                     min_impurity_decrease=0.0, min_impurity_split=None,\n",
              "                     min_samples_leaf=1, min_samples_split=2,\n",
              "                     min_weight_fraction_leaf=0.0, n_estimators=100,\n",
              "                     n_jobs=None, oob_score=False, random_state=None, verbose=0,\n",
              "                     warm_start=False)"
            ]
          },
          "metadata": {
            "tags": []
          },
          "execution_count": 33
        }
      ]
    },
    {
      "cell_type": "markdown",
      "metadata": {
        "id": "rtouWTyFi_2o"
      },
      "source": [
        "---\n",
        "\n",
        "\n",
        "Uncoment & run only once!!!\n",
        "\n",
        "\n",
        "---\n",
        "\n",
        "\n",
        "\n"
      ]
    },
    {
      "cell_type": "code",
      "metadata": {
        "id": "ZBVrRlLtdcIr"
      },
      "source": [
        "#Not present in test set & RUN ONLY ONCE\n",
        "'''test_labels = np.delete(classes, [21,25,26])    \n",
        "print(test_labels)'''"
      ],
      "execution_count": null,
      "outputs": []
    },
    {
      "cell_type": "code",
      "metadata": {
        "id": "RlEkzz8hvy5r",
        "colab": {
          "base_uri": "https://localhost:8080/"
        },
        "outputId": "8a6a98b8-eaa4-4f3b-e0fa-ac380bdd9f52"
      },
      "source": [
        "# make predictions\n",
        "predictions = model.predict(X_test)\n",
        "from sklearn.metrics import mean_absolute_error, accuracy_score, f1_score, recall_score, precision_score\n",
        "mae = mean_absolute_error(y_test, predictions)\n",
        "acc = accuracy_score(y_test, predictions)\n",
        "f1_score = f1_score(y_test, predictions,average='weighted')\n",
        "recall = recall_score(y_test, predictions,average='weighted')\n",
        "precision = precision_score(y_test, predictions,average='weighted')\n",
        "print(\"Mean Absolute Error : \",mae)\n",
        "print(\"Accuracy: \",acc)\n",
        "print(\"Recall: \",recall)\n",
        "print(\"Precision: \",precision)\n",
        "print(\"F1-score: \",f1_score)"
      ],
      "execution_count": null,
      "outputs": [
        {
          "output_type": "stream",
          "text": [
            "Mean Absolute Error :  0.5364213197969543\n",
            "Accuracy:  0.9509041878172588\n",
            "Recall:  0.9509041878172588\n",
            "Precision:  0.9521835544420794\n",
            "F1-score:  0.9512293315704525\n"
          ],
          "name": "stdout"
        }
      ]
    },
    {
      "cell_type": "code",
      "metadata": {
        "id": "h_RC3jUVBfwb",
        "colab": {
          "base_uri": "https://localhost:8080/"
        },
        "outputId": "e3251342-870f-45ae-a29e-c8f9ed21b170"
      },
      "source": [
        "from sklearn.metrics import classification_report\n",
        "classification_metrics = classification_report(y_test, predictions, target_names=test_labels, digits = 4)\n",
        "print(classification_metrics)"
      ],
      "execution_count": null,
      "outputs": [
        {
          "output_type": "stream",
          "text": [
            "                             precision    recall  f1-score   support\n",
            "\n",
            "            princetonCerber     1.0000    1.0000    1.0000         4\n",
            "             princetonLocky     1.0000    1.0000    1.0000         3\n",
            "       montrealCryptoLocker     0.9503    0.9669    0.9585       968\n",
            "           montrealCryptXXX     0.8647    0.8867    0.8756      3726\n",
            "            paduaCryptoWall     1.0000    0.7273    0.8421        22\n",
            "           montrealWannaCry     0.9111    0.8200    0.8632       100\n",
            "        montrealDMALockerv3     0.8943    0.7746    0.8302       142\n",
            "montrealCryptoTorLocker2015     1.0000    1.0000    1.0000         2\n",
            "             montrealSamSam     1.0000    1.0000    1.0000         4\n",
            "             montrealFlyper     1.0000    0.6923    0.8182        13\n",
            "          montrealNoobCrypt     0.9412    0.7273    0.8205        22\n",
            "          montrealDMALocker     1.0000    0.7857    0.8800        14\n",
            "              montrealGlobe     1.0000    1.0000    1.0000         2\n",
            "               montrealEDA2     0.8563    0.7720    0.8120       193\n",
            "              paduaKeRanger     0.8333    1.0000    0.9091         5\n",
            "        montrealVenusLocker     0.8400    0.8400    0.8400        25\n",
            "          montrealXTPLocker     1.0000    1.0000    1.0000         3\n",
            "                paduaJigsaw     1.0000    1.0000    1.0000        11\n",
            "            montrealGlobev3     1.0000    1.0000    1.0000         3\n",
            "             montrealJigSaw     1.0000    0.3333    0.5000         3\n",
            "        montrealXLockerv5.0     0.8663    0.9423    0.9027      4956\n",
            "               montrealRazy     1.0000    1.0000    1.0000         1\n",
            "       montrealCryptConsole     1.0000    1.0000    1.0000         4\n",
            "      montrealGlobeImposter     0.8969    0.9385    0.9172      3689\n",
            "                montrealAPT     0.9075    0.9702    0.9378      2650\n",
            "                      white     0.9760    0.9585    0.9672     46475\n",
            "\n",
            "                   accuracy                         0.9509     63040\n",
            "                  macro avg     0.9515    0.8898    0.9105     63040\n",
            "               weighted avg     0.9522    0.9509    0.9512     63040\n",
            "\n"
          ],
          "name": "stdout"
        }
      ]
    },
    {
      "cell_type": "code",
      "metadata": {
        "id": "2rt9c7usErZn",
        "colab": {
          "base_uri": "https://localhost:8080/"
        },
        "outputId": "59f9e830-d7d2-4154-942b-1564dea2b71b"
      },
      "source": [
        "from sklearn.model_selection import GridSearchCV,StratifiedKFold\n",
        "from sklearn.ensemble import ExtraTreesClassifier\n",
        "\n",
        "model = ExtraTreesClassifier()\n",
        "\n",
        "parameters = {'bootstrap':[True,False], # false shows best accuracy\n",
        "              'ccp_alpha':[0.0], #default value\n",
        "              'class_weight':[None], #default value\n",
        "             'max_depth':[None],      #default value        \n",
        "             'max_features':['log2','auto'], #log2 91.77\n",
        "              'max_leaf_nodes':[None], #default value\n",
        "              'max_samples':[None], #default value\n",
        "              'min_impurity_decrease':[0.0], #default value\n",
        "              'min_samples_split':[1,2,3,4],  #2->4->3\n",
        "              'min_weight_fraction_leaf':[0.0,0.2,0.5] #default value\n",
        "              'random_state':[0,42] #default value (only set if bootstrap true)\n",
        "              'max_samples':[0.1,0.7,0.5,2,3,4] #default value (only set if bootstrap true)\n",
        "              }\n",
        "              \n",
        "\n",
        "\n",
        "clf = GridSearchCV(model, parameters,\n",
        "                   cv=StratifiedKFold(n_splits=4), \n",
        "                   scoring='accuracy',\n",
        "                   verbose=2, refit=True)\n",
        "\n",
        "clf.fit(X_train,y_train)"
      ],
      "execution_count": null,
      "outputs": [
        {
          "output_type": "stream",
          "text": [
            "Fitting 4 folds for each of 2 candidates, totalling 8 fits\n",
            "[CV] bootstrap=True, max_features=log2, max_samples=0.9, min_samples_split=3, random_state=0 \n"
          ],
          "name": "stdout"
        },
        {
          "output_type": "stream",
          "text": [
            "/usr/local/lib/python3.6/dist-packages/sklearn/model_selection/_split.py:667: UserWarning: The least populated class in y has only 2 members, which is less than n_splits=4.\n",
            "  % (min_groups, self.n_splits)), UserWarning)\n",
            "[Parallel(n_jobs=1)]: Using backend SequentialBackend with 1 concurrent workers.\n"
          ],
          "name": "stderr"
        },
        {
          "output_type": "stream",
          "text": [
            "[CV]  bootstrap=True, max_features=log2, max_samples=0.9, min_samples_split=3, random_state=0, total=  20.2s\n",
            "[CV] bootstrap=True, max_features=log2, max_samples=0.9, min_samples_split=3, random_state=0 \n"
          ],
          "name": "stdout"
        },
        {
          "output_type": "stream",
          "text": [
            "[Parallel(n_jobs=1)]: Done   1 out of   1 | elapsed:   20.2s remaining:    0.0s\n"
          ],
          "name": "stderr"
        },
        {
          "output_type": "stream",
          "text": [
            "[CV]  bootstrap=True, max_features=log2, max_samples=0.9, min_samples_split=3, random_state=0, total=  17.5s\n",
            "[CV] bootstrap=True, max_features=log2, max_samples=0.9, min_samples_split=3, random_state=0 \n",
            "[CV]  bootstrap=True, max_features=log2, max_samples=0.9, min_samples_split=3, random_state=0, total=  17.8s\n",
            "[CV] bootstrap=True, max_features=log2, max_samples=0.9, min_samples_split=3, random_state=0 \n",
            "[CV]  bootstrap=True, max_features=log2, max_samples=0.9, min_samples_split=3, random_state=0, total=  17.5s\n",
            "[CV] bootstrap=False, max_features=log2, min_samples_split=3 .........\n",
            "[CV]  bootstrap=False, max_features=log2, min_samples_split=3, total=  24.9s\n",
            "[CV] bootstrap=False, max_features=log2, min_samples_split=3 .........\n",
            "[CV]  bootstrap=False, max_features=log2, min_samples_split=3, total=  23.9s\n",
            "[CV] bootstrap=False, max_features=log2, min_samples_split=3 .........\n",
            "[CV]  bootstrap=False, max_features=log2, min_samples_split=3, total=  23.9s\n",
            "[CV] bootstrap=False, max_features=log2, min_samples_split=3 .........\n",
            "[CV]  bootstrap=False, max_features=log2, min_samples_split=3, total=  24.0s\n"
          ],
          "name": "stdout"
        },
        {
          "output_type": "stream",
          "text": [
            "[Parallel(n_jobs=1)]: Done   8 out of   8 | elapsed:  2.9min finished\n"
          ],
          "name": "stderr"
        },
        {
          "output_type": "execute_result",
          "data": {
            "text/plain": [
              "GridSearchCV(cv=StratifiedKFold(n_splits=4, random_state=None, shuffle=False),\n",
              "             error_score=nan,\n",
              "             estimator=ExtraTreesClassifier(bootstrap=False, ccp_alpha=0.0,\n",
              "                                            class_weight=None, criterion='gini',\n",
              "                                            max_depth=None, max_features='auto',\n",
              "                                            max_leaf_nodes=None,\n",
              "                                            max_samples=None,\n",
              "                                            min_impurity_decrease=0.0,\n",
              "                                            min_impurity_split=None,\n",
              "                                            min_samples_leaf=1,\n",
              "                                            min_samples_split=2,\n",
              "                                            m...\n",
              "                                            oob_score=False, random_state=None,\n",
              "                                            verbose=0, warm_start=False),\n",
              "             iid='deprecated', n_jobs=None,\n",
              "             param_grid=[{'bootstrap': [True], 'max_features': ['log2'],\n",
              "                          'max_samples': [0.9], 'min_samples_split': [3],\n",
              "                          'random_state': [0]},\n",
              "                         {'bootstrap': [False], 'max_features': ['log2'],\n",
              "                          'min_samples_split': [3]}],\n",
              "             pre_dispatch='2*n_jobs', refit=True, return_train_score=False,\n",
              "             scoring='accuracy', verbose=2)"
            ]
          },
          "metadata": {
            "tags": []
          },
          "execution_count": 20
        }
      ]
    },
    {
      "cell_type": "code",
      "metadata": {
        "id": "apjaE7U1K21T",
        "colab": {
          "base_uri": "https://localhost:8080/"
        },
        "outputId": "b62439cb-50e5-4e4c-9bae-f7cf992bc5c9"
      },
      "source": [
        "print(clf.best_score_)\n",
        "print(clf.best_params_)"
      ],
      "execution_count": null,
      "outputs": [
        {
          "output_type": "stream",
          "text": [
            "0.9253291560913706\n",
            "{'bootstrap': False, 'max_features': 'log2', 'min_samples_split': 3}\n"
          ],
          "name": "stdout"
        }
      ]
    },
    {
      "cell_type": "markdown",
      "metadata": {
        "id": "WmNO8rQbe2gc"
      },
      "source": [
        "max depth: 1\n",
        "max leaf nodes :10/4/2\n",
        "n_estimators:50/10/1"
      ]
    }
  ]
}